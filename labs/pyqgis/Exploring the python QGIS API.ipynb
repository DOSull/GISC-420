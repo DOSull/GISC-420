{
 "cells": [
  {
   "cell_type": "markdown",
   "metadata": {},
   "source": [
    "#### GISC 420 T1 2021\n",
    "# Exploring `python` in *QGIS*\n",
    "In this notebook we look at some of the ways that `python` can be used to automate operations in *QGIS*. Similar capabilities are available in the ESRI Arc platform.\n",
    "\n",
    "Note that this is a huge topic and this session is only intended to give you the most basic of introductions. Doing anything much beyond very simple manipulations of layers in an automated fashion via the programming APIs for these platforms is challenging. Processing workflows using the tools in the respective toolboxes can be more easily automated, and this can even be done without any programming at all! \n",
    "\n",
    "For these reasons, this material focuses on \n",
    "+ Using [the python console in QGIS](#The-python-console-in-QGIS), and\n",
    "+ Automating workflows with [Model Designer in QGIS](#Model-designer-in-QGIS)\n",
    "\n",
    "Unfortunately [building plugins in QGIS](#Building-plugins-in-QGIS) is a more advanced topic, which we don't have time for, although we will also briefly look at a couple of examples."
   ]
  },
  {
   "cell_type": "markdown",
   "metadata": {},
   "source": [
    "### Before we start\n",
    "To explore the possibilities that all this opens up we will open up QGIS and play around with some code in the console. To get set up for this we will first add a Web Feature Service (WFS) layer to a project. We will add a layer from GNS. The information about the available services is available on [this page](https://maps.gns.cri.nz/).\n",
    "\n",
    "To add their WFS catalogue do **Layer - Add Layer - Add WFS Layer...**, then select **New** and provide this URL:\n",
    "\n",
    "    https://maps.gns.cri.nz/geology/wfs\n",
    "\n",
    "along with a name ('GNS WFS' will do). Then click **OK** then **Close**.\n",
    "\n",
    "<img src=\"add-a-WFS.png\" width=\"300\">\n",
    "\n",
    "In the **Browser** part of the user interface you should now see under the **WFS / OGC API - Features** an entry for the service you just added. Open the list of available layers with the (tiny) right-arrow button and right-click the layer called *NZL_GNS_250K_faults* (it's near the bottom of the list) and select **Add Layer to Project**. The layer should appear in the project table of contents.\n",
    "\n",
    "This can be styled from the **Properties** dialogue just like any other layer."
   ]
  },
  {
   "cell_type": "markdown",
   "metadata": {},
   "source": [
    "## The python console in QGIS\n",
    "The first thing to realise is that python is _right there_ in QGIS. Select **Plugins - Python Console** from the main menubar. To see it. It will open up somewhere in the window (you may find it easier to work with if you detach it from the main window. \n",
    "\n",
    "<img src=\"python-console.png\" width=\"600\">\n",
    "\n",
    "You can also change the font size by right-clicking in the upper part of the dialog and selecting **Options** then changing fonts (or other options) in the **Code Editor section**.\n",
    "\n"
   ]
  },
  {
   "cell_type": "markdown",
   "metadata": {},
   "source": [
    "### Hey, there's `python`, right there!\n",
    "The lower part of this display with the `>>>` prompt is where you can type commands. Try an oldie-but-goodie \n",
    "\n",
    "    >>> print(\"Hello, World!\")\n",
    "    \n",
    "just as you would in *IDLE*, or in a `python` shell. \n",
    "\n",
    "What's different here is that because we are running inside *QGIS* core `pyqgis` modules are loaded. Try this\n",
    "\n",
    "    >>> layer = iface.activeLayer()\n",
    "    >>> layer.sourceName()\n",
    "    \n",
    "You should get the response in the upper half of the console\n",
    "\n",
    "    'NZL_GNS_250K_faults'\n",
    "    \n",
    "If not, check you set things up correctly as described in the previous section. `iface` refers to the interface, and the `activeLayer()` function returns an object representing the active layer, which in our project is the only layer loaded. Now try\n",
    "\n",
    "    >>> layer\n",
    "\n",
    "This time you should get\n",
    "\n",
    "    <QgsVectorLayer: 'NZL_GNS_250K_faults' (WFS)>\n",
    "    \n",
    "which tells us that `layer` is an instance of the `QgsVectorLayer` class... and so it begins. Let's fire up the documentation and see what that means. Click this link: [https://qgis.org/pyqgis/master/core/QgsVectorLayer.html](https://qgis.org/pyqgis/master/core/QgsVectorLayer.html). \n",
    "\n",
    "You should find yourself in the documentation for the python API to *QGIS* which is called `pyqgis`. \n",
    "\n",
    "*QGIS* itself is written in C++ but it can be automated using the python API. And ugh how complicated is it?! Very complicated is how complicated it is.\n",
    "\n",
    "We can see for example, that the `QgsVectorLayer` class can do a lot of things, but almost all of them involve digging ever deeper into the documentation until you run into something you recognise!\n",
    "\n",
    "Anyway..."
   ]
  },
  {
   "cell_type": "markdown",
   "metadata": {},
   "source": [
    "### Let's try a few things\n",
    "How about we count the features in the layer:\n",
    "\n",
    "    >>> layer.featureCount()\n",
    "    \n",
    "That was easy. How about we add together their lengths? Inspection of the layer tells us there is an attribute called `length`, so we could do this:\n",
    "\n",
    "    >>> lengths = []\n",
    "    >>> for fault in layer.getFeatures():\n",
    "            lengths.append(fault.attribute(\"length\")\n",
    "    >>> print(sum(lengths))\n",
    "\n",
    "You'll start to see the limations of the console here. You have to indent by hand (it doesn't do it automatically), and it's fiddly as all get out given how enthusiastic the console is to 'help' with information about class names and so forth. But if you get past all that it works. Another option is to open an editor window and prepare more complicated chunks of code there. The editor is accessed by right-clicking **Show Editor** in the upper part of the console.\n",
    "\n",
    "Of course the above code isn't totally programmatic, since it didn't get a list of the field names and work from there. We could write code to also do that:\n",
    "\n",
    "    >>> for fld in layer.fields():\n",
    "            print(fld.name())\n",
    "            \n",
    "and you can perhaps imagine how more complicated code could be developed to automatically manage and manipulate the layers in a project in a variety of more or less complicated ways."
   ]
  },
  {
   "cell_type": "markdown",
   "metadata": {},
   "source": [
    "### One more trick, just for fun    \n",
    "If you issue the following rather convoluted command:\n",
    "\n",
    "    >>> iface.addVectorLayer(\"https://maps.gns.cri.nz/geology/wfs?&REQUEST=GetFeaturesTYPENAME=gns:NZL_GNS_1M_geological_units&SRSNAME=EPSG:4326\", \"Geological Units\", \"WFS\")\n",
    "    \n",
    "You should see an new layer get 'automagically' added to the project table of contents."
   ]
  },
  {
   "cell_type": "markdown",
   "metadata": {},
   "source": [
    "## Model Designer in QGIS\n",
    "The above all seems pretty great (sort of) but many tasks we might wish to automate already have tools (in the toolbox) that can accomplish them fairly readily, and all we need to do is chain them together correctly. That's exactly what the Model Designer in *QGIS* (or the Model Builder in *ArcGIS*) is for, so we'll look at that now, using a couple of examples to show some of the pros and cons. "
   ]
  },
  {
   "cell_type": "markdown",
   "metadata": {},
   "source": [
    "### A straightforward example\n",
    "One of the 'mini-project' ideas suggests looking at building [Voronoi (proximity) polygons for shapes not limited to points](https://github.com/DOSull/GISC-420/tree/master/labs/mini-projects#multitype-voronoi). Here is a QGIS model that can do this for polygons:\n",
    "\n",
    "<img src=\"voronoi/polygon-voronoi-model.png\">\n",
    "\n",
    "Let's see how this is assembled. To do that, we'll open a QGIS project with this [dataset of buildings](voronoi/buildings.gpkg?raw=true)."
   ]
  },
  {
   "cell_type": "markdown",
   "metadata": {},
   "source": [
    "### A more complicated example\n",
    "Wow! That was easy! \n",
    "\n",
    "Unfortunately, it's not always so straightforward. Another example is a model to generate travel time isochrones from a set of transit stops (bus stops say). This looks simpler than the previous case:\n",
    "\n",
    "<img src=\"transit/isochrone-builder-model.png\">\n",
    "\n",
    "This time, rather than build it on the fly, we'll look at an [example model I have already built](transit/route-29.qgz?raw=true), and how things can get messy..."
   ]
  },
  {
   "cell_type": "markdown",
   "metadata": {},
   "source": [
    "### Here's some `python` code that can make isochrones\n",
    "I probably wouldn't do either of these tasks using Model Designer (or for that matter Model Builder in Arc). \n",
    "Instead I'd write `python` code or perhaps use *R*.\n",
    "\n",
    "Below is how I would do it (or could do it) in `python`."
   ]
  },
  {
   "cell_type": "code",
   "execution_count": 1,
   "metadata": {},
   "outputs": [],
   "source": [
    "# first make some simple functions \n",
    "# to do the calculations - note inclusion of default values\n",
    "def get_walk_time(tt, budget=60):\n",
    "    if tt < budget:\n",
    "        return budget - tt\n",
    "    else:\n",
    "        return 0\n",
    "\n",
    "def get_walk_distance(wt, speed=40):\n",
    "    return wt * speed"
   ]
  },
  {
   "cell_type": "markdown",
   "metadata": {},
   "source": [
    "Now get the data and `pandas.apply` these functions to make the necessary walk distance variable"
   ]
  },
  {
   "cell_type": "code",
   "execution_count": 2,
   "metadata": {},
   "outputs": [
    {
     "name": "stderr",
     "output_type": "stream",
     "text": [
      "/home/osullid3/anaconda3/envs/g420/lib/python3.8/site-packages/geopandas/geodataframe.py:422: RuntimeWarning: Sequential read of iterator was interrupted. Resetting iterator. This can negatively impact the performance.\n",
      "  for feature in features_lst:\n"
     ]
    }
   ],
   "source": [
    "import geopandas\n",
    "\n",
    "stops = geopandas.read_file(\"transit/route-29-stops-at-night-times.gpkg\")\n",
    "stops['walk_time'] = stops.travel_time.apply(get_walk_time)\n",
    "stops['walk_distance'] = stops.walk_time.apply(get_walk_distance)"
   ]
  },
  {
   "cell_type": "markdown",
   "metadata": {},
   "source": [
    "And we are basically done - just supply the walk distance values as the distance to the `geopandas.GeoSeries.buffer()` function and use `unary_union` to merge them into a single shape "
   ]
  },
  {
   "cell_type": "code",
   "execution_count": 3,
   "metadata": {},
   "outputs": [
    {
     "data": {
      "image/svg+xml": [
       "<svg xmlns=\"http://www.w3.org/2000/svg\" xmlns:xlink=\"http://www.w3.org/1999/xlink\" width=\"300\" height=\"300\" viewBox=\"1745909.67120406 5419741.524759206 5920.652002521791 11888.80081444513\" preserveAspectRatio=\"xMinYMin meet\"><g transform=\"matrix(1,0,0,-1,0,10851371.850332856)\"><path fill-rule=\"evenodd\" fill=\"#66cc99\" stroke=\"#555555\" stroke-width=\"79.25867209630087\" opacity=\"0.6\" d=\"M 1748471.6570936565,5420467.131100052 L 1748455.4085959103,5420449.203645429 L 1748389.0357158277,5420389.046773466 L 1748317.0860347436,5420335.685253186 L 1748240.252467418,5420289.632985199 L 1748159.274963106,5420251.33347802 L 1748074.933379441,5420221.15557684 L 1747988.0399719796,5420199.389911344 L 1747899.431571736,5420186.24609679 L 1747809.9615260432,5420181.850715296 L 1747720.4914803505,5420186.24609679 L 1747631.883080107,5420199.389911344 L 1747559.6808545412,5420217.475627345 L 1747556.960751933,5420217.072138239 L 1747469.9999450326,5420212.800027742 L 1747383.0391381322,5420217.072138239 L 1747296.9158113399,5420229.847326969 L 1747212.4593793724,5420251.00256188 L 1747130.4832038383,5420280.334106498 L 1747051.7767601206,5420317.559482012 L 1746977.0980342976,5420362.320187707 L 1746907.1662233227,5420414.185153519 L 1746842.6548087639,5420472.654891473 L 1746784.1850708092,5420537.166306032 L 1746732.3201049978,5420607.098117007 L 1746687.5593993028,5420681.77684283 L 1746650.3340237886,5420760.4832865475 L 1746621.002479171,5420842.459462082 L 1746599.847244259,5420926.915894049 L 1746597.164746506,5420944.999824979 L 1746596.027463954,5420946.0305978 L 1746540.668379326,5421007.1099352995 L 1746491.5626858165,5421073.32129826 L 1746449.1832980982,5421144.027035063 L 1746413.9383528412,5421218.546210811 L 1746386.1672781357,5421296.161165103 L 1746366.137524612,5421376.124423504 L 1746354.041989746,5421457.6658961205 L 1746349.9971601507,5421540.000293997 L 1746354.041989746,5421622.334691874 L 1746366.137524612,5421703.87616449 L 1746386.1672781357,5421783.839422891 L 1746413.9383528412,5421861.454377184 L 1746449.1832980982,5421935.973552931 L 1746491.5626858165,5422006.679289734 L 1746540.668379326,5422072.890652695 L 1746596.027463954,5422133.969990194 L 1746644.0803963202,5422177.522629406 L 1746609.1661791077,5422209.167031336 L 1746564.351682028,5422258.612209312 L 1746524.599453949,5422312.211884089 L 1746490.2923305577,5422369.449861501 L 1746461.760708207,5422429.774908534 L 1746439.2793620168,5422492.60606201 L 1746423.0647996406,5422557.338223572 L 1746413.2731761776,5422623.347987118 L 1746409.9987903147,5422689.999642543 L 1746413.2731761776,5422756.651297967 L 1746423.0647996406,5422822.661061513 L 1746439.2793620168,5422887.393223075 L 1746461.760708207,5422950.224376551 L 1746483.6868907386,5422996.583394493 L 1746480.6228624173,5423005.1467799805 L 1746465.4384016509,5423065.766545396 L 1746456.2688342668,5423127.582747495 L 1746453.2024682115,5423190.000062456 L 1746456.2688342668,5423252.417377418 L 1746465.4384016509,5423314.233579516 L 1746480.6228624173,5423374.853344932 L 1746501.6759819083,5423433.692872186 L 1746526.4828013012,5423486.142485049 L 1746528.1589264562,5423520.260796377 L 1746537.0117060225,5423579.9413884785 L 1746551.6715780061,5423638.466878079 L 1746571.9973598265,5423695.273632721 L 1746597.793303093,5423749.814572304 L 1746628.8109787707,5423801.564437764 L 1746664.751669687,5423850.024849607 L 1746705.269247341,5423894.729107576 L 1746749.9735053105,5423935.246685231 L 1746798.4339171539,5423971.187376147 L 1746808.793539974,5423977.396695107 L 1746798.9071941026,5423998.299617217 L 1746780.6179577608,5424049.414608545 L 1746767.426934369,5424102.076125862 L 1746759.4611606929,5424155.777009971 L 1746756.797351488,5424210.000092002 L 1746759.4611606929,5424264.223174032 L 1746767.426934369,5424317.924058141 L 1746780.6179577608,5424370.585575459 L 1746798.9071941026,5424421.700566786 L 1746822.1185080505,5424470.776766813 L 1746850.0283619622,5424517.3415449085 L 1746882.3679686876,5424560.946456801 L 1746898.9091271854,5424579.196812805 L 1746888.6208889782,5424620.269762068 L 1746881.2598920455,5424669.893572547 L 1746878.7983243205,5424719.999934683 L 1746881.2598920455,5424770.106296819 L 1746888.6208889782,5424819.730107297 L 1746900.810424694,5424868.393461695 L 1746917.7111073006,5424915.627705308 L 1746939.1601739856,5424960.977946548 L 1746964.9510585114,5425004.007437802 L 1746976.6798093563,5425019.821827617 L 1746975.1972166363,5425050.00069573 L 1746977.5316611456,5425097.519405361 L 1746984.512512697,5425144.580483843 L 1746996.0725418734,5425190.730707263 L 1747012.1004192748,5425235.525623741 L 1747032.4417876801,5425278.533833743 L 1747056.900748592,5425319.341144698 L 1747085.2417488461,5425357.554559892 L 1747089.3662811595,5425362.10528003 L 1747087.3909780965,5425375.421691614 L 1747085.200991787,5425419.999887036 L 1747087.3909780965,5425464.578082458 L 1747093.9398462598,5425508.726965489 L 1747104.784527096,5425552.021358252 L 1747119.820580401,5425594.044312076 L 1747135.158453948,5425626.473521034 L 1747134.0026851457,5425649.999735474 L 1747142.2656941763,5425818.197148279 L 1747166.9751439737,5425984.774728053 L 1747171.3228049274,5426002.131563515 L 1747174.9741129365,5426076.455645485 L 1747152.7563317597,5426100.969189451 L 1747031.2080484922,5426264.858077389 L 1746926.3089735585,5426439.871610675 L 1746862.8203005241,5426574.107131522 L 1746767.521969859,5426733.1027906975 L 1746677.009593778,5426924.4751310805 L 1746605.6908290698,5427123.797725605 L 1746554.2525144257,5427329.150988725 L 1746523.190028934,5427538.55725626 L 1746520.0569152003,5427602.333251435 L 1746506.9611685919,5427654.614402511 L 1746480.2996299537,5427834.351896294 L 1746472.6328008792,5427864.959593672 L 1746439.7847840504,5428086.402935735 L 1746428.800182535,5428309.999636255 L 1746436.5055004864,5428466.844986355 L 1746427.5840616906,5428648.445044934 L 1746438.9057323388,5428878.902945276 L 1746472.7617104065,5429107.141410058 L 1746528.825944317,5429330.962378095 L 1746606.5585048501,5429548.21033111 L 1746705.2107849547,5429756.793052559 L 1746823.832709245,5429954.701776809 L 1746961.281883744,5430140.0305346595 L 1747116.2345977647,5430310.99450886 L 1747212.2026692075,5430397.974898728 L 1747292.9409756435,5430487.055892409 L 1747467.4533684985,5430645.224705631 L 1747656.6286912442,5430785.526687087 L 1747858.645082109,5430906.610651997 L 1748071.557012815,5431007.310495588 L 1748293.3140250805,5431086.656423318 L 1748521.7804776526,5431143.8842905285 L 1748754.7561137003,5431178.442961574 L 1748989.9972504913,5431189.999617561 L 1749225.2383872822,5431178.442961574 L 1749458.21402333,5431143.8842905285 L 1749686.680475902,5431086.656423318 L 1749908.4374881675,5431007.310495588 L 1750121.3494188737,5430906.610651997 L 1750323.3658097384,5430785.526687087 L 1750512.541132484,5430645.224705631 L 1750687.0535253389,5430487.055892409 L 1750845.222338562,5430312.543499554 L 1750985.5243200173,5430123.368176808 L 1751106.6082849274,5429921.351785943 L 1751207.3081285183,5429708.439855237 L 1751286.6540562485,5429486.682842972 L 1751343.881923459,5429258.216390399 L 1751378.4405945046,5429025.240754352 L 1751389.9972504913,5428789.999617561 L 1751378.4405945046,5428554.75848077 L 1751343.881923459,5428321.782844722 L 1751286.6540562485,5428093.31639215 L 1751207.3081285183,5427871.559379885 L 1751130.9096991026,5427710.02847249 L 1751145.604835777,5427668.958316819 L 1751192.3409273324,5427482.377380551 L 1751220.5638420195,5427292.113944446 L 1751230.001777742,5427100.0003494 L 1751220.5638420195,5426907.8867543535 L 1751192.3409273324,5426717.623318248 L 1751145.604835777,5426531.04238198 L 1751102.088460518,5426409.422260595 L 1751097.939147737,5426381.449865966 L 1751052.652828818,5426200.656746497 L 1750989.8637513407,5426025.173030791 L 1750910.1766084458,5425856.688722959 L 1750814.3588308804,5425696.8264189875 L 1750778.5460641924,5425648.538492999 L 1750686.2274015802,5425494.514109636 L 1750579.7859415787,5425350.9944149 L 1750565.3025921995,5425310.516165067 L 1750566.5981287074,5425305.344093408 L 1750590.1441032465,5425146.610026714 L 1750598.018038192,5424986.332398848 L 1750597.9762785616,5424985.482362042 L 1750601.2195785956,5424972.534382509 L 1750624.2874915183,5424817.023145447 L 1750632.0015593895,5424659.999686639 L 1750624.2874915183,5424502.976227831 L 1750601.2195785956,5424347.464990769 L 1750588.6230169297,5424297.176697693 L 1750589.8171270024,5424272.87002877 L 1750582.2956700644,5424119.767255574 L 1750559.8037349922,5423968.138945781 L 1750522.5579314162,5423819.4453628985 L 1750505.2304971963,5423771.018428426 L 1750498.6941452185,5423637.967927355 L 1750484.774629227,5423544.130172791 L 1750487.866150274,5423537.593700722 L 1750534.3099666387,5423407.791929543 L 1750567.8073449126,5423274.062899304 L 1750588.0356870312,5423137.694493671 L 1750589.8714779876,5423100.326110291 L 1750610.3427520029,5423018.600203284 L 1750630.167909626,5422884.949846737 L 1750636.0346925955,5422765.528735939 L 1750654.2989112367,5422642.401375246 L 1750660.803382448,5422509.999822089 L 1750654.2989112367,5422377.598268933 L 1750634.8481392167,5422246.47181511 L 1750602.638387955,5422117.883280054 L 1750557.9798549642,5421993.071041651 L 1750501.3026263297,5421873.237109985 L 1750433.152534746,5421759.535551326 L 1750354.1859028502,5421653.061373841 L 1750301.9450486333,5421595.422473426 L 1750287.5802949655,5421571.456329818 L 1750210.0166828842,5421466.87390556 L 1750176.6162061722,5421430.0221584 L 1750142.7776085855,5421373.565869069 L 1750104.831317646,5421267.513090481 L 1750051.9303331461,5421155.663356217 L 1749988.3208902467,5421049.537412216 L 1749914.6155826554,5420950.157309334 L 1749836.0127659284,5420863.432465462 L 1749828.5365950307,5420853.352015936 L 1749746.8160415322,5420763.187279627 L 1749656.6513052238,5420681.466726129 L 1749558.9107218052,5420608.977369043 L 1749454.5355865252,5420546.417320507 L 1749344.5310889937,5420494.389067984 L 1749229.9566326565,5420453.39367199 L 1749111.9156321608,5420423.825940599 L 1748991.5448868696,5420405.970627225 L 1748870.003632861,5420399.999688298 L 1748748.4623788523,5420405.970627225 L 1748628.091633561,5420423.825940599 L 1748510.0506330654,5420453.39367199 L 1748471.6570936565,5420467.131100052 z\" /></g></svg>"
      ],
      "text/plain": [
       "<shapely.geometry.polygon.Polygon at 0x7f8c2205fcd0>"
      ]
     },
     "execution_count": 3,
     "metadata": {},
     "output_type": "execute_result"
    }
   ],
   "source": [
    "def get_isochrone(s):\n",
    "    return s.geometry.buffer(s.walk_distance).unary_union\n",
    "\n",
    "get_isochrone(stops)"
   ]
  },
  {
   "cell_type": "markdown",
   "metadata": {},
   "source": [
    "What's nice about this is that iterating different time budgets is very easy:"
   ]
  },
  {
   "cell_type": "code",
   "execution_count": 4,
   "metadata": {},
   "outputs": [
    {
     "data": {
      "text/plain": [
       "<AxesSubplot:>"
      ]
     },
     "execution_count": 4,
     "metadata": {},
     "output_type": "execute_result"
    },
    {
     "data": {
      "image/png": "[encoded data removed]",
      "text/plain": [
       "<Figure size 432x288 with 1 Axes>"
      ]
     },
     "metadata": {
      "needs_background": "light"
     },
     "output_type": "display_data"
    }
   ],
   "source": [
    "# make an empty list for the isochrones\n",
    "isochrones = []\n",
    "times = [t for t in range(10, 70, 10)]\n",
    "for t in times:\n",
    "    stops.walk_time = stops.travel_time.apply(get_walk_time, budget = t)\n",
    "    stops.walk_distance = stops.walk_time.apply(get_walk_distance, speed = 40)\n",
    "    isochrones.append(get_isochrone(stops))\n",
    "    \n",
    "isochrones_gdf = geopandas.GeoDataFrame(data = {'times': times}, geometry = geopandas.GeoSeries(isochrones))\n",
    "isochrones_gdf.crs = stops.crs\n",
    "isochrones_gdf.plot(column = \"times\", cmap = \"viridis\", edgecolor = 'k', alpha = 0.35)"
   ]
  },
  {
   "cell_type": "markdown",
   "metadata": {},
   "source": [
    "## Building plugins in QGIS\n",
    "Full disclosure (and spoilers) I am not going to explain how to make plugins in QGIS. It's really beyond the scope of this course, and also runs into a few tricky issues with differences across operating systems, which make it kind of painful to introduce. But for the sake of completeness, here are some thoughts on this pathway for GIS customization.\n",
    "\n",
    "### What is a plugin anyway?\n",
    "First, we'll look at some examples, becore considering what a plugin really *is*.\n",
    "+ [QuickMapServices](https://nextgis.com/blog/quickmapservices/) for convenient web basemaps\n",
    "+ [qgis2web](https://github.com/tomchadwin/qgis2web) for making simple web maps\n",
    "+ ... and so on\n",
    "\n",
    "A plugin adds functionality to its 'host' application, in a more or less seamless way, usually well integrated into the main application interface. You can find more about them [here](https://plugins.qgis.org/). Using plugins an organisation can customise the general functionality to better fit their specific needs.\n",
    "\n",
    "Plugin developers have to program to a specification such that their code meets the expectations of the parent application and can just slot in like any other part of the base application. Behind that 'interface' plugin developers are free to deploy any other modules their plugin functionality requires. For example, it would be possible to deploy machine-learning tools from [sklearn](https://sklearn.org/) to analyse spatial data.\n",
    "\n",
    "However, it is tricky enough to develop plugins that it is important to consider whether or not they are the most appropriate mode of delivery for the functionality. For example it might be that standalone scripts, jupyter notebooks, or even standalone programs are a better fit. Often the biggest advantage of a plugin is that it reduces the demands on potential end users in terms of installing the various dependencies of the plugin. (This is offset by the challenges of integrating needed libraries into *QGIS* such that they don't interfere with the base python modules used by *QGIS*.)\n",
    "\n",
    "When significant user interaction is necessary (e.g. georectification) a plugin may be very clearly the best option.\n",
    "\n",
    "### Where can I get them?\n",
    "Already answered this question! Use **Plugins - Manage and Install Plugins...**.\n",
    "\n",
    "### How do I build one?\n",
    "That's where it gets messy. Online resources are your best friend here, along with a couple of books. Building applications with user interface elements is tricky and complicated. I might have more to say about this in years to come, but for now plugin development remains a bit of a mystery for me!"
   ]
  },
  {
   "cell_type": "markdown",
   "metadata": {},
   "source": [
    "## More resources\n",
    "+ I started into this with the excellent materials at [this University of Helsinki class](https://automating-gis-processes.github.io/site/lessons/L7/pyqgis.html)\n",
    "+ The [PyQGIS Developer cookbook](https://docs.qgis.org/3.16/en/docs/pyqgis_developer_cookbook/index.html)\n",
    "+ The [`pqgis` API documentation](https://qgis.org/pyqgis/master/) is essential\n",
    "+ There are [good books also](https://ebookcentral-proquest-com.helicon.vuw.ac.nz/lib/vuw/detail.action?docID=1912003&pq-origsite=primo), although be sure to check that they are up to date as the tools change regularly"
   ]
  },
  {
   "cell_type": "markdown",
   "metadata": {},
   "source": [
    "### And finally...\n",
    "Put that Jupyter notebook learning to use! You can install the `pyqgis` modules into an environment and work with them directly outside of the application itself. And ESRI are also into notebooks, see [here](https://www.esri.com/en-us/arcgis/products/arcgis-notebooks/overview) for more! "
   ]
  }
 ],
 "metadata": {
  "kernelspec": {
   "display_name": "Python 3",
   "language": "python",
   "name": "python3"
  },
  "language_info": {
   "codemirror_mode": {
    "name": "ipython",
    "version": 3
   },
   "file_extension": ".py",
   "mimetype": "text/x-python",
   "name": "python",
   "nbconvert_exporter": "python",
   "pygments_lexer": "ipython3",
   "version": "3.8.6"
  }
 },
 "nbformat": 4,
 "nbformat_minor": 4
}
