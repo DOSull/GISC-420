{
 "cells": [
  {
   "cell_type": "markdown",
   "metadata": {},
   "source": [
    "#### GISC 420 T1 2021\n",
    "# Exploring `python` in *QGIS*\n",
    "In this notebook we look at some of the ways that `python` can be used to automate operations in *QGIS*. Similar capabilities are available in the ESRI Arc platform.\n",
    "\n",
    "Note that this is a huge topic and this session is only intended to give you the most basic of introductions. Doing anything much beyond very simple manipulations of layers in an automated fashion via the programming APIs for these platforms is challenging. Processing workflows using the tools in the respective toolboxes can be more easily automated, and this can even be done without any programming at all! \n",
    "\n",
    "For these reasons, this material focuses on \n",
    "+ Using [the python console in QGIS](#The-python-console-in-QGIS), and\n",
    "+ Automating workflows with [Model Designer in QGIS](#Model-designer-in-QGIS)\n",
    "\n",
    "Unfortunately [building plugins in QGIS](#Building-plugins-in-QGIS) is a more advanced topic, which we don't have time for, although we will also briefly look at a couple of examples."
   ]
  },
  {
   "cell_type": "markdown",
   "metadata": {},
   "source": [
    "### Before we start\n",
    "To explore the possibilities that all this opens up we will open up QGIS and play around with some code in the console. To get set up for this we will first add a Web Feature Service (WFS) layer to a project. We will add a layer from GNS. The information about the available services is available on [this page](https://maps.gns.cri.nz/).\n",
    "\n",
    "To add their WFS catalogue do **Layer - Add Layer - Add WFS Layer...**, then select **New** and provide this URL:\n",
    "\n",
    "    https://maps.gns.cri.nz/geology/wfs\n",
    "\n",
    "along with a name ('GNS WFS' will do). Then click **OK** then **Close**.\n",
    "\n",
    "<img src=\"add-a-WFS.png\" width=\"300\">\n",
    "\n",
    "In the **Browser** part of the user interface you should now see under the **WFS / OGC API - Features** an entry for the service you just added. Open the list of available layers with the (tiny) right-arrow button and right-click the layer called *NZL_GNS_250K_faults* (it's near the bottom of the list) and select **Add Layer to Project**. The layer should appear in the project table of contents.\n",
    "\n",
    "This can be styled from the **Properties** dialogue just like any other layer."
   ]
  },
  {
   "cell_type": "markdown",
   "metadata": {},
   "source": [
    "## The python console in QGIS\n",
    "The first thing to realise is that python is _right there_ in QGIS. Select **Plugins - Python Console** from the main menubar. To see it. It will open up somewhere in the window (you may find it easier to work with if you detach it from the main window. \n",
    "\n",
    "<img src=\"python-console.png\" width=\"600\">\n",
    "\n",
    "You can also change the font size by right-clicking in the upper part of the dialog and selecting **Options** then changing fonts (or other options) in the **Code Editor section**.\n",
    "\n"
   ]
  },
  {
   "cell_type": "markdown",
   "metadata": {},
   "source": [
    "### Hey, there's `python`, right there!\n",
    "The lower part of this display with the `>>>` prompt is where you can type commands. Try an oldie-but-goodie \n",
    "\n",
    "    >>> print(\"Hello, World!\")\n",
    "    \n",
    "just as you would in *IDLE*, or in a `python` shell. \n",
    "\n",
    "What's different here is that because we are running inside *QGIS* core `pyqgis` modules are loaded. Try this\n",
    "\n",
    "    >>> layer = iface.activeLayer()\n",
    "    >>> layer.sourceName()\n",
    "    \n",
    "You should get the response in the upper half of the console\n",
    "\n",
    "    'NZL_GNS_250K_faults'\n",
    "    \n",
    "If not, check you set things up correctly as described in the previous section. `iface` refers to the interface, and the `activeLayer()` function returns an object representing the active layer, which in our project is the only layer loaded. Now try\n",
    "\n",
    "    >>> layer\n",
    "\n",
    "This time you should get\n",
    "\n",
    "    <QgsVectorLayer: 'NZL_GNS_250K_faults' (WFS)>\n",
    "    \n",
    "which tells us that `layer` is an instance of the `QgsVectorLayer` class... and so it begins. Let's fire up the documentation and see what that means. Click this link: [https://qgis.org/pyqgis/master/core/QgsVectorLayer.html](https://qgis.org/pyqgis/master/core/QgsVectorLayer.html). \n",
    "\n",
    "You should find yourself in the documentation for the python API to *QGIS* which is called `pyqgis`. \n",
    "\n",
    "*QGIS* itself is written in C++ but it can be automated using the python API. And ugh how complicated is it?! Very complicated is how complicated it is.\n",
    "\n",
    "We can see for example, that the `QgsVectorLayer` class can do a lot of things, but almost all of them involve digging ever deeper into the documentation until you run into something you recognise!\n",
    "\n",
    "Anyway..."
   ]
  },
  {
   "cell_type": "markdown",
   "metadata": {},
   "source": [
    "### Let's try a few things\n",
    "How about we count the features in the layer:\n",
    "\n",
    "    >>> layer.featureCount()\n",
    "    \n",
    "That was easy. How about we add together their lengths? Inspection of the layer tells us there is an attribute called `length`, so we could do this:\n",
    "\n",
    "    >>> lengths = []\n",
    "    >>> for fault in layer.getFeatures():\n",
    "            lengths.append(fault.attribute(\"length\")\n",
    "    >>> print(sum(lengths))\n",
    "\n",
    "You'll start to see the limations of the console here. You have to indent by hand (it doesn't do it automatically), and it's fiddly as all get out given how enthusiastic the console is to 'help' with information about class names and so forth. But if you get past all that it works. Another option is to open an editor window and prepare more complicated chunks of code there. The editor is accessed by right-clicking **Show Editor** in the upper part of the console.\n",
    "\n",
    "Of course the above code isn't totally programmatic, since it didn't get a list of the field names and work from there. We could write code to also do that:\n",
    "\n",
    "    >>> for fld in layer.fields():\n",
    "            print(fld.name())\n",
    "            \n",
    "and you can perhaps imagine how more complicated code could be developed to automatically manage and manipulate the layers in a project in a variety of more or less complicated ways."
   ]
  },
  {
   "cell_type": "markdown",
   "metadata": {},
   "source": [
    "### One more trick, just for fun    \n",
    "If you issue the following rather convoluted command:\n",
    "\n",
    "    >>> iface.addVectorLayer(\"https://maps.gns.cri.nz/geology/wfs?&REQUEST=GetFeaturesTYPENAME=gns:NZL_GNS_1M_geological_units&SRSNAME=EPSG:4326\", \"Geological Units\", \"WFS\")\n",
    "    \n",
    "You should see an new layer get 'automagically' added to the project table of contents."
   ]
  },
  {
   "cell_type": "markdown",
   "metadata": {},
   "source": [
    "## Model Designer in QGIS\n",
    "The above all seems pretty great (sort of) but many tasks we might wish to automate already have tools (in the toolbox) that can accomplish them fairly readily, and all we need to do is chain them together correctly. That's exactly what the Model Designer in *QGIS* (or the Model Builder in *ArcGIS*) is for, so we'll look at that now, using a couple of examples to show some of the pros and cons. "
   ]
  },
  {
   "cell_type": "markdown",
   "metadata": {},
   "source": [
    "### A straightforward example\n",
    "One of the 'mini-project' ideas suggests looking at building [Voronoi (proximity) polygons for shapes not limited to points](https://github.com/DOSull/GISC-420/tree/master/labs/mini-projects#multitype-voronoi). Here is a QGIS model that can do this for polygons:\n",
    "\n",
    "<img src=\"voronoi/polygon-voronoi-model.png\">\n",
    "\n",
    "Let's see how this is assembled. To do that, we'll open a QGIS project with this [dataset of buildings](voronoi/buildings.gpkg?raw=true)."
   ]
  },
  {
   "cell_type": "markdown",
   "metadata": {},
   "source": [
    "### A more complicated example\n",
    "Wow! That was easy! \n",
    "\n",
    "Unfortunately, it's not always so straightforward. Another example is a model to generate travel time isochrones from a set of transit stops (bus stops say). This looks simpler than the previous case:\n",
    "\n",
    "<img src=\"transit/isochrone-builder-model.png\">\n",
    "\n",
    "This time, rather than build it on the fly, we'll look at an [example model I have already built](transit/route-29.qgz?raw=true), and how things can get messy..."
   ]
  },
  {
   "cell_type": "markdown",
   "metadata": {},
   "source": [
    "### Here's some `python` code that can make isochrones\n",
    "I probably wouldn't do either of these tasks using Model Designer (or for that matter Model Builder in Arc). \n",
    "Instead I'd write `python` code or perhaps use *R*.\n",
    "\n",
    "Below is how I would do it (or could do it) in `python`."
   ]
  },
  {
   "cell_type": "code",
   "execution_count": null,
   "metadata": {},
   "outputs": [],
   "source": [
    "# first make some simple functions \n",
    "# to do the calculations - note inclusion of default values\n",
    "def get_walk_time(tt, budget=60):\n",
    "    if tt < budget:\n",
    "        return budget - tt\n",
    "    else:\n",
    "        return 0\n",
    "\n",
    "def get_walk_distance(wt, speed=40):\n",
    "    return wt * speed"
   ]
  },
  {
   "cell_type": "markdown",
   "metadata": {},
   "source": [
    "Now get the data and `pandas.apply` these functions to make the necessary walk distance variable"
   ]
  },
  {
   "cell_type": "code",
   "execution_count": null,
   "metadata": {},
   "outputs": [],
   "source": [
    "import geopandas\n",
    "\n",
    "stops = geopandas.read_file(\"transit/route-29-stops-at-night-times.gpkg\")\n",
    "stops['walk_time'] = stops.travel_time.apply(get_walk_time)\n",
    "stops['walk_distance'] = stops.walk_time.apply(get_walk_distance)"
   ]
  },
  {
   "cell_type": "markdown",
   "metadata": {},
   "source": [
    "And we are basically done - just supply the walk distance values as the distance to the `geopandas.GeoSeries.buffer()` function and use `unary_union` to merge them into a single shape "
   ]
  },
  {
   "cell_type": "code",
   "execution_count": null,
   "metadata": {},
   "outputs": [],
   "source": [
    "def get_isochrone(s):\n",
    "    return s.geometry.buffer(s.walk_distance).unary_union\n",
    "\n",
    "get_isochrone(stops)"
   ]
  },
  {
   "cell_type": "markdown",
   "metadata": {},
   "source": [
    "What's nice about this is that iterating different time budgets is very easy:"
   ]
  },
  {
   "cell_type": "code",
   "execution_count": null,
   "metadata": {},
   "outputs": [],
   "source": [
    "# make an empty list for the isochrones\n",
    "isochrones = []\n",
    "times = [t for t in range(10, 70, 10)]\n",
    "for t in times:\n",
    "    stops.walk_time = stops.travel_time.apply(get_walk_time, budget = t)\n",
    "    stops.walk_distance = stops.walk_time.apply(get_walk_distance, speed = 40)\n",
    "    isochrones.append(get_isochrone(stops))\n",
    "    \n",
    "isochrones_gdf = geopandas.GeoDataFrame(data = {'times': times}, geometry = geopandas.GeoSeries(isochrones))\n",
    "isochrones_gdf.crs = stops.crs\n",
    "isochrones_gdf.plot(column = \"times\", cmap = \"viridis\", edgecolor = 'k', alpha = 0.35)"
   ]
  },
  {
   "cell_type": "markdown",
   "metadata": {},
   "source": [
    "## Building plugins in QGIS\n",
    "Full disclosure (and spoilers) I am not going to explain how to make plugins in QGIS. It's really beyond the scope of this course, and also runs into a few tricky issues with differences across operating systems, which make it kind of painful to introduce. But for the sake of completeness, here are some thoughts on this pathway for GIS customization.\n",
    "\n",
    "### What is a plugin anyway?\n",
    "First, we'll look at some examples, becore considering what a plugin really *is*.\n",
    "\n",
    "### Where can I get them?\n",
    "Already answered this question! Use **Plugins - Manage and Install Plugins...**.\n",
    "\n",
    "### How do I build one?\n",
    "That's where it gets messy. Online resources are your best friend here, along with a couple of books."
   ]
  },
  {
   "cell_type": "markdown",
   "metadata": {},
   "source": [
    "## More resources\n",
    "`https://automating-gis-processes.github.io/site/lessons/L7/pyqgis.html`"
   ]
  },
  {
   "cell_type": "code",
   "execution_count": null,
   "metadata": {},
   "outputs": [],
   "source": []
  }
 ],
 "metadata": {
  "kernelspec": {
   "display_name": "Python 3",
   "language": "python",
   "name": "python3"
  },
  "language_info": {
   "codemirror_mode": {
    "name": "ipython",
    "version": 3
   },
   "file_extension": ".py",
   "mimetype": "text/x-python",
   "name": "python",
   "nbconvert_exporter": "python",
   "pygments_lexer": "ipython3",
   "version": "3.8.8"
  }
 },
 "nbformat": 4,
 "nbformat_minor": 4
}
