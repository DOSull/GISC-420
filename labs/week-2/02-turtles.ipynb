{
 "cells": [
  {
   "cell_type": "markdown",
   "metadata": {},
   "source": [
    "# Running the `turtle` module in a notebook\n",
    "Running the `turtle` module in a notebook is a little tricky. Partly this is because of the GISC 425 environment not having a module installed that we need. I've made this notebook to at least try to give you access to this fun little library."
   ]
  },
  {
   "cell_type": "markdown",
   "metadata": {},
   "source": [
    "## Preliminaries\n",
    "We need to install a module called `ipywidgets` to provide the needed GUI (i.e. the turtle window)."
   ]
  },
  {
   "cell_type": "code",
   "execution_count": null,
   "metadata": {},
   "outputs": [],
   "source": [
    "import sys\n",
    "!{sys.executable} -m pip install ipywidgets"
   ]
  },
  {
   "cell_type": "markdown",
   "metadata": {},
   "source": [
    "With that done we should be all set... so here goes."
   ]
  },
  {
   "cell_type": "code",
   "execution_count": null,
   "metadata": {},
   "outputs": [],
   "source": [
    "# first we import needed modules\n",
    "import turtle\n",
    "import ipywidgets"
   ]
  },
  {
   "cell_type": "markdown",
   "metadata": {},
   "source": [
    "Right. So the API documentation for `turtle` is available [here](https://docs.python.org/3/library/turtle.html). That is where you should look for information on things that are unclear.\n",
    "\n",
    "For now, I am going to provide a supplement to Chapter 4 in [_Think Python_](https://greenteapress.com/wp/think-python-2e/)."
   ]
  },
  {
   "cell_type": "markdown",
   "metadata": {},
   "source": [
    "## The `turtle` module\n",
    "To 'fire it up' we make a turtle. We'll call ours something more local."
   ]
  },
  {
   "cell_type": "code",
   "execution_count": null,
   "metadata": {},
   "outputs": [],
   "source": [
    "aroha = turtle.Turtle()"
   ]
  },
  {
   "cell_type": "markdown",
   "metadata": {},
   "source": [
    "You should see a blank window appear with a little black triangle at its centre. This is `aroha` our first `Turtle` to whom we can issue commands using function calls that will cause her (?!) to draw things in the window. The `fd(x)` function causes the `Turtle` object asked to execute it to move `x` units forward. There is also a `bk(x)` command to cause a `Turtle` to move backwards."
   ]
  },
  {
   "cell_type": "code",
   "execution_count": null,
   "metadata": {},
   "outputs": [],
   "source": [
    "aroha.fd(100)"
   ]
  },
  {
   "cell_type": "markdown",
   "metadata": {},
   "source": [
    "We can also ask a `Turtle` to change direction with the `right(x)` or `left(x)` function which causes the turtle to turn in the appropriate direction through an angle of `x` degrees. These functions can also be abbreviated as `rt(x)` or `lt(x)`."
   ]
  },
  {
   "cell_type": "code",
   "execution_count": null,
   "metadata": {},
   "outputs": [],
   "source": [
    "aroha.right(90)"
   ]
  },
  {
   "cell_type": "markdown",
   "metadata": {},
   "source": [
    "Now if we issue a forward command, the line will get drawn at an angle to the previous one."
   ]
  },
  {
   "cell_type": "code",
   "execution_count": null,
   "metadata": {},
   "outputs": [],
   "source": [
    "aroha.fd(100)"
   ]
  },
  {
   "cell_type": "markdown",
   "metadata": {},
   "source": [
    "That's enough to get the general idea. It is also useful, before continuing to be able to reset the screen and send `aroha` back to her start location."
   ]
  },
  {
   "cell_type": "code",
   "execution_count": null,
   "metadata": {},
   "outputs": [],
   "source": [
    "aroha.reset()"
   ]
  },
  {
   "cell_type": "markdown",
   "metadata": {},
   "source": [
    "## Simple repetition\n",
    "So... in the cell below right some code to make `aroha` draw a square."
   ]
  },
  {
   "cell_type": "code",
   "execution_count": null,
   "metadata": {},
   "outputs": [],
   "source": [
    "# Write code below to make aroha draw a square\n",
    "# You will need the Turtle(), fd(), and rt() functions\n",
    "# Take another look at the cells above if you are unsure what to do\n",
    "\n"
   ]
  },
  {
   "cell_type": "markdown",
   "metadata": {},
   "source": [
    "The book tells you what you most likely wrote. It probably involved some repetition, which even allowing for copy and paste is pretty tedious to deal with.\n",
    "\n",
    "Thankfully, much of programming is all about repetition, so we have a construct in Python that allows us to repeat actions many times. For example"
   ]
  },
  {
   "cell_type": "code",
   "execution_count": null,
   "metadata": {},
   "outputs": [],
   "source": [
    "# Simple repetition\n",
    "for i in range(4):\n",
    "    print(\"Here we go again\")"
   ]
  },
  {
   "cell_type": "markdown",
   "metadata": {},
   "source": [
    "With that in mind, rewrite your square drawing code to use a `for` loop."
   ]
  },
  {
   "cell_type": "code",
   "execution_count": null,
   "metadata": {},
   "outputs": [],
   "source": [
    "# Write code here using a for loop to make aroha draw a square\n"
   ]
  },
  {
   "cell_type": "markdown",
   "metadata": {},
   "source": [
    "## Exercises from section 4.3\n",
    "These are taken directly from _Think Python_. In each case write the code in the cell below the instructions."
   ]
  },
  {
   "cell_type": "markdown",
   "metadata": {},
   "source": [
    "1. Write a function called `square` that takes a parameter named `t`, which is a turtle. It should use the turtle to draw a square.\n",
    "\n",
    "   Write a function call that passes bob as an argument to square, and then run the program again."
   ]
  },
  {
   "cell_type": "code",
   "execution_count": null,
   "metadata": {},
   "outputs": [],
   "source": [
    "## I'll give you the function definition code to get you started\n",
    "\n",
    "def square(t):\n",
    "    print(\"Replace this print statement with code to draw a square\")\n",
    "    \n",
    "\n",
    "## and here's a line of code to run the function\n",
    "square(aroha)"
   ]
  },
  {
   "cell_type": "markdown",
   "metadata": {},
   "source": [
    "2. Add another parameter, named `length`, to `square`. Modify the body so length of the\n",
    "sides is `length`, and then modify the function call to provide a second argument. Run\n",
    "the program again. Test your program with a range of values for length."
   ]
  },
  {
   "cell_type": "code",
   "execution_count": null,
   "metadata": {},
   "outputs": [],
   "source": [
    "## Again here's a function header\n",
    "\n",
    "def square(t, length):\n",
    "    print(\"You know what to do\")"
   ]
  },
  {
   "cell_type": "markdown",
   "metadata": {},
   "source": [
    "3. Make a copy of the `square` function code and change the name to `polygon`. Add another parameter\n",
    "named `n` and modify the body so it draws an n-sided regular polygon. Hint: The\n",
    "exterior angles of an n-sided regular polygon are 360/n degrees."
   ]
  },
  {
   "cell_type": "code",
   "execution_count": null,
   "metadata": {},
   "outputs": [],
   "source": [
    "## No clues this time"
   ]
  },
  {
   "cell_type": "markdown",
   "metadata": {},
   "source": [
    "### The next two are optional for now"
   ]
  },
  {
   "cell_type": "markdown",
   "metadata": {},
   "source": [
    "4. Write a function called circle that takes a turtle, t , and radius, r , as parameters and\n",
    "that draws an approximate circle by calling polygon with an appropriate length and\n",
    "number of sides. Test your function with a range of values of r .\n",
    "Hint: figure out the circumference of the circle and make sure that length * n =\n",
    "circumference ."
   ]
  },
  {
   "cell_type": "code",
   "execution_count": null,
   "metadata": {},
   "outputs": [],
   "source": []
  },
  {
   "cell_type": "markdown",
   "metadata": {},
   "source": [
    "5. Make a more general version of circle called arc that takes an additional parameter\n",
    "angle , which determines what fraction of a circle to draw. angle is in units of degrees,\n",
    "so when angle=360 , arc should draw a complete circle."
   ]
  },
  {
   "cell_type": "markdown",
   "metadata": {},
   "source": [
    "## Read the book!\n",
    "The book spells out nicely how to complete these tasks in sections 4.4 to 4.7 and I suggest that you work through those while working on this notebook."
   ]
  },
  {
   "cell_type": "markdown",
   "metadata": {},
   "source": [
    "## Clean up\n",
    "I haven't quite figured out how to clean up after the `turtle` module. The cell below should work, but may still require you to 'X' out of the graphics window."
   ]
  },
  {
   "cell_type": "code",
   "execution_count": null,
   "metadata": {},
   "outputs": [],
   "source": [
    "turtle.done()"
   ]
  },
  {
   "cell_type": "code",
   "execution_count": null,
   "metadata": {},
   "outputs": [],
   "source": []
  }
 ],
 "metadata": {
  "kernelspec": {
   "display_name": "Python 3.6",
   "language": "python",
   "name": "python36"
  },
  "language_info": {
   "codemirror_mode": {
    "name": "ipython",
    "version": 3
   },
   "file_extension": ".py",
   "mimetype": "text/x-python",
   "name": "python",
   "nbconvert_exporter": "python",
   "pygments_lexer": "ipython3",
   "version": "3.7.1"
  }
 },
 "nbformat": 4,
 "nbformat_minor": 2
}
