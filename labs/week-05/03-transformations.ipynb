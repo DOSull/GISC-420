{
 "cells": [
  {
   "cell_type": "markdown",
   "metadata": {},
   "source": [
    "#### GISC 425 T1 2020\n",
    "# Geometric transformations"
   ]
  },
  {
   "cell_type": "code",
   "execution_count": null,
   "metadata": {},
   "outputs": [],
   "source": [
    "# You need to run this cell to get things setup\n",
    "%matplotlib inline\n",
    "\n",
    "import matplotlib\n",
    "import matplotlib.pyplot as pyplot\n",
    "\n",
    "import geopandas\n",
    "\n",
    "# Load the data\n",
    "pts = geopandas.read_file(\"pts.geojson\")\n",
    "lines = geopandas.read_file(\"ways.geojson\")\n",
    "bldgs = geopandas.read_file(\"buildings.geojson\")"
   ]
  },
  {
   "cell_type": "markdown",
   "metadata": {},
   "source": [
    "Because the `shapely` library on which the `geopandas` geometry operations are based is concerned with geometry on a flat 2D surface and knows nothing about projections, we can make use of a number of simple geometric transformations. It is probably most useful to think of these as editing tools."
   ]
  },
  {
   "cell_type": "code",
   "execution_count": null,
   "metadata": {},
   "outputs": [],
   "source": [
    "fig = pyplot.figure(figsize=(14,5))\n",
    "\n",
    "ax1 = fig.add_subplot(131)\n",
    "ax1.set_title(\"Scaled by 2\")\n",
    "bldgs.plot(ax=ax1, facecolor='lightgrey')\n",
    "bldgs.scale(2, 2).plot(ax=ax1, facecolor='None', edgecolor='r')\n",
    "\n",
    "ax2 = fig.add_subplot(132)\n",
    "ax2.set_title(\"Rotated 45 degrees\")\n",
    "bldgs.plot(ax=ax2, facecolor='lightgrey')\n",
    "bldgs.rotate(45).plot(ax=ax2, facecolor='None', edgecolor='r')\n",
    "\n",
    "ax3 = fig.add_subplot(133)\n",
    "ax3.set_title(\"Shifted 50m north and 50m east\")\n",
    "bldgs.plot(ax=ax3, facecolor='lightgrey')\n",
    "bldgs.translate(50, 50).plot(ax=ax3, facecolor='None', edgecolor='r')"
   ]
  },
  {
   "cell_type": "markdown",
   "metadata": {},
   "source": [
    "For many of these operations, if you want to apply different operations to individual elements, things are trickier, because we have to work with individual shapely geometry objects one by one using the functions in `shapely.affinity`. Here's an example, so you can see how this works."
   ]
  },
  {
   "cell_type": "code",
   "execution_count": null,
   "metadata": {},
   "outputs": [],
   "source": [
    "# we need the random module to generate random rotations\n",
    "# and the shapely.affinity module to apply the rotate function\n",
    "# to individual geometry object. So... import them\n",
    "import random\n",
    "import shapely.affinity\n",
    "\n",
    "# make an empty list to put the results in\n",
    "bldgs_rot = []\n",
    "# now go through the individual geometries in a loop\n",
    "# applying a different transformation to each one\n",
    "for b in bldgs.geometry:\n",
    "    bldgs_rot.append(shapely.affinity.rotate(b, random.random() * 360))\n",
    "\n",
    "# make the resulting list into a GeoSeries\n",
    "bldgs_rot = geopandas.GeoSeries(bldgs_rot)\n",
    "    \n",
    "# And now plot them    \n",
    "fig = pyplot.figure(figsize=(8,8))\n",
    "ax = fig.add_subplot(111)\n",
    "ax.set_title(\"Higgledy piggledy random rotations\")\n",
    "bldgs.plot(ax=ax, facecolor='lightgrey')\n",
    "bldgs_rot.plot(ax=ax, facecolor='None', edgecolor='r')"
   ]
  },
  {
   "cell_type": "markdown",
   "metadata": {},
   "source": [
    "If you wanted to buffer a set of objects to different distances depending for example, on building type or some other factor, then you would have to deploy an approach similar to this."
   ]
  },
  {
   "cell_type": "code",
   "execution_count": null,
   "metadata": {},
   "outputs": [],
   "source": []
  }
 ],
 "metadata": {
  "kernelspec": {
   "display_name": "Python 3",
   "language": "python",
   "name": "python3"
  },
  "language_info": {
   "codemirror_mode": {
    "name": "ipython",
    "version": 3
   },
   "file_extension": ".py",
   "mimetype": "text/x-python",
   "name": "python",
   "nbconvert_exporter": "python",
   "pygments_lexer": "ipython3",
   "version": "3.7.6"
  }
 },
 "nbformat": 4,
 "nbformat_minor": 2
}
