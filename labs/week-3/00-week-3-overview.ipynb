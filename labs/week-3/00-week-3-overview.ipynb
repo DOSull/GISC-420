{
 "cells": [
  {
   "cell_type": "markdown",
   "metadata": {},
   "source": [
    "# Week 2 overview\n",
    "There are three notebooks accompanying reading from [Think Python](https://greenteapress.com/wp/think-python-2e/).:\n",
    "+ [Chapter 7 on iteration](01-iteration.ipynb)\n",
    "+ [Chapter 8 on strings](02-strings.ipynb)\n",
    "+ [Chapter 10 on lists](03-lists.ipynb)\n",
    "\n",
    "There are is one more notebook including the second assignment:\n",
    "+ [Iteration with spatial data](04-lab-assignment-2-tissot.ipynb)\n"
   ]
  },
  {
   "cell_type": "code",
   "execution_count": null,
   "metadata": {},
   "outputs": [],
   "source": []
  }
 ],
 "metadata": {
  "kernelspec": {
   "display_name": "Python 3.6",
   "language": "python",
   "name": "python36"
  },
  "language_info": {
   "codemirror_mode": {
    "name": "ipython",
    "version": 3
   },
   "file_extension": ".py",
   "mimetype": "text/x-python",
   "name": "python",
   "nbconvert_exporter": "python",
   "pygments_lexer": "ipython3",
   "version": "3.8.1"
  }
 },
 "nbformat": 4,
 "nbformat_minor": 4
}
