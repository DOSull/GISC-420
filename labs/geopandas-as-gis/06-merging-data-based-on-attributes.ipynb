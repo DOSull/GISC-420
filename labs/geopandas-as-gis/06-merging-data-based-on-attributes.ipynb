{
 "cells": [
  {
   "cell_type": "markdown",
   "metadata": {},
   "source": [
    "#### GISC 420 T1 2022\n",
    "# Merging data tables based on attributes\n",
    "\n",
    "A final useful, albeit non-spatial capability is to merge the data tables based on shared values of a particular attribute.  This is accomplished with the `pandas` `merge` function, and an example is provided [here](https://geopandas.org/en/stable/docs/user_guide/mergingdata.html). More complete documentation is available [here](https://pandas.pydata.org/pandas-docs/stable/reference/api/pandas.DataFrame.merge.html).\n",
    "\n",
    "You should take a look at those materials, as you are likely to find a use for them in the assignment."
   ]
  },
  {
   "cell_type": "markdown",
   "metadata": {},
   "source": [
    "## Wrapping up\n",
    "This has been a whirlwind tour of pretty much all that `geopandas` has to offer. It is effectively a fully functional vector GIS (minus network analysis stuff) which can be used for many of the spatial data manipulation and management tasks that a desktop GIS such as *ArcGIS* or *QGIS* are used for.\n",
    "\n",
    "The assignment this week asks you to use this capability to accomplish a simple GIS task."
   ]
  }
 ],
 "metadata": {
  "kernelspec": {
   "display_name": "Python 3 (ipykernel)",
   "language": "python",
   "name": "python3"
  },
  "language_info": {
   "codemirror_mode": {
    "name": "ipython",
    "version": 3
   },
   "file_extension": ".py",
   "mimetype": "text/x-python",
   "name": "python",
   "nbconvert_exporter": "python",
   "pygments_lexer": "ipython3",
   "version": "3.9.7"
  }
 },
 "nbformat": 4,
 "nbformat_minor": 4
}
