{
 "cells": [
  {
   "cell_type": "markdown",
   "metadata": {},
   "source": [
    "#### GISC 420 T1 2021\n",
    "# Making new geometries using uh... geometry"
   ]
  },
  {
   "cell_type": "code",
   "execution_count": null,
   "metadata": {},
   "outputs": [],
   "source": [
    "# You need to run this cell to get things setup\n",
    "%matplotlib inline\n",
    "\n",
    "import matplotlib\n",
    "import matplotlib.pyplot as pyplot\n",
    "\n",
    "import geopandas\n",
    "\n",
    "import copy\n",
    "\n",
    "# Load the datasets\n",
    "pts = geopandas.read_file(\"pts.geojson\")\n",
    "lines = geopandas.read_file(\"ways.geojson\")\n",
    "bldgs = geopandas.read_file(\"buildings.geojson\")"
   ]
  },
  {
   "cell_type": "markdown",
   "metadata": {},
   "source": [
    "The most important thing to understand about the `geopandas` geometry operations is that most of them operate at the level of the geometry objects contained in a `GeoDataFrame`'s **geometry** attribute and produce a new `GeoSeries` rather than a new `GeoDataFrame`. That is, they make a collection of geometry objects, not a whole new dataset. \n",
    "\n",
    "This has implications for using these operations to create new datasets. You need to explicitly build the new dataset, as will be shown in this notebook."
   ]
  },
  {
   "cell_type": "markdown",
   "metadata": {},
   "source": [
    "## The `buffer` operation\n",
    "For example, take the `buffer` operation. You can apply `buffer()` to a `GeoDataFrame` but it makes a new `GeoSeries` not a new `GeoDataFrame`"
   ]
  },
  {
   "cell_type": "code",
   "execution_count": null,
   "metadata": {},
   "outputs": [],
   "source": [
    "pts.buffer(10).head()"
   ]
  },
  {
   "cell_type": "markdown",
   "metadata": {},
   "source": [
    "You can also apply `buffer()` to a `GeoSeries`, and you'll get the same output as if you'd applied it to the `GeoDataFrame`"
   ]
  },
  {
   "cell_type": "code",
   "execution_count": null,
   "metadata": {},
   "outputs": [],
   "source": [
    "pts.geometry.buffer(10).head()"
   ]
  },
  {
   "cell_type": "markdown",
   "metadata": {},
   "source": [
    "To make a new `GeoDataFrame` which will include all the associated attributes and data, this means you have two options. One is to make a copy of the original and assign the buffered geometries to it."
   ]
  },
  {
   "cell_type": "code",
   "execution_count": null,
   "metadata": {},
   "outputs": [],
   "source": [
    "# Make a copy of the original dataset\n",
    "pts_b10 = copy.copy(pts)\n",
    "# set the geometry of the copy to the result of performing\n",
    "# some operation on the original dataset\n",
    "pts_b10.geometry = pts.buffer(10)"
   ]
  },
  {
   "cell_type": "markdown",
   "metadata": {},
   "source": [
    "To confirm we got what we expected, we can plot these as below."
   ]
  },
  {
   "cell_type": "code",
   "execution_count": null,
   "metadata": {},
   "outputs": [],
   "source": [
    "fig = pyplot.figure(figsize=(8,8))\n",
    "base = fig.add_subplot(111)\n",
    "pts_b10.plot(ax=base, facecolor='lightgrey')\n",
    "pts.plot(ax=base, color='k', markersize=1)"
   ]
  },
  {
   "cell_type": "markdown",
   "metadata": {},
   "source": [
    "And at this point, if we wished, we could write `pts_b10` to a new output file, if we wanted to keep it.\n",
    "\n",
    "The other option is to reassign the geometry of the original dataset"
   ]
  },
  {
   "cell_type": "code",
   "execution_count": null,
   "metadata": {},
   "outputs": [],
   "source": [
    "pts.geometry = pts.buffer(10)"
   ]
  },
  {
   "cell_type": "markdown",
   "metadata": {},
   "source": [
    "You have to be pretty sure this is what you want as now you have lost the original `pts` dataset!"
   ]
  },
  {
   "cell_type": "code",
   "execution_count": null,
   "metadata": {},
   "outputs": [],
   "source": [
    "pts.geometry.head()"
   ]
  },
  {
   "cell_type": "markdown",
   "metadata": {},
   "source": [
    "Note that the geometry column now contains polygons! Let's just reset `pts` back to the data from the file, so we don't forget."
   ]
  },
  {
   "cell_type": "code",
   "execution_count": null,
   "metadata": {},
   "outputs": [],
   "source": [
    "pts = geopandas.read_file(\"pts.geojson\")"
   ]
  },
  {
   "cell_type": "markdown",
   "metadata": {},
   "source": [
    "Either way you get all the attributes of the original dataset. \n",
    "\n",
    "If you only want some of them, you do something like this"
   ]
  },
  {
   "cell_type": "code",
   "execution_count": null,
   "metadata": {},
   "outputs": [],
   "source": [
    "pts_b10 = pts_b10[['full_id', 'osm_type', 'geometry']]\n",
    "pts_b10.head()"
   ]
  },
  {
   "cell_type": "markdown",
   "metadata": {},
   "source": [
    "If you do this, you have to be careful to **ensure that the `geometry` attribute is one of the ones in the list that you ask to retain** in the dataset, otherwise your `GeoDataFrame` will become just a simple `DataFrame` and re-adding the geometry can be tricky.\n",
    "\n",
    "Anyway, we can buffer lines and polygons too, when some other options may become relevant such as `cap_style` and `join_style`; see [the shapely documentation](https://shapely.readthedocs.io/en/latest/manual.html#constructive-methods) for details.\n",
    "\n",
    "Perhaps more interesting, with polygons we can have negative buffer distances..."
   ]
  },
  {
   "cell_type": "code",
   "execution_count": null,
   "metadata": {},
   "outputs": [],
   "source": [
    "bldgs.buffer(20).plot(alpha=0.3).set_title(\"Buffered by 20m\")\n",
    "bldgs.buffer(-1).plot(alpha=0.3).set_title(\"Eroded by 1m\")"
   ]
  },
  {
   "cell_type": "markdown",
   "metadata": {},
   "source": [
    "I have found that a negative buffer that is too large produces errors, presumably because it attempts to shrink a polygon to less than nothing!"
   ]
  },
  {
   "cell_type": "markdown",
   "metadata": {},
   "source": [
    "## `centroid`, `boundary`, `convex_hull` and `envelope`\n",
    "Each of these produces convenient summary objects for the elements in a dataset.  It is important to note that these **are not functions** they are **attributes** of the `GeoDataFrame` and so they don't require parentheses when you request them."
   ]
  },
  {
   "cell_type": "code",
   "execution_count": null,
   "metadata": {},
   "outputs": [],
   "source": [
    "fig = pyplot.figure(figsize=(12,12))\n",
    "\n",
    "ax1 = fig.add_subplot(221)\n",
    "ax1.set_title(\"centroids\")\n",
    "bldgs.plot(ax=ax1, facecolor='lightgrey')\n",
    "bldgs.centroid.plot(ax=ax1, markersize=1, color='k')\n",
    "\n",
    "ax2 = fig.add_subplot(222)\n",
    "ax2.set_title(\"envelope, basically a bounding box\")\n",
    "bldgs.plot(ax=ax2, facecolor='lightgrey')\n",
    "bldgs.envelope.plot(ax=ax2, facecolor='r', alpha=0.3, linewidth=0)\n",
    "\n",
    "ax3 = fig.add_subplot(223)\n",
    "ax3.set_title(\"convex hull\")\n",
    "bldgs.plot(ax=ax3, facecolor='lightgrey')\n",
    "bldgs.convex_hull.plot(ax=ax3, facecolor='r', alpha=0.3, linewidth=0)\n",
    "\n",
    "# This one looks like it does nothing, but what it does is to \n",
    "# turn a polygon (filled) into a polyline (just an outline)\n",
    "# Note how there is no facecolor specifed for this\n",
    "ax4 = fig.add_subplot(224)\n",
    "ax4.set_title(\"boundary\")\n",
    "bldgs.plot(ax=ax4, facecolor='lightgrey')\n",
    "bldgs.boundary.plot(ax=ax4, edgecolor='r')"
   ]
  },
  {
   "cell_type": "markdown",
   "metadata": {},
   "source": [
    "You can also merge all the geometries in a dataset into a single geometry (`unary_union`) and simplify the geometry of objects (`simplify()`). \n",
    "\n",
    "Try these in the cell below."
   ]
  },
  {
   "cell_type": "code",
   "execution_count": null,
   "metadata": {},
   "outputs": [],
   "source": []
  }
 ],
 "metadata": {
  "kernelspec": {
   "display_name": "Python 3",
   "language": "python",
   "name": "python3"
  },
  "language_info": {
   "codemirror_mode": {
    "name": "ipython",
    "version": 3
   },
   "file_extension": ".py",
   "mimetype": "text/x-python",
   "name": "python",
   "nbconvert_exporter": "python",
   "pygments_lexer": "ipython3",
   "version": "3.8.8"
  }
 },
 "nbformat": 4,
 "nbformat_minor": 2
}
