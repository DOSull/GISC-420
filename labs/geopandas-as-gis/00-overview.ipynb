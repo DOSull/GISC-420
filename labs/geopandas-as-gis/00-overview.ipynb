{
 "cells": [
  {
   "cell_type": "markdown",
   "metadata": {},
   "source": [
    "#### GISC 420 T1 2022\n",
    "# Week 5 overview"
   ]
  },
  {
   "cell_type": "markdown",
   "metadata": {},
   "source": [
    "There are six notebooks covering the various capabilities of `geopandas`.\n",
    "\n",
    "First, a quick check everything is loading properly:\n",
    "+ [Loading the modules and the data](01-using-geopandas-as-a-gis.ipynb)\n",
    "\n",
    "Then the tutorial notebooks proper:\n",
    "+ [Methods that make a new data layer from an existing one](02-making-new-geometries-from-existing.ipynb), such as *buffering*, *centroids*, the * convex hull*, and so on;\n",
    "+ [Methods that perform spatial transformations](03-transformations.ipynb) on a collection of spatial objects, such as *translation*, *rotation*, *scaling* and so on;\n",
    "+ Methods that perform operations between two data layers, such as [*overlay* and *intersection*](04-overlay-and-spatial-join.ipynb); \n",
    "+ Methods that perform [*aggregation* and *dissolve*](05-dissolving-and-aggregating-data.ipynb) between layers of differing spatial types; and\n",
    "+ Methods that can be used to [*merge* data tables](06-merging-data-based-on-attributes.ipynb)\n",
    "\n",
    "In these notebooks we look at how `geopandas` supports standard (vector) GIS operations, such as overlay, buffering, clipping, and so on. This is as preparation for the last shorter assignment of the trimester and before we dive into a more project-based mini-project.\n",
    "\n",
    "Much of the material in these notebooks is based loosely on the tutorial documentation on the geopandas website, which you will find at [geopandas.org/index.html](https://geopandas.org/en/stable/index.html)."
   ]
  },
  {
   "cell_type": "markdown",
   "metadata": {},
   "source": [
    "## Assignment\n",
    "There is a further notebook describing an assignment asking you to use what you learn from the first notebook, to solve a standard GIS data manipulation problem:\n",
    "+ [Doing GIS with `geopandas`](07-lab-assignment-geopandas-gis.ipynb)"
   ]
  }
 ],
 "metadata": {
  "kernelspec": {
   "display_name": "Python 3 (ipykernel)",
   "language": "python",
   "name": "python3"
  },
  "language_info": {
   "codemirror_mode": {
    "name": "ipython",
    "version": 3
   },
   "file_extension": ".py",
   "mimetype": "text/x-python",
   "name": "python",
   "nbconvert_exporter": "python",
   "pygments_lexer": "ipython3",
   "version": "3.9.7"
  }
 },
 "nbformat": 4,
 "nbformat_minor": 4
}
