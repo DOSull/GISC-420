{
 "cells": [
  {
   "cell_type": "markdown",
   "metadata": {},
   "source": [
    "#### GISC 420 T1 2021\n",
    "# Dissolving and aggregating data"
   ]
  },
  {
   "cell_type": "code",
   "execution_count": null,
   "metadata": {},
   "outputs": [],
   "source": [
    "# You need to run this cell to get things setup\n",
    "%matplotlib inline\n",
    "\n",
    "import matplotlib\n",
    "import matplotlib.pyplot as pyplot\n",
    "\n",
    "import geopandas\n",
    "\n",
    "import random"
   ]
  },
  {
   "cell_type": "markdown",
   "metadata": {},
   "source": [
    "There are yet more spatial operations available. An important one is to dissolve spatial elements together based on some attribute, so that all elements that share the same value of that attribute are combined into a single elements and their associated data values are combined in some manner.\n",
    "\n",
    "Again, it is useful to use a simple dataset to demonstrate this."
   ]
  },
  {
   "cell_type": "code",
   "execution_count": null,
   "metadata": {},
   "outputs": [],
   "source": [
    "# More data\n",
    "s3 = geopandas.read_file('squares3.geojson')\n",
    "s3['id'] = range(s3.shape[0])\n",
    "s3['value'] = [random.randint(100,200) for i in range(s3.shape[0])]\n",
    "s3['row'] = s3.id % 8\n",
    "s3['col'] = s3.id // 8\n",
    "s3.plot(column='value', cmap=\"Reds\", edgecolor='w')"
   ]
  },
  {
   "cell_type": "code",
   "execution_count": null,
   "metadata": {},
   "outputs": [],
   "source": [
    "d = s3.dissolve(by='row', aggfunc='median', as_index=False)"
   ]
  },
  {
   "cell_type": "code",
   "execution_count": null,
   "metadata": {},
   "outputs": [],
   "source": [
    "d"
   ]
  },
  {
   "cell_type": "code",
   "execution_count": null,
   "metadata": {},
   "outputs": [],
   "source": [
    "d.plot(column='value', cmap='Reds', edgecolor='w')"
   ]
  },
  {
   "cell_type": "markdown",
   "metadata": {},
   "source": [
    "A variety of `aggfunc` options are available: `mean`, `median`, `prod`, `sum`, `std`, `var`. Experiment with them above."
   ]
  }
 ],
 "metadata": {
  "kernelspec": {
   "display_name": "Python 3",
   "language": "python",
   "name": "python3"
  },
  "language_info": {
   "codemirror_mode": {
    "name": "ipython",
    "version": 3
   },
   "file_extension": ".py",
   "mimetype": "text/x-python",
   "name": "python",
   "nbconvert_exporter": "python",
   "pygments_lexer": "ipython3",
   "version": "3.8.6"
  }
 },
 "nbformat": 4,
 "nbformat_minor": 2
}
