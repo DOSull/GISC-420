{
 "cells": [
  {
   "cell_type": "markdown",
   "metadata": {},
   "source": [
    "#### GISC 420 T1 2022\n",
    "# Dissolving and aggregating data"
   ]
  },
  {
   "cell_type": "code",
   "execution_count": 1,
   "metadata": {},
   "outputs": [],
   "source": [
    "# You need to run this cell to get things setup\n",
    "%matplotlib inline\n",
    "\n",
    "import matplotlib\n",
    "import matplotlib.pyplot as pyplot\n",
    "\n",
    "import geopandas\n",
    "\n",
    "import random"
   ]
  },
  {
   "cell_type": "markdown",
   "metadata": {},
   "source": [
    "There are yet more spatial operations available. An important one is to dissolve spatial elements together based on some attribute, so that all elements that share the same value of that attribute are combined into a single elements and their associated data values are combined in some manner.\n",
    "\n",
    "Again, it is useful to use a simple dataset to demonstrate this."
   ]
  },
  {
   "cell_type": "code",
   "execution_count": 2,
   "metadata": {},
   "outputs": [
    {
     "data": {
      "text/html": [
       "<div>\n",
       "<style scoped>\n",
       "    .dataframe tbody tr th:only-of-type {\n",
       "        vertical-align: middle;\n",
       "    }\n",
       "\n",
       "    .dataframe tbody tr th {\n",
       "        vertical-align: top;\n",
       "    }\n",
       "\n",
       "    .dataframe thead th {\n",
       "        text-align: right;\n",
       "    }\n",
       "</style>\n",
       "<table border=\"1\" class=\"dataframe\">\n",
       "  <thead>\n",
       "    <tr style=\"text-align: right;\">\n",
       "      <th></th>\n",
       "      <th>id</th>\n",
       "      <th>value</th>\n",
       "      <th>row</th>\n",
       "      <th>col</th>\n",
       "      <th>geometry</th>\n",
       "    </tr>\n",
       "  </thead>\n",
       "  <tbody>\n",
       "    <tr>\n",
       "      <th>0</th>\n",
       "      <td>0</td>\n",
       "      <td>178</td>\n",
       "      <td>0</td>\n",
       "      <td>0</td>\n",
       "      <td>POLYGON ((0.000 0.000, 0.000 1.000, 1.000 1.00...</td>\n",
       "    </tr>\n",
       "    <tr>\n",
       "      <th>1</th>\n",
       "      <td>1</td>\n",
       "      <td>121</td>\n",
       "      <td>1</td>\n",
       "      <td>0</td>\n",
       "      <td>POLYGON ((0.000 1.000, 0.000 2.000, 1.000 2.00...</td>\n",
       "    </tr>\n",
       "    <tr>\n",
       "      <th>2</th>\n",
       "      <td>2</td>\n",
       "      <td>133</td>\n",
       "      <td>2</td>\n",
       "      <td>0</td>\n",
       "      <td>POLYGON ((0.000 2.000, 0.000 3.000, 1.000 3.00...</td>\n",
       "    </tr>\n",
       "    <tr>\n",
       "      <th>3</th>\n",
       "      <td>3</td>\n",
       "      <td>136</td>\n",
       "      <td>3</td>\n",
       "      <td>0</td>\n",
       "      <td>POLYGON ((0.000 3.000, 0.000 4.000, 1.000 4.00...</td>\n",
       "    </tr>\n",
       "    <tr>\n",
       "      <th>4</th>\n",
       "      <td>4</td>\n",
       "      <td>178</td>\n",
       "      <td>4</td>\n",
       "      <td>0</td>\n",
       "      <td>POLYGON ((0.000 4.000, 0.000 5.000, 1.000 5.00...</td>\n",
       "    </tr>\n",
       "    <tr>\n",
       "      <th>...</th>\n",
       "      <td>...</td>\n",
       "      <td>...</td>\n",
       "      <td>...</td>\n",
       "      <td>...</td>\n",
       "      <td>...</td>\n",
       "    </tr>\n",
       "    <tr>\n",
       "      <th>59</th>\n",
       "      <td>59</td>\n",
       "      <td>181</td>\n",
       "      <td>3</td>\n",
       "      <td>7</td>\n",
       "      <td>POLYGON ((7.000 3.000, 7.000 4.000, 8.000 4.00...</td>\n",
       "    </tr>\n",
       "    <tr>\n",
       "      <th>60</th>\n",
       "      <td>60</td>\n",
       "      <td>160</td>\n",
       "      <td>4</td>\n",
       "      <td>7</td>\n",
       "      <td>POLYGON ((7.000 4.000, 7.000 5.000, 8.000 5.00...</td>\n",
       "    </tr>\n",
       "    <tr>\n",
       "      <th>61</th>\n",
       "      <td>61</td>\n",
       "      <td>110</td>\n",
       "      <td>5</td>\n",
       "      <td>7</td>\n",
       "      <td>POLYGON ((7.000 5.000, 7.000 6.000, 8.000 6.00...</td>\n",
       "    </tr>\n",
       "    <tr>\n",
       "      <th>62</th>\n",
       "      <td>62</td>\n",
       "      <td>187</td>\n",
       "      <td>6</td>\n",
       "      <td>7</td>\n",
       "      <td>POLYGON ((7.000 6.000, 7.000 7.000, 8.000 7.00...</td>\n",
       "    </tr>\n",
       "    <tr>\n",
       "      <th>63</th>\n",
       "      <td>63</td>\n",
       "      <td>128</td>\n",
       "      <td>7</td>\n",
       "      <td>7</td>\n",
       "      <td>POLYGON ((7.000 7.000, 7.000 8.000, 8.000 8.00...</td>\n",
       "    </tr>\n",
       "  </tbody>\n",
       "</table>\n",
       "<p>64 rows × 5 columns</p>\n",
       "</div>"
      ],
      "text/plain": [
       "    id  value  row  col                                           geometry\n",
       "0    0    178    0    0  POLYGON ((0.000 0.000, 0.000 1.000, 1.000 1.00...\n",
       "1    1    121    1    0  POLYGON ((0.000 1.000, 0.000 2.000, 1.000 2.00...\n",
       "2    2    133    2    0  POLYGON ((0.000 2.000, 0.000 3.000, 1.000 3.00...\n",
       "3    3    136    3    0  POLYGON ((0.000 3.000, 0.000 4.000, 1.000 4.00...\n",
       "4    4    178    4    0  POLYGON ((0.000 4.000, 0.000 5.000, 1.000 5.00...\n",
       "..  ..    ...  ...  ...                                                ...\n",
       "59  59    181    3    7  POLYGON ((7.000 3.000, 7.000 4.000, 8.000 4.00...\n",
       "60  60    160    4    7  POLYGON ((7.000 4.000, 7.000 5.000, 8.000 5.00...\n",
       "61  61    110    5    7  POLYGON ((7.000 5.000, 7.000 6.000, 8.000 6.00...\n",
       "62  62    187    6    7  POLYGON ((7.000 6.000, 7.000 7.000, 8.000 7.00...\n",
       "63  63    128    7    7  POLYGON ((7.000 7.000, 7.000 8.000, 8.000 8.00...\n",
       "\n",
       "[64 rows x 5 columns]"
      ]
     },
     "execution_count": 2,
     "metadata": {},
     "output_type": "execute_result"
    },
    {
     "data": {
      "image/png": "[encoded data removed]",
      "text/plain": [
       "<Figure size 432x288 with 1 Axes>"
      ]
     },
     "metadata": {
      "needs_background": "light"
     },
     "output_type": "display_data"
    }
   ],
   "source": [
    "# More data\n",
    "s3 = geopandas.read_file('squares3.geojson')\n",
    "s3['id'] = range(s3.shape[0])\n",
    "s3['value'] = [random.randint(100, 200) for i in range(s3.shape[0])]\n",
    "s3['row'] = s3.id % 8\n",
    "s3['col'] = s3.id // 8\n",
    "s3.plot(column='value', cmap=\"Reds\", edgecolor='w')\n",
    "s3"
   ]
  },
  {
   "cell_type": "code",
   "execution_count": 6,
   "metadata": {},
   "outputs": [],
   "source": [
    "d = s3.dissolve(by='col', aggfunc='mean', as_index=False)"
   ]
  },
  {
   "cell_type": "code",
   "execution_count": 7,
   "metadata": {},
   "outputs": [
    {
     "data": {
      "text/html": [
       "<div>\n",
       "<style scoped>\n",
       "    .dataframe tbody tr th:only-of-type {\n",
       "        vertical-align: middle;\n",
       "    }\n",
       "\n",
       "    .dataframe tbody tr th {\n",
       "        vertical-align: top;\n",
       "    }\n",
       "\n",
       "    .dataframe thead th {\n",
       "        text-align: right;\n",
       "    }\n",
       "</style>\n",
       "<table border=\"1\" class=\"dataframe\">\n",
       "  <thead>\n",
       "    <tr style=\"text-align: right;\">\n",
       "      <th></th>\n",
       "      <th>col</th>\n",
       "      <th>geometry</th>\n",
       "      <th>id</th>\n",
       "      <th>value</th>\n",
       "      <th>row</th>\n",
       "    </tr>\n",
       "  </thead>\n",
       "  <tbody>\n",
       "    <tr>\n",
       "      <th>0</th>\n",
       "      <td>0</td>\n",
       "      <td>POLYGON ((0.000 3.000, 0.000 4.000, 0.000 5.00...</td>\n",
       "      <td>3.5</td>\n",
       "      <td>161.000</td>\n",
       "      <td>3.5</td>\n",
       "    </tr>\n",
       "    <tr>\n",
       "      <th>1</th>\n",
       "      <td>1</td>\n",
       "      <td>POLYGON ((1.000 3.000, 1.000 4.000, 1.000 5.00...</td>\n",
       "      <td>11.5</td>\n",
       "      <td>145.500</td>\n",
       "      <td>3.5</td>\n",
       "    </tr>\n",
       "    <tr>\n",
       "      <th>2</th>\n",
       "      <td>2</td>\n",
       "      <td>POLYGON ((2.000 3.000, 2.000 4.000, 2.000 5.00...</td>\n",
       "      <td>19.5</td>\n",
       "      <td>153.625</td>\n",
       "      <td>3.5</td>\n",
       "    </tr>\n",
       "    <tr>\n",
       "      <th>3</th>\n",
       "      <td>3</td>\n",
       "      <td>POLYGON ((3.000 3.000, 3.000 4.000, 3.000 5.00...</td>\n",
       "      <td>27.5</td>\n",
       "      <td>161.750</td>\n",
       "      <td>3.5</td>\n",
       "    </tr>\n",
       "    <tr>\n",
       "      <th>4</th>\n",
       "      <td>4</td>\n",
       "      <td>POLYGON ((4.000 3.000, 4.000 4.000, 4.000 5.00...</td>\n",
       "      <td>35.5</td>\n",
       "      <td>140.500</td>\n",
       "      <td>3.5</td>\n",
       "    </tr>\n",
       "    <tr>\n",
       "      <th>5</th>\n",
       "      <td>5</td>\n",
       "      <td>POLYGON ((5.000 3.000, 5.000 4.000, 5.000 5.00...</td>\n",
       "      <td>43.5</td>\n",
       "      <td>163.125</td>\n",
       "      <td>3.5</td>\n",
       "    </tr>\n",
       "    <tr>\n",
       "      <th>6</th>\n",
       "      <td>6</td>\n",
       "      <td>POLYGON ((6.000 3.000, 6.000 4.000, 6.000 5.00...</td>\n",
       "      <td>51.5</td>\n",
       "      <td>157.750</td>\n",
       "      <td>3.5</td>\n",
       "    </tr>\n",
       "    <tr>\n",
       "      <th>7</th>\n",
       "      <td>7</td>\n",
       "      <td>POLYGON ((7.000 3.000, 7.000 4.000, 7.000 5.00...</td>\n",
       "      <td>59.5</td>\n",
       "      <td>140.625</td>\n",
       "      <td>3.5</td>\n",
       "    </tr>\n",
       "  </tbody>\n",
       "</table>\n",
       "</div>"
      ],
      "text/plain": [
       "   col                                           geometry    id    value  row\n",
       "0    0  POLYGON ((0.000 3.000, 0.000 4.000, 0.000 5.00...   3.5  161.000  3.5\n",
       "1    1  POLYGON ((1.000 3.000, 1.000 4.000, 1.000 5.00...  11.5  145.500  3.5\n",
       "2    2  POLYGON ((2.000 3.000, 2.000 4.000, 2.000 5.00...  19.5  153.625  3.5\n",
       "3    3  POLYGON ((3.000 3.000, 3.000 4.000, 3.000 5.00...  27.5  161.750  3.5\n",
       "4    4  POLYGON ((4.000 3.000, 4.000 4.000, 4.000 5.00...  35.5  140.500  3.5\n",
       "5    5  POLYGON ((5.000 3.000, 5.000 4.000, 5.000 5.00...  43.5  163.125  3.5\n",
       "6    6  POLYGON ((6.000 3.000, 6.000 4.000, 6.000 5.00...  51.5  157.750  3.5\n",
       "7    7  POLYGON ((7.000 3.000, 7.000 4.000, 7.000 5.00...  59.5  140.625  3.5"
      ]
     },
     "execution_count": 7,
     "metadata": {},
     "output_type": "execute_result"
    }
   ],
   "source": [
    "d"
   ]
  },
  {
   "cell_type": "code",
   "execution_count": 8,
   "metadata": {},
   "outputs": [
    {
     "data": {
      "text/plain": [
       "<AxesSubplot:>"
      ]
     },
     "execution_count": 8,
     "metadata": {},
     "output_type": "execute_result"
    },
    {
     "data": {
      "image/png": "[encoded data removed]",
      "text/plain": [
       "<Figure size 432x288 with 1 Axes>"
      ]
     },
     "metadata": {
      "needs_background": "light"
     },
     "output_type": "display_data"
    }
   ],
   "source": [
    "d.plot(column='value', cmap='Reds', edgecolor='w')"
   ]
  },
  {
   "cell_type": "markdown",
   "metadata": {},
   "source": [
    "A variety of `aggfunc` options are available: `mean`, `median`, `prod`, `sum`, `std`, `var`. Experiment with them above."
   ]
  }
 ],
 "metadata": {
  "kernelspec": {
   "display_name": "Python 3 (ipykernel)",
   "language": "python",
   "name": "python3"
  },
  "language_info": {
   "codemirror_mode": {
    "name": "ipython",
    "version": 3
   },
   "file_extension": ".py",
   "mimetype": "text/x-python",
   "name": "python",
   "nbconvert_exporter": "python",
   "pygments_lexer": "ipython3",
   "version": "3.9.7"
  }
 },
 "nbformat": 4,
 "nbformat_minor": 4
}
