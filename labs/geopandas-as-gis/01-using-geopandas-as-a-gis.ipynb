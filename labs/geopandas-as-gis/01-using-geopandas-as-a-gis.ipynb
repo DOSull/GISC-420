{
 "cells": [
  {
   "cell_type": "markdown",
   "metadata": {},
   "source": [
    "#### GISC 420 T1 2022\n",
    "# Using `geopandas` as a GIS"
   ]
  },
  {
   "cell_type": "markdown",
   "metadata": {},
   "source": [
    "## Loading the libraries"
   ]
  },
  {
   "cell_type": "code",
   "execution_count": null,
   "metadata": {},
   "outputs": [],
   "source": [
    "# You need to run this cell to get things setup\n",
    "%matplotlib inline\n",
    "\n",
    "import matplotlib\n",
    "import matplotlib.pyplot as pyplot\n",
    "\n",
    "import geopandas"
   ]
  },
  {
   "cell_type": "markdown",
   "metadata": {},
   "source": [
    "## Loading the data\n",
    "To explore these methods we need so data layers. I grabbed some points, lines and areas from Open Street Map using a QGIS plugin for this."
   ]
  },
  {
   "cell_type": "code",
   "execution_count": null,
   "metadata": {},
   "outputs": [],
   "source": [
    "pts = geopandas.read_file(\"pts.geojson\")\n",
    "lines = geopandas.read_file(\"ways.geojson\")\n",
    "bldgs = geopandas.read_file(\"buildings.geojson\")"
   ]
  },
  {
   "cell_type": "markdown",
   "metadata": {},
   "source": [
    "## Check we're all good\n",
    "And now plot them (this is also a refresher on making plots with `geopandas` and `matplotlib`)."
   ]
  },
  {
   "cell_type": "code",
   "execution_count": null,
   "metadata": {},
   "outputs": [],
   "source": [
    "fig = pyplot.figure(figsize = (8, 8)) \n",
    "base = fig.add_subplot(111)\n",
    "bldgs.plot(ax=base, facecolor='lightgrey')\n",
    "lines.plot(ax=base, edgecolor='pink')\n",
    "pts.plot(ax=base, color='k', markersize=1)"
   ]
  },
  {
   "cell_type": "markdown",
   "metadata": {},
   "source": [
    "For what it'sgreyth, these are from the area around the university. The large buildings in grey are the Kelburn Campus.\n",
    "\n",
    "Having successfully mapped the data, you can move on to the individual notebooks&mdash;keep in mind that they will each have to reload the data individually."
   ]
  }
 ],
 "metadata": {
  "kernelspec": {
   "display_name": "Python 3 (ipykernel)",
   "language": "python",
   "name": "python3"
  },
  "language_info": {
   "codemirror_mode": {
    "name": "ipython",
    "version": 3
   },
   "file_extension": ".py",
   "mimetype": "text/x-python",
   "name": "python",
   "nbconvert_exporter": "python",
   "pygments_lexer": "ipython3",
   "version": "3.9.7"
  }
 },
 "nbformat": 4,
 "nbformat_minor": 2
}
