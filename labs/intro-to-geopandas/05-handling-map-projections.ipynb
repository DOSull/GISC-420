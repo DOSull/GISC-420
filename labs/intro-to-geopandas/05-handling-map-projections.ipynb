{
 "cells": [
  {
   "cell_type": "markdown",
   "metadata": {},
   "source": [
    "#### GISC 420 T1 2022\n",
    "# Handling map projections\n",
    "We need to load some modules so this notebook will run:"
   ]
  },
  {
   "cell_type": "code",
   "execution_count": null,
   "metadata": {},
   "outputs": [],
   "source": [
    "%matplotlib inline\n",
    "\n",
    "import matplotlib\n",
    "import matplotlib.pyplot as pyplot\n",
    "import geopandas"
   ]
  },
  {
   "cell_type": "markdown",
   "metadata": {},
   "source": [
    "## A quick refresher on projections\n",
    "Location on Earth's surface is recorded in latitude and longitude.  Each is an angular measure relative to two imaginary references, the **Equator** (latitude = 0&deg;) and the **Prime Meridian** through Greenwich in London (longitude = 0&deg;). This system of geolocation makes sense because Earth is not flat (duh!) but a globe. The measurement system is shown in the figure below.\n",
    "\n",
    "<img src='images/latlong.png' width=\"400\">\n",
    "\n",
    "Given a pair of coordinates we are accustomed to plotting them on $(x,y)$ axes, but when we do this with latitude and longitude coordinate pairs, we get ourselves in trouble, because although **parallels** (lines at equal latitude) are equally spaced from the equator to the poles, **meridians** converge toward the poles due to the (approximately) spherical shape of Earth.\n",
    "\n",
    "The coordinate system we use to record location on Earth's three-dimensional surface can't be used directly to plot two-dimensional (flat) maps on paper or on screens. Or more correctly, it *can* be used but over any significant area of Earth surface substantial distortions of shape or area or relative distance will result.\n",
    "\n",
    "To resolve this problem, we **project** latitude-longitude coordinates into other coordinate systems that have desired properties for particular mapping or analytical purposes.\n",
    "\n",
    "This is a highly technical, yet fascinating area. We don't have time to get into it in any detail in this class, but to be an effective geospatial professional, it is important to appreciate the implications. The most important of these is that we need to know projection is a thing!  The second is that **there is no perfect projection** just different projections that we might prefer for different purposes.  Of particular importance are **equal-area** projections, which preserve the relative area of regions on Earth surface and **conformal** projections which preserve shape.\n",
    "\n",
    "Projected data are particularly useful because they can make calculation of distances and areas much simpler (we can apply simple geometry) than if we work with longitude-latitude coordinates.  For example, the equation for the distance between two locations with lon-lat coordinates $\\left(\\lambda_1,\\phi_1\\right)$ and $\\left(\\lambda_2,\\phi_2\\right)$ is given by the equation below (see [Haversine formula](https://en.wikipedia.org/wiki/Haversine_formula)). \n",
    "\n",
    "$$ \n",
    "d=2 r \\arcsin\\left(\\sqrt{\\sin^2\\left(\\frac{\\varphi_2 - \\varphi_1}{2}\\right) + \\cos(\\varphi_1) \\cos(\\varphi_2)\\sin^2\\left(\\frac{\\lambda_2 - \\lambda_1}{2}\\right)}\\right)\n",
    "$$\n",
    "\n",
    "where $r$ is Earth's radius. On the other hand, if we work in projected $\\left(x,y\\right)$ coordinates in the plane, then over small areas of Earth's surface, particularly local maps we can use the much simpler\n",
    "\n",
    "$$\n",
    "d\\approx\\sqrt{(x_2-x_1)^2+(y_2-y_1)^2}\n",
    "$$\n",
    "\n",
    "This provides enormous computational benefits when we are calculating many distances and areas in carrying out spatial analysis.\n",
    "\n",
    "It is worth noting that platforms are slowly emerging that can do the geometry calculations on a sphere quickly enough to make projections unnecessary _in some cases_, but even so, projections aren't going to go away any time soon (or even, ever...)."
   ]
  },
  {
   "cell_type": "markdown",
   "metadata": {},
   "source": [
    "## Projections in practice\n",
    "OK. That's all very interesting, how do we handle projections in practice? \n",
    "\n",
    "Let's read two files of the same data, that are differently projected."
   ]
  },
  {
   "cell_type": "code",
   "execution_count": null,
   "metadata": {},
   "outputs": [],
   "source": [
    "counties1 = geopandas.read_file(\"ca-counties.gpkg\")\n",
    "counties2 = geopandas.read_file(\"ca-counties-LL.gpkg\")"
   ]
  },
  {
   "cell_type": "markdown",
   "metadata": {},
   "source": [
    "Now let's make two maps side by side for comparison. It's worth paying attention here to how we make the two panel figure. `plt.figure()` creates a `figure` object, which we add subplots to with the `add_subplot()` method. Each time we add a subplot, we get a reference to it by assigning the result to a variable (`ax1` and `ax2`). When we make the individual maps, we use `ax=ax1` or `ax=ax2` to determine which subplot we are drawing."
   ]
  },
  {
   "cell_type": "code",
   "execution_count": null,
   "metadata": {},
   "outputs": [],
   "source": [
    "fig = pyplot.figure()\n",
    "fig.suptitle(\"California, two maps\")\n",
    "\n",
    "ax1 = fig.add_subplot(121) # the numeric code is rows-columns-position, 1 row, 2 columns, 1st position\n",
    "ax1.set_title(\"counties1\")\n",
    "counties1.plot(ax=ax1)\n",
    "\n",
    "ax2 = fig.add_subplot(122) # 1 row, 2 columns, 2nd position\n",
    "ax2.set_title(\"counties2\")\n",
    "counties2.plot(ax=ax2)\n"
   ]
  },
  {
   "cell_type": "markdown",
   "metadata": {},
   "source": [
    "Sure enough, they look different. We can find out what projections are in use in each case."
   ]
  },
  {
   "cell_type": "code",
   "execution_count": null,
   "metadata": {},
   "outputs": [],
   "source": [
    "counties1.crs"
   ]
  },
  {
   "cell_type": "code",
   "execution_count": null,
   "metadata": {},
   "outputs": [],
   "source": [
    "counties2.crs"
   ]
  },
  {
   "cell_type": "markdown",
   "metadata": {},
   "source": [
    "To find out more about those, look them up at [epsg.io](https://epsg.io) (note the EPSG codes displayed in the previous steps).\n",
    "\n",
    "The important thing here is that these two datasets have projection information. That means it is possible to reproject them. For example, we can project `counties2` into the projection system of `counties1` like this."
   ]
  },
  {
   "cell_type": "code",
   "execution_count": null,
   "metadata": {},
   "outputs": [],
   "source": [
    "counties2_prj = counties2.to_crs(counties1.crs)\n",
    "counties2_prj.plot()"
   ]
  },
  {
   "cell_type": "markdown",
   "metadata": {},
   "source": [
    "Or, for that matter we can project the data to something else entirely."
   ]
  },
  {
   "cell_type": "code",
   "execution_count": null,
   "metadata": {},
   "outputs": [],
   "source": [
    "albers = \"epsg:3310\"\n",
    "counties2_prj = counties2.to_crs(albers)\n",
    "counties2_prj.plot().set_title(\"Albers equal area, California\")"
   ]
  },
  {
   "cell_type": "markdown",
   "metadata": {},
   "source": [
    "Once we have a dataset in a projection we like, it is easy to write it out to a file."
   ]
  },
  {
   "cell_type": "code",
   "execution_count": null,
   "metadata": {},
   "outputs": [],
   "source": [
    "counties2_prj.to_file(\"ca-counties-aea.gpkg\", driver=\"GPKG\")"
   ]
  },
  {
   "cell_type": "code",
   "execution_count": null,
   "metadata": {},
   "outputs": [],
   "source": []
  }
 ],
 "metadata": {
  "kernelspec": {
   "display_name": "Python 3 (ipykernel)",
   "language": "python",
   "name": "python3"
  },
  "language_info": {
   "codemirror_mode": {
    "name": "ipython",
    "version": 3
   },
   "file_extension": ".py",
   "mimetype": "text/x-python",
   "name": "python",
   "nbconvert_exporter": "python",
   "pygments_lexer": "ipython3",
   "version": "3.9.7"
  }
 },
 "nbformat": 4,
 "nbformat_minor": 2
}
