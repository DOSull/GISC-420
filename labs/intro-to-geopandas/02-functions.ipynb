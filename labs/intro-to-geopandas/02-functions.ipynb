{
 "cells": [
  {
   "cell_type": "markdown",
   "metadata": {},
   "source": [
    "#### GISC 420 T1 2022\n",
    "# Functions\n",
    "This notebook is a supplement to Chapter 3 of [*Think Python*](http://greenteapress.com/thinkpython2/thinkpython2.pdf) by Allen Downey. It reinforces ideas in sections 3.1 to 3.6.\n",
    "\n",
    "The key building blocks of all programs are *functions*. We have seen one or two examples of *built-in* functions already, such as"
   ]
  },
  {
   "cell_type": "code",
   "execution_count": null,
   "metadata": {},
   "outputs": [],
   "source": [
    "type(42)"
   ]
  },
  {
   "cell_type": "markdown",
   "metadata": {},
   "source": [
    "## The `math` module\n",
    "The easiest way to get a handle on functions to begin with is by importing one of the Python modules, which provides a while bunch of them. We already got a glimpse of the `math` module last week. We work with it by first *importing* it"
   ]
  },
  {
   "cell_type": "code",
   "execution_count": null,
   "metadata": {},
   "outputs": [],
   "source": [
    "import math"
   ]
  },
  {
   "cell_type": "markdown",
   "metadata": {},
   "source": [
    "This makes available to us a wide range of functions for performing more complicated mathematics than the built in addition, subtraction, etc. So for example"
   ]
  },
  {
   "cell_type": "code",
   "execution_count": null,
   "metadata": {},
   "outputs": [],
   "source": [
    "math.sqrt(25)"
   ]
  },
  {
   "cell_type": "code",
   "execution_count": null,
   "metadata": {},
   "outputs": [],
   "source": [
    "math.sin(45)"
   ]
  },
  {
   "cell_type": "markdown",
   "metadata": {},
   "source": [
    "That one might seem wrong. That's because the `math.sin()` function takes as its *argument* an angle expressed in *radians*. There are 2$\\pi$ radians in a circle of 360$^\\mathrm{o}$ so to get 45$^\\mathrm{o}$ in radians we have to do a conversion"
   ]
  },
  {
   "cell_type": "code",
   "execution_count": null,
   "metadata": {},
   "outputs": [],
   "source": [
    "radians = 45 * math.pi / 180\n",
    "math.sin(radians)"
   ]
  },
  {
   "cell_type": "markdown",
   "metadata": {},
   "source": [
    "which for those who remember high school mathematics is probably more like what you'd expect."
   ]
  },
  {
   "cell_type": "markdown",
   "metadata": {},
   "source": [
    "## Composition\n",
    "The real power of programming languages is that we can assemble building blocks of code into much more complicated and powerful composite expressions. So for example, we could do all the above in a single expression"
   ]
  },
  {
   "cell_type": "code",
   "execution_count": null,
   "metadata": {},
   "outputs": [],
   "source": [
    "math.sin(45 * math.pi / 180)"
   ]
  },
  {
   "cell_type": "markdown",
   "metadata": {},
   "source": [
    "and again"
   ]
  },
  {
   "cell_type": "code",
   "execution_count": null,
   "metadata": {},
   "outputs": [],
   "source": [
    "math.sqrt(math.sin(45 * math.pi / 180))"
   ]
  },
  {
   "cell_type": "markdown",
   "metadata": {},
   "source": [
    "and again"
   ]
  },
  {
   "cell_type": "code",
   "execution_count": null,
   "metadata": {},
   "outputs": [],
   "source": [
    "math.log(math.sqrt(math.sin(45 * math.pi / 180)))"
   ]
  },
  {
   "cell_type": "markdown",
   "metadata": {},
   "source": [
    "## Making new functions\n",
    "Even more powerful than the ability to chain functions together like this, is the fact we can *make our own functions*.\n",
    "\n",
    "To do this we have to tell Python the function's name, we have to define what it does, and as part of the function definition we also have to tell Python what _arguments_ or values it should expect to process.\n",
    "\n",
    "To define a function, we use one of the keywords we've run into as a forbidden variable name, that is `def`."
   ]
  },
  {
   "cell_type": "code",
   "execution_count": null,
   "metadata": {},
   "outputs": [],
   "source": [
    "## Function to calculate cube of a number\n",
    "def cube(x):\n",
    "    return x ** 3"
   ]
  },
  {
   "cell_type": "markdown",
   "metadata": {},
   "source": [
    "This code is a function definition. It describes a new function `cube()` which will *return* a value calculated by raising the *argument* it receives to the third power. When the function is defined, nothing happens. But Python stores the definition for later use, and we *call* the function like this:"
   ]
  },
  {
   "cell_type": "code",
   "execution_count": null,
   "metadata": {},
   "outputs": [],
   "source": [
    "cube(3)"
   ]
  },
  {
   "cell_type": "code",
   "execution_count": null,
   "metadata": {},
   "outputs": [],
   "source": [
    "cube(2)"
   ]
  },
  {
   "cell_type": "markdown",
   "metadata": {},
   "source": [
    "What happens here is that the value we supply when we call `cube()` is assigned to the *local variable* `x` which is internal to the function. This value is used to perform the calculation that determines a result, and that value is then returned by the `return` command.\n",
    "\n",
    "This new function can be used in combination with built in functions."
   ]
  },
  {
   "cell_type": "code",
   "execution_count": null,
   "metadata": {},
   "outputs": [],
   "source": [
    "cube(math.sqrt(2))"
   ]
  },
  {
   "cell_type": "markdown",
   "metadata": {},
   "source": [
    "Obviously calculating the cube of a value is something that is easily done with built in operators. The usefulness of this becomes more obvious when we use it for more involved operations. For example, `math` has a hypoteneuse function `hypot`."
   ]
  },
  {
   "cell_type": "code",
   "execution_count": null,
   "metadata": {},
   "outputs": [],
   "source": [
    "math.hypot(3, 4)"
   ]
  },
  {
   "cell_type": "markdown",
   "metadata": {},
   "source": [
    "We can use the same function to determine the distance between two points $(x_1, y_1)$ and $(x_2, y_2)$"
   ]
  },
  {
   "cell_type": "code",
   "execution_count": null,
   "metadata": {},
   "outputs": [],
   "source": [
    "x1, y1 = 2, 4\n",
    "x2, y2 = 5, 8\n",
    "d = math.hypot((x2 - x1), (y2 - y1))\n",
    "d"
   ]
  },
  {
   "cell_type": "markdown",
   "metadata": {},
   "source": [
    "A different way to accomplish the same thing would be by defining a new function `distance`"
   ]
  },
  {
   "cell_type": "code",
   "execution_count": null,
   "metadata": {},
   "outputs": [],
   "source": [
    "# function to calculate distance between \n",
    "# points (x1,y1) and (x2,y2)\n",
    "def distance(x1, y1, x2, y2):\n",
    "    diff_x = x2 - x1\n",
    "    diff_y = y2 - y1\n",
    "    dist = math.hypot(diff_x, diff_y)\n",
    "    return dist"
   ]
  },
  {
   "cell_type": "markdown",
   "metadata": {},
   "source": [
    "Note how we use the function we already defined `hypoteneuse` to define the behaviour of this new function. Check it produces the correct result:"
   ]
  },
  {
   "cell_type": "code",
   "execution_count": null,
   "metadata": {},
   "outputs": [],
   "source": [
    "distance(0, 0, 3, 4)"
   ]
  },
  {
   "cell_type": "markdown",
   "metadata": {},
   "source": [
    "Where it gets _really_ useful though is something like calculating the great circle distance between two locations given their latitude and longitude. We'll see the formula for this [later](05-handling-map-projections.ipynb), for now here are some functions that together combine to give us the answer"
   ]
  },
  {
   "cell_type": "code",
   "execution_count": null,
   "metadata": {},
   "outputs": [],
   "source": [
    "def deg_to_rad(d):\n",
    "    return d * math.pi / 180.0\n",
    "\n",
    "def lon_lat_distance(lon_deg_1, lat_deg_1, lon_deg_2, lat_deg_2, R = 6371):\n",
    "    lon1 = deg_to_rad(lon_deg_1)\n",
    "    lat1 = deg_to_rad(lat_deg_1)\n",
    "    lon2 = deg_to_rad(lon_deg_2)\n",
    "    lat2 = deg_to_rad(lat_deg_2)\n",
    "    \n",
    "    return 2 * R * math.asin(math.sqrt(math.sin((lat2 - lat1) / 2) ** 2 +\n",
    "                             math.cos(lat1) * math.cos(lat2) * \n",
    "                                       math.sin((lon2 - lon1) / 2) ** 2))"
   ]
  },
  {
   "cell_type": "code",
   "execution_count": null,
   "metadata": {},
   "outputs": [],
   "source": [
    "lon_lat_distance(174.7, -41.2, 174.8, -35.9) # Wellington to Auckland"
   ]
  },
  {
   "cell_type": "code",
   "execution_count": null,
   "metadata": {},
   "outputs": [],
   "source": []
  }
 ],
 "metadata": {
  "kernelspec": {
   "display_name": "Python 3 (ipykernel)",
   "language": "python",
   "name": "python3"
  },
  "language_info": {
   "codemirror_mode": {
    "name": "ipython",
    "version": 3
   },
   "file_extension": ".py",
   "mimetype": "text/x-python",
   "name": "python",
   "nbconvert_exporter": "python",
   "pygments_lexer": "ipython3",
   "version": "3.9.7"
  }
 },
 "nbformat": 4,
 "nbformat_minor": 2
}
