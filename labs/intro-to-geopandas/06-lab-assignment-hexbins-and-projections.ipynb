{
 "cells": [
  {
   "cell_type": "markdown",
   "metadata": {},
   "source": [
    "#### GISC 420 T1 2021\n",
    "# **LAB ASSIGNMENT 1**"
   ]
  },
  {
   "cell_type": "code",
   "execution_count": null,
   "metadata": {},
   "outputs": [],
   "source": [
    "%matplotlib inline\n",
    "\n",
    "import matplotlib\n",
    "import matplotlib.pyplot as pyplot\n",
    "import geopandas"
   ]
  },
  {
   "cell_type": "markdown",
   "metadata": {},
   "source": [
    "There's quite a lot to think about here, *but not actually very much code to write*. For submission instructions see the last cells of the notebook. But before getting to that, there is a fair bit to work through and chew on."
   ]
  },
  {
   "cell_type": "markdown",
   "metadata": {},
   "source": [
    "# Hexbins and map projection\n",
    "This assignment takes a look at the implications of map projection for a popular visualization technique *hexbinning* when applied to geographical data over large geographical extents.\n",
    "\n",
    "The exercise is inspired by this recent paper, which deserves an award for its great title, if nothing else\n",
    "\n",
    "+ Battersby, S. E., D. “daan” Strebe, and M. P. Finn. 2016. [Shapes on a plane: evaluating the impact of projection distortion on spatial binning](http://www.tandfonline.com/doi/full/10.1080/15230406.2016.1180263). Cartography and Geographic Information Science :1–12.\n",
    "\n",
    "The essential point of the paper is that the assumption that hexbinning is a good way to visualize density depends on how much area distortion is induced by the map projections in use.\n",
    "\n",
    "To explore this we work with a global dataset of earthquake incidents, and also develop some code (I've done most of this) to make hexbin maps using `geopandas`."
   ]
  },
  {
   "cell_type": "markdown",
   "metadata": {},
   "source": [
    "## Some evenly distributed (but random) point data\n",
    "Before getting started, let's load the dataset we will work with."
   ]
  },
  {
   "cell_type": "code",
   "execution_count": null,
   "metadata": {},
   "outputs": [],
   "source": [
    "random_pts = geopandas.read_file('dots.gpkg')\n",
    "random_pts.plot(markersize=0.25)"
   ]
  },
  {
   "cell_type": "markdown",
   "metadata": {},
   "source": [
    "I generated these data as a set of 10,000 random points making sure they are evenly distributed (but random) across all of Earth's surface. These are completely fictitious data. In previous versions of this lab I have used earthquake data, and tried lightning flash data and even UFO data but it turns out no real data are evenly distributed (geography is a thing after all), so the point of this lab is made better by a random data set than by any real dataset.\n",
    "\n",
    "We can put these on a base map of the world, just so we are sure where we are. `geopandas` provides a built in world map dataset. We drop Antarctica, because it often causes problems when doing projection of the whole Earth (also because it shows you how to do this)."
   ]
  },
  {
   "cell_type": "code",
   "execution_count": null,
   "metadata": {},
   "outputs": [],
   "source": [
    "world = geopandas.read_file(geopandas.datasets.get_path('naturalearth_lowres'))\n",
    "# get rid of Antarctica\n",
    "world = world[world.continent != 'Antarctica'] # != is the python for 'not equal to'\n",
    "# reproject to match the quakes data\n",
    "world = world.to_crs(random_pts.crs)"
   ]
  },
  {
   "cell_type": "markdown",
   "metadata": {},
   "source": [
    "Now map them."
   ]
  },
  {
   "cell_type": "code",
   "execution_count": null,
   "metadata": {},
   "outputs": [],
   "source": [
    "fig = pyplot.figure(figsize=(6,10))\n",
    "base = fig.add_subplot(111)\n",
    "world.plot(ax=base, facecolor='w', edgecolor='k', linewidth=0.35)\n",
    "random_pts.plot(ax=base, markersize=0.25)"
   ]
  },
  {
   "cell_type": "markdown",
   "metadata": {},
   "source": [
    "At this point, you may already smell a rat (hint: what projection are these data in?)"
   ]
  },
  {
   "cell_type": "markdown",
   "metadata": {},
   "source": [
    "## Hexbin maps\n",
    "The best way to appreciate what hexbins are is to try them. `pyplot` has a built in hexbin function. Give it a try by running the cell below."
   ]
  },
  {
   "cell_type": "code",
   "execution_count": null,
   "metadata": {},
   "outputs": [],
   "source": [
    "import random\n",
    "# make 500 random x,y coordinates\n",
    "x = [random.random() for __ in range(1000)]\n",
    "y = [random.random() for __ in range(1000)]\n",
    "\n",
    "fig = pyplot.figure()\n",
    "ax = fig.add_subplot(111)\n",
    "ax.set_aspect('equal') # this makes it look a bit nicer\n",
    "# plot hexbins\n",
    "pyplot.hexbin(x, y, gridsize=15, cmap='Greys')\n",
    "# put the points on top for reference, note r. specifies points, not lines!\n",
    "pyplot.plot(x, y, 'r.', markersize=2)"
   ]
  },
  {
   "cell_type": "markdown",
   "metadata": {},
   "source": [
    "The idea is that the colored in plot makes it easier to identify 'hotspots' or concentrations in the data.  It is particularly useful with large number of points (try changing the number of points in the cell above).\n",
    "\n",
    "Now, this is fine as far as it goes, but may not be ideal if our $(x,y)$ coordinates are actually geographical coordinates, because lest we forget *the Earth is not flat*. \n",
    "\n",
    "The built in hexbin plot doesn't treat the two coordinates as equal which is why I added the line `ax.set_aspect('equal')`.  But a more insidious difficulty is that geographic coordinates affect the *area* of the hexagons, so that the supposedly unbiased picture of the variations in density of points across the 'map' may not be unbiased at all."
   ]
  },
  {
   "cell_type": "markdown",
   "metadata": {},
   "source": [
    "### A geographic hexbin map\n",
    "So... I've written a small 'wrapper' function for the hexbin function (below) which we can use instead.\n",
    "\n",
    "Take a look in the cell below, before running it. \n",
    "\n",
    "You **absolutely don't need to understand all that is happening here in detail**, because you are just going to use the `get_hexbin_data()` function. I've split things into three functions, as follows."
   ]
  },
  {
   "cell_type": "markdown",
   "metadata": {},
   "source": [
    "#### `get_hexgrid_size_and_extent()` \n",
    "This function determines the number of hexes in the $x$ and $y$ directions and also the $x$ and $y$ coordinate range of the plot."
   ]
  },
  {
   "cell_type": "code",
   "execution_count": null,
   "metadata": {},
   "outputs": [],
   "source": [
    "import shapely # needed for geometry manipulations to make the hexes GeoSeries\n",
    "\n",
    "# Returns a suitable grid dimension and extent for hexbinning\n",
    "# based on an input points GeoDataframe. nx specifies the\n",
    "# desired number of hexagons in the x direction. A one hex\n",
    "# wide 'buffer' is included.\n",
    "def get_hexgridsize_and_extent(pts, nx=15):\n",
    "    # we need this later\n",
    "    sqrt3 = 3 ** 0.5\n",
    "    \n",
    "    # see http://geopandas.org/reference.html#geopandas.GeoSeries.total_bounds\n",
    "    x_min, y_min, x_max, y_max = pts.total_bounds\n",
    "    x_range = x_max - x_min\n",
    "    y_range = y_max - y_min\n",
    "\n",
    "    # use this information to give us a little more room - a buffer\n",
    "    x_buffer = x_range / (nx * 2)\n",
    "    y_buffer = x_buffer * sqrt3 # y needs more because hexes are taller than they are wide\n",
    "    x_min = x_min - x_buffer\n",
    "    x_max = x_max + x_buffer\n",
    "    y_min = y_min - y_buffer\n",
    "    y_max = y_max + y_buffer\n",
    "    \n",
    "    # the hexbin function needs a grid and extent\n",
    "    grid_dimensions = (nx, int(nx * y_range / x_range / sqrt3))\n",
    "    pt_extent = (x_min, x_max, y_min, y_max)\n",
    "    \n",
    "    return grid_dimensions, pt_extent"
   ]
  },
  {
   "cell_type": "markdown",
   "metadata": {},
   "source": [
    "#### `get_x_and_y()` \n",
    "This function gets simple lists of x and y coordinates from the provided points `GeoDataFrame`"
   ]
  },
  {
   "cell_type": "code",
   "execution_count": null,
   "metadata": {},
   "outputs": [],
   "source": [
    "# Returns simple lists of the x and y coordinates\n",
    "# of a supplied points GeoDataframe\n",
    "def get_x_and_y(pts):\n",
    "    x = [p.x for p in pts.geometry]\n",
    "    y = [p.y for p in pts.geometry]\n",
    "    return x, y"
   ]
  },
  {
   "cell_type": "markdown",
   "metadata": {},
   "source": [
    "#### `get_hexbin_data()`\n",
    "This one does the work and returns the hexbins as a `GeoDataFrame`"
   ]
  },
  {
   "cell_type": "code",
   "execution_count": null,
   "metadata": {},
   "outputs": [],
   "source": [
    "# makes a hexbin GeoDataFrame from supplied pt layer with the specified \n",
    "# nx number of hexes across \n",
    "# the tricky part is extracting hexagons from the PathCollection\n",
    "# returned by pyplot.hexbin()\n",
    "def get_hexbin_data(pt_layer, nx=15, show=True):\n",
    "    grid_dim, pt_extent = get_hexgridsize_and_extent(pt_layer, nx)\n",
    "    x, y = get_x_and_y(pt_layer)\n",
    "\n",
    "    # use pyplot.hexbin to perform the analysis\n",
    "    # retaining the output, details of which are available at\n",
    "    # http://matplotlib.org/api/pyplot_api.html#matplotlib.pyplot.hexbin\n",
    "    hb = pyplot.hexbin(x, y, extent=pt_extent, gridsize=grid_dim, visible=show)\n",
    "    \n",
    "    # retrieve the base hexagon as a shapely Polygon from the hexbin results\n",
    "    base_hex = shapely.geometry.polygon.Polygon([xy[0] for xy in hb.get_paths()[0].iter_segments()])\n",
    "    # make the array of hexbins by iterating over the 'offsets'\n",
    "    hex_shapes = [shapely.affinity.translate(base_hex, xoff=dx, yoff=dy) for (dx, dy) in hb.get_offsets()]\n",
    "    # now make a geopandas GeoDataFrame with these as its geometry column\n",
    "    hexes = geopandas.GeoDataFrame(geometry=geopandas.GeoSeries(hex_shapes))\n",
    "    # also add the counts from the hexbin results\n",
    "    hexes['n'] = list(hb.get_array())\n",
    "    # set the CRS\n",
    "    hexes.crs = pt_layer.crs\n",
    "    \n",
    "    # return the GeoDataFrame\n",
    "    return hexes"
   ]
  },
  {
   "cell_type": "markdown",
   "metadata": {},
   "source": [
    "### Using `get_hexbin_data()`\n",
    "So now let's use this function.\n",
    "\n",
    "Here, you need to pay close attention, because you will be asked to do something similar yourself.\n",
    "\n",
    "First, run the function to make hexbins, retaining both the result as `hexbins`."
   ]
  },
  {
   "cell_type": "code",
   "execution_count": null,
   "metadata": {},
   "outputs": [],
   "source": [
    "hexbins = get_hexbin_data(random_pts)"
   ]
  },
  {
   "cell_type": "markdown",
   "metadata": {},
   "source": [
    "Don't worry for now about the goofy shape of the output, which is the raw result from the `pyplot.hexbin()` plot.\n",
    "\n",
    "Next we use a `geopandas` overlay operation to make a basemap we can use in a final map."
   ]
  },
  {
   "cell_type": "code",
   "execution_count": null,
   "metadata": {},
   "outputs": [],
   "source": [
    "# overlay the world data with the hexbins \n",
    "# this will clip it to the extent we need\n",
    "w = geopandas.overlay(world, hexbins, 'intersection')"
   ]
  },
  {
   "cell_type": "markdown",
   "metadata": {},
   "source": [
    "And now we can build our map."
   ]
  },
  {
   "cell_type": "code",
   "execution_count": null,
   "metadata": {},
   "outputs": [],
   "source": [
    "fig = pyplot.figure(figsize=(5,8))\n",
    "base = fig.add_subplot(111)\n",
    "\n",
    "# plot the world data\n",
    "w.plot(ax=base, facecolor='grey')\n",
    "# plot the hexbins\n",
    "hexbins.plot(ax=base, column='n', cmap='Reds', alpha=0.75, legend = True)"
   ]
  },
  {
   "cell_type": "markdown",
   "metadata": {},
   "source": [
    "Now, we are ready to put everything together and complete the assignment.  "
   ]
  },
  {
   "cell_type": "markdown",
   "metadata": {},
   "source": [
    "# Assignment instructions\n",
    "So... here's what you are required to do.\n",
    "\n",
    "First, **save a new copy of this notebook to work in**. _Include your name in the file name_, so it will be easy for me to keep track of whose work it is.\n",
    "\n",
    "Then using an **appropriate equal area projection** (use [this website](http://projectionwizard.org/) to discover the PROJ4 code for suitable projections) make a second hexbin map to go alongside the base one in the code cell below. \n",
    "\n",
    "To do this, you'll want to use the `to_crs()` function on the quakes `random_pts` dataset *to make a new projected version*. You will also need to apply the same projection to the `world` dataset to get the basemap right. Make sure you *make a new variable* when you do these transformation, or things will probably get confused (call them something like `random_pts_p` and `world_p`.\n",
    "\n",
    "When you have successfully made these maps, what do you notice?. Why are the two maps different? \n",
    "\n",
    "Comment on the difference you notice, and also any aspects of the coding in the markdown text cell below the code cell.\n",
    "\n",
    "You should complete the code cell below, and also the markdown cell that follows with any commentary.\n",
    "\n",
    "**When you are finished, save the completed notebook for upload to the dropbox provided on blackboard.**"
   ]
  },
  {
   "cell_type": "markdown",
   "metadata": {},
   "source": [
    "### Below is the code cell you should work in\n",
    "You may find it useful to make a duplicate of it before you start."
   ]
  },
  {
   "cell_type": "code",
   "execution_count": null,
   "metadata": {},
   "outputs": [],
   "source": [
    "## Make a two panel plot for the two hexbin maps\n",
    "fig = pyplot.figure(figsize=(9,9)) # you might want to change the size \n",
    "fig.suptitle(\"Hexbin maps of evenly distributed random points\\nacross two projections\", fontsize=14)\n",
    "\n",
    "ax = fig.add_subplot(121)\n",
    "ax.set_title(str(random_pts.crs))\n",
    "\n",
    "hexbins = get_hexbin_data(random_pts, show=False)\n",
    "w = geopandas.overlay(world, hexbins, 'intersection')\n",
    "\n",
    "w.plot(ax=ax, facecolor='grey')\n",
    "hexbins.plot(ax=ax, column='n', cmap=\"Reds\", alpha=0.75)\n",
    "\n",
    "## Equal-area hexbins in panel 2\n",
    "## Find an appropriate equal area projection and\n",
    "## include it in the code outlined below\n",
    "ax = fig.add_subplot(122)\n",
    "# reproject the quakes and world datasets\n",
    "# and redo the hexbin mapping"
   ]
  },
  {
   "cell_type": "markdown",
   "metadata": {},
   "source": [
    "### Below you can provide commentary on your answer\n",
    "Focus particularly on any coding challenges you encountered, but do also consider issues relating to the different hexbin results you obtain.\n"
   ]
  },
  {
   "cell_type": "markdown",
   "metadata": {},
   "source": [
    "**Double-click below to edit**"
   ]
  },
  {
   "cell_type": "markdown",
   "metadata": {},
   "source": []
  }
 ],
 "metadata": {
  "kernelspec": {
   "display_name": "Python 3",
   "language": "python",
   "name": "python3"
  },
  "language_info": {
   "codemirror_mode": {
    "name": "ipython",
    "version": 3
   },
   "file_extension": ".py",
   "mimetype": "text/x-python",
   "name": "python",
   "nbconvert_exporter": "python",
   "pygments_lexer": "ipython3",
   "version": "3.8.6"
  }
 },
 "nbformat": 4,
 "nbformat_minor": 2
}
