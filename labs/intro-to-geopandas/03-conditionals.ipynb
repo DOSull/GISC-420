{
 "cells": [
  {
   "cell_type": "markdown",
   "metadata": {},
   "source": [
    "#### GISC 420 T1 2021\n",
    "# Conditionals\n",
    "This notebook supplements Chapter 5 of [Think Python](http://greenteapress.com/thinkpython2/thinkpython2.pdf) by Allen Downey. It covers sections **5.2** to **5.7** and ignores recursion (which I think of as an advanced topic)."
   ]
  },
  {
   "cell_type": "markdown",
   "metadata": {},
   "source": [
    "## Boolean expressions\n",
    "In addition to expressions that produce numerical results, we can have expressions that produce *Boolean* results, that is, they evaluate to either `True` or `False`. Here are some examples"
   ]
  },
  {
   "cell_type": "code",
   "execution_count": null,
   "metadata": {},
   "outputs": [],
   "source": [
    "5 > 4"
   ]
  },
  {
   "cell_type": "code",
   "execution_count": null,
   "metadata": {},
   "outputs": [],
   "source": [
    "5 < 4"
   ]
  },
  {
   "cell_type": "code",
   "execution_count": null,
   "metadata": {},
   "outputs": [],
   "source": [
    "4 <= 5"
   ]
  },
  {
   "cell_type": "markdown",
   "metadata": {},
   "source": [
    "Numerical comparisons are reasonably obvious. We can compare strings also: "
   ]
  },
  {
   "cell_type": "code",
   "execution_count": null,
   "metadata": {},
   "outputs": [],
   "source": [
    "'Arthur' > 'Bob'"
   ]
  },
  {
   "cell_type": "code",
   "execution_count": null,
   "metadata": {},
   "outputs": [],
   "source": [
    "'Bob' > 'arthur'"
   ]
  },
  {
   "cell_type": "markdown",
   "metadata": {},
   "source": [
    "However, it's probably best avoided, because it gets into some tricky issues (which I will explain in class. (Try capitalising `arthur` in the previous cell to see what happens."
   ]
  },
  {
   "cell_type": "markdown",
   "metadata": {},
   "source": [
    "To test for equality of two values we use a special operator `==`"
   ]
  },
  {
   "cell_type": "code",
   "execution_count": null,
   "metadata": {},
   "outputs": [],
   "source": [
    "5 == 5"
   ]
  },
  {
   "cell_type": "markdown",
   "metadata": {},
   "source": [
    "and for inequality another special operator"
   ]
  },
  {
   "cell_type": "code",
   "execution_count": null,
   "metadata": {},
   "outputs": [],
   "source": [
    "5 != 5"
   ]
  },
  {
   "cell_type": "markdown",
   "metadata": {},
   "source": [
    "### Boolean expressions\n",
    "We can also combine the values `True` and `False` in a variety of ways, using the Boolean operators `and`, `or` and `not`."
   ]
  },
  {
   "cell_type": "code",
   "execution_count": null,
   "metadata": {},
   "outputs": [],
   "source": [
    "not True"
   ]
  },
  {
   "cell_type": "code",
   "execution_count": null,
   "metadata": {},
   "outputs": [],
   "source": [
    "not False"
   ]
  },
  {
   "cell_type": "code",
   "execution_count": null,
   "metadata": {},
   "outputs": [],
   "source": [
    "False and True"
   ]
  },
  {
   "cell_type": "code",
   "execution_count": null,
   "metadata": {},
   "outputs": [],
   "source": [
    "True or False"
   ]
  },
  {
   "cell_type": "code",
   "execution_count": null,
   "metadata": {},
   "outputs": [],
   "source": [
    "not False or False"
   ]
  },
  {
   "cell_type": "markdown",
   "metadata": {},
   "source": [
    "## Conditional execution\n",
    "\n",
    "The point of all this is not so much being able to combine truth values as that we can use truth values to govern what bits of code in our programs execute depending on the state of data we are working with. For example"
   ]
  },
  {
   "cell_type": "code",
   "execution_count": null,
   "metadata": {},
   "outputs": [],
   "source": [
    "# tells us if x is even or odd\n",
    "# note that we use the modulo operatot % to do this (see p 39 of the book)\n",
    "def is_even(x):\n",
    "    if x % 2 == 0:\n",
    "        print(str(x) + \" is even\")\n",
    "    else:\n",
    "        print(str(x) + \" is odd\")"
   ]
  },
  {
   "cell_type": "markdown",
   "metadata": {},
   "source": [
    "Now test this"
   ]
  },
  {
   "cell_type": "code",
   "execution_count": null,
   "metadata": {},
   "outputs": [],
   "source": [
    "is_even(5)"
   ]
  },
  {
   "cell_type": "markdown",
   "metadata": {},
   "source": [
    "Here is a more complicated example"
   ]
  },
  {
   "cell_type": "code",
   "execution_count": null,
   "metadata": {},
   "outputs": [],
   "source": [
    "# Determines if the supplied year is a leap year\n",
    "# and also tells us why\n",
    "# we assume that year is an integer\n",
    "def is_leap_year(year):\n",
    "    # first if the year is NOT divisible by 4, then it's definitely not a leap year \n",
    "    if not (year % 4 == 0):\n",
    "        print(str(year) + \" is not a leap year because it is not divisible by 4\")\n",
    "    # if it is divisible by 4, we have to check if it is a century\n",
    "    elif year % 100 == 0:\n",
    "        # if it is a century, we have to test the century also\n",
    "        century = year // 100\n",
    "        if century % 4 == 0:\n",
    "            print(str(year) + \" is a leap year because it is a century divisible by 4\")\n",
    "        else:\n",
    "            print(str(year) + \" is not a leap year because it is a century not divisible by 4\")\n",
    "    # if we get to here then it is divisible by 4 and not a century\n",
    "    # so it is a simple leap year\n",
    "    else:\n",
    "        print(str(year) + \" is a simple leap year divisible by 4\")"
   ]
  },
  {
   "cell_type": "markdown",
   "metadata": {},
   "source": [
    "Use the next cell to test some results"
   ]
  },
  {
   "cell_type": "code",
   "execution_count": null,
   "metadata": {},
   "outputs": [],
   "source": [
    "is_leap_year(1972)"
   ]
  },
  {
   "cell_type": "markdown",
   "metadata": {},
   "source": [
    "We we will take a closer look at this function in class. It illustrates material discussed in sections **5.4**, **5.5**, **5.6** and **5.7** of the book.\n",
    "\n",
    "Try the cell below which uses the `input()` function to get an input year from the user (you) before calling the `is_leap_year()` function."
   ]
  },
  {
   "cell_type": "code",
   "execution_count": null,
   "metadata": {},
   "outputs": [],
   "source": [
    "y = int(input())\n",
    "is_leap_year(y)"
   ]
  },
  {
   "cell_type": "code",
   "execution_count": null,
   "metadata": {},
   "outputs": [],
   "source": []
  }
 ],
 "metadata": {
  "kernelspec": {
   "display_name": "Python 3",
   "language": "python",
   "name": "python3"
  },
  "language_info": {
   "codemirror_mode": {
    "name": "ipython",
    "version": 3
   },
   "file_extension": ".py",
   "mimetype": "text/x-python",
   "name": "python",
   "nbconvert_exporter": "python",
   "pygments_lexer": "ipython3",
   "version": "3.8.8"
  }
 },
 "nbformat": 4,
 "nbformat_minor": 2
}
