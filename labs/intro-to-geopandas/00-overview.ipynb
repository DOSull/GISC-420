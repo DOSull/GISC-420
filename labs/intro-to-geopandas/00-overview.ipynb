{
 "cells": [
  {
   "cell_type": "markdown",
   "id": "quick-collar",
   "metadata": {},
   "source": [
    "#### GISC 420 T1 2021\n",
    "# Introducing notebooks, functions, conditionals and `geopandas`\n",
    "Materials for this week's session are in [this zip file](https://github.com/DOSull/GISC-420/blob/master/labs/intro-to-geopandas/intro-to-geopandas.zip?raw=true). Download and extract it to a suitable location then start up `jupyter notebook` in that folder and work on the notebooks as set out below.\n",
    "\n",
    "This week we get started on using jupyter notebooks, so you'll need to look at [this notebook](01-intro-to-notebooks.ipynb) introducing them.\n",
    "\n",
    "There are two notebooks accompanying reading from _Think Python_ this week:\n",
    "+   [Chapter 3 on functions](02-functions.ipynb)\n",
    "+   [Chapter 5 on conditionals](03-conditionals.ipynb)\n",
    "\n",
    "There are a further three notebooks exploring spatial data, the last one including an assignment:\n",
    "+   [Introducing `geopandas`](04-introducing-geopandas.ipynb)\n",
    "+   [Handling map projections](05-handling-map-projections.ipynb)\n",
    "+   [The lab assignment on hexbins and map projections](06-lab-assignment-hexbins-and-projections.ipynb)\n"
   ]
  },
  {
   "cell_type": "code",
   "execution_count": null,
   "id": "fiscal-breakdown",
   "metadata": {},
   "outputs": [],
   "source": []
  }
 ],
 "metadata": {
  "kernelspec": {
   "display_name": "Python 3",
   "language": "python",
   "name": "python3"
  },
  "language_info": {
   "codemirror_mode": {
    "name": "ipython",
    "version": 3
   },
   "file_extension": ".py",
   "mimetype": "text/x-python",
   "name": "python",
   "nbconvert_exporter": "python",
   "pygments_lexer": "ipython3",
   "version": "3.8.8"
  }
 },
 "nbformat": 4,
 "nbformat_minor": 5
}
