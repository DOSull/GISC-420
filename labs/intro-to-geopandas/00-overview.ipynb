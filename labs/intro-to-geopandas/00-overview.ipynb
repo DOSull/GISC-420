{
 "cells": [
  {
   "cell_type": "markdown",
   "metadata": {},
   "source": [
    "#### GISC 425 T1 2020\n",
    "# Week 2 overview\n",
    "[This notebook](01-intro-to-notebooks.ipynb) is an introduction to notebooks."
   ]
  },
  {
   "cell_type": "markdown",
   "metadata": {},
   "source": [
    "Thenre are two notebooks accompanying reading from _Think Python_:\n",
    "+ [Chapter 3 on functions](02-functions.ipynb)\n",
    "+ [Chapter 5 on conditionals](03-conditionals.ipynb)"
   ]
  },
  {
   "cell_type": "markdown",
   "metadata": {},
   "source": [
    "There are a further three notebooks exploring spatial data:\n",
    "+ [Introducing `geopandas`](04-introducing-geopandas.ipynb)\n",
    "+ [Handling map projections](05-handling-map-projections.ipynb)\n",
    "+ [The lab assignment on hexbins and map projections](06-lab-assignment-hexbins-and-projections.ipynb)"
   ]
  },
  {
   "cell_type": "code",
   "execution_count": null,
   "metadata": {},
   "outputs": [],
   "source": []
  }
 ],
 "metadata": {
  "kernelspec": {
   "display_name": "Python 3",
   "language": "python",
   "name": "python3"
  },
  "language_info": {
   "codemirror_mode": {
    "name": "ipython",
    "version": 3
   },
   "file_extension": ".py",
   "mimetype": "text/x-python",
   "name": "python",
   "nbconvert_exporter": "python",
   "pygments_lexer": "ipython3",
   "version": "3.8.6"
  }
 },
 "nbformat": 4,
 "nbformat_minor": 2
}
