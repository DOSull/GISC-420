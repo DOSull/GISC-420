{
 "cells": [
  {
   "cell_type": "markdown",
   "metadata": {},
   "source": [
    "# Introduction to notebooks and Python basics\n",
    "This week we have five notebooks to explore. One of them is this one.\n",
    "\n",
    "The three important ones are\n",
    "\n",
    "+ [An introduction to the notebook environment](intro-to-notebooks.ipynb)\n",
    "+ [Arithmetic, values and types](arithmetic-values-and-types.ipynb)\n",
    "+ [Variables, expressions and statements](variables-expressions-and-statements.ipynb)\n",
    "\n",
    "You should work through these in order, to get familiar with the environment, and begin to get a feel for Python code, what it looks like, and some basic aspects of its behaviour.\n",
    "\n",
    "The fifth notebook provides information on how to setup an environment (hopefully) identical to the lab machine environment, on your own computer:\n",
    "\n",
    "+ [Setting up the GISC 425 environment](setting-up-the-gisc-425-environment.ipynb)"
   ]
  },
  {
   "cell_type": "markdown",
   "metadata": {},
   "source": [
    "### That's all from this notebook!"
   ]
  },
  {
   "cell_type": "code",
   "execution_count": null,
   "metadata": {},
   "outputs": [],
   "source": []
  }
 ],
 "metadata": {
  "kernelspec": {
   "display_name": "Python 3",
   "language": "python",
   "name": "python3"
  },
  "language_info": {
   "codemirror_mode": {
    "name": "ipython",
    "version": 3
   },
   "file_extension": ".py",
   "mimetype": "text/x-python",
   "name": "python",
   "nbconvert_exporter": "python",
   "pygments_lexer": "ipython3",
   "version": "3.7.1"
  }
 },
 "nbformat": 4,
 "nbformat_minor": 2
}
