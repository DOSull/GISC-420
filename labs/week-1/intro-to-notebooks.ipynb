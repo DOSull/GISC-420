{
 "cells": [
  {
   "cell_type": "markdown",
   "metadata": {},
   "source": [
    "# Introduction to the notebook environment\n",
    "Jupyter notebooks are an interactive, web-based environment in which we can mix explanatory text (like this!) with code. They provide (I hope) a setting in which we can work up to learning to code, by first using it (without writing it), then modifying snippets of it, and then graduating to writing longer chunks of code.\n",
    "\n",
    "We are using notebooks inside Jupyter Lab, which lets you navigate around among more than one notebook, which can be convenient."
   ]
  },
  {
   "cell_type": "markdown",
   "metadata": {},
   "source": [
    "## The notebook interface\n",
    "There are two kinds of *cells*. Ones like this one with formatted text, links and perhaps images, explaining what's going on, and ones like the one below which contain snippets (sometimes quite long snippets) of Python code."
   ]
  },
  {
   "cell_type": "markdown",
   "metadata": {},
   "source": [
    "To run code cells, either click the run button next to them (on the left), or the run button at the top of the page, or click Shift-Enter while the cursor is in the cell.\n",
    "\n",
    "Try it below."
   ]
  },
  {
   "cell_type": "code",
   "execution_count": null,
   "metadata": {},
   "outputs": [],
   "source": [
    "print('Hello, World!')"
   ]
  },
  {
   "cell_type": "markdown",
   "metadata": {},
   "source": [
    "That's pretty much the interface."
   ]
  },
  {
   "cell_type": "markdown",
   "metadata": {},
   "source": [
    "## OK... here's a little bit more\n",
    "Mostly it is pretty straightforward. The menus at the top of the Jupyter Lab page provide most of what you need."
   ]
  },
  {
   "cell_type": "markdown",
   "metadata": {},
   "source": [
    "### One point of confusion\n",
    "One important thing to understand is that the code in a notebook may not work properly if you run cells out of sequence. It's easy enough, first time through a notebook to run everything in sequence. When you start exploring it is important to ensure things have always run in order. There are some useful menu commands that will help you do this.\n",
    "\n",
    "**Edit - Clear All Outputs** resets everything back to how it was when you opened the notebook in the first place.\n",
    "\n",
    "**Run - Run All Above Selected Cell** is a good option when you are going back to an earlier cell. Selecting it will ensure that the notebook is in the state expected by that cell and help avoid confusing and time-consuming errors.\n",
    "\n",
    "If all else fails, **File - Quit** and relaunch. Before doing so, you can always use **File - Save Notebook As...** to capture a version of where you had got to."
   ]
  },
  {
   "cell_type": "markdown",
   "metadata": {},
   "source": [
    "## General advice on using notebooks for learning\n",
    "+ **Don't** click through everything and disappear and consider the lab finished \n",
    "+ **Do** read the commentary materials and make sure you understand what is going on\n",
    "+ **Do** ask questions and experiment. For example, change some of the code and re-run cells to see how the outputs change.\n",
    "\n",
    "The idea is to provide an environment where you can become accustomed to code and build up to learning it, without a lot of the usual headaches of mistyping things, getting things wrong, and so on.\n",
    "\n",
    "The idea is not to provide you with an environment where you can Shift-Enter your way through a lab and leave none the wiser than when you arrived!"
   ]
  },
  {
   "cell_type": "code",
   "execution_count": null,
   "metadata": {},
   "outputs": [],
   "source": []
  }
 ],
 "metadata": {
  "kernelspec": {
   "display_name": "Python 3.6",
   "language": "python",
   "name": "python36"
  },
  "language_info": {
   "codemirror_mode": {
    "name": "ipython",
    "version": 3
   },
   "file_extension": ".py",
   "mimetype": "text/x-python",
   "name": "python",
   "nbconvert_exporter": "python",
   "pygments_lexer": "ipython3",
   "version": "3.7.1"
  }
 },
 "nbformat": 4,
 "nbformat_minor": 2
}
