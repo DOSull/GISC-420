{
 "cells": [
  {
   "cell_type": "markdown",
   "id": "b0dc4f32",
   "metadata": {},
   "source": [
    "#### GISC 420 T1 2022\n",
    "# A simple example getting Python to drive JavaScript\n",
    "A lot of the nicest new frameworks (for mapping or anything else) happen first these days, or develop most quickly in the web-space. This has a great deal to do with the enormous resources poured into the web as a platform, which have seen previously unimaginable development of the JavaScript (JS) prgramming language and of the associated virtual machines (which are everywhere now... every phone, every computer, and so on...).\n",
    "\n",
    "As a result anyone writing code today should at least be web-aware. And that means being somewhat acquainted with the JS world.\n",
    "\n",
    "We'll look at an example of web-programming (non-map related) in class, but to also give you a sense of why this is an exciting space below we use [`pydeck`](https://pydeck.gl/index.html) to drive the [`deck.gl`](https://deck.gl/) framework for interactive 3D visualisation."
   ]
  },
  {
   "cell_type": "markdown",
   "id": "45d40296",
   "metadata": {},
   "source": [
    "## Getting set up\n",
    "To run this notebook, you'll need to first download [the zip file for this material](https://github.com/DOSull/GISC-420/blob/master/labs/deck/deck.zip?raw=true), which includes this notebook and also the data. \n",
    "\n",
    "Then you'll need to make a new environment. These instructions are from [here](https://pydeck.gl/installation.html). \n",
    "\n",
    "+ Open the **Anaconda console** and make a new environment as follows:\n",
    "      conda create -n deck -c conda-forge pydeck jupyter\n",
    "+ Next start the environment:\n",
    "      conda activate deck\n",
    "+ Then issue these two commands:\n",
    "      jupyter nbextension install --sys-prefix --symlink --overwrite --py pydeck\n",
    "      jupyter nbextension enable --sys-prefix --py pydeck\n",
    "\n",
    "That's it. You should be able to start a notebook as usual, this time in the `deck` environment, and the code below should work."
   ]
  },
  {
   "cell_type": "markdown",
   "id": "d55c9e11",
   "metadata": {},
   "source": [
    "## Making a `pydeck` 'app'\n",
    "These data are briefly described on [this page](https://github.com/DOSull/Geog315/tree/master/labs/mini-project/anz-placenames) where I note the use of the [nga kupu](https://github.com/TeHikuMedia/nga-kupu) tools to classify a collection of Aotearoa New Zealand placenames as consisting of parts (i.e. words) that are either clearly te reo, clearly not, or maybe te reo. Each placename has a count of how many of its constituent words falls into each of these categories.\n",
    "\n",
    "For `deck.gl` as for many JS applications, the preferred file format is [JSON](https://en.wikipedia.org/wiki/JSON) (JavaScript Object Notation), so I made a version of the data in that format. (I used the `jsonlite` package in *R* for this, but there are Python libraries for working with JSON also available, such as the standard library [`json`](https://docs.python.org/3.9/library/json.html)).\n",
    "\n",
    "Anyway, to start we need to import `pydeck`:"
   ]
  },
  {
   "cell_type": "code",
   "execution_count": null,
   "id": "d18b442f",
   "metadata": {},
   "outputs": [],
   "source": [
    "import pydeck"
   ]
  },
  {
   "cell_type": "markdown",
   "id": "056473dd",
   "metadata": {},
   "source": [
    "Then we need to specify some setups. \n",
    "\n",
    "+ `DATA_URL` is where we have the data (this should be in the folder downloaded with in the zip file).\n",
    "+ `INITIAL_VIEW_STATE` builds a `ViewState` object specifying the initial view location, direction, angle and so on for the deck application.\n",
    "+ `names` is a `Layer` object, which specifies, a data source (we pass `DATA_URL` as a parameter, and a series of settings pertaining to how this layer will be displayed.\n",
    "\n",
    "THe details of a the [**TextLayer**] type are available in the documentation for the JS API [here](https://deck.gl/docs/api-reference/layers/text-layer). Partial details of the `pydeck` 'wrapper' for this are available [here](https://pydeck.gl/gallery/text_layer.html). You should be able to see similarities between the Python code and the JS code, but there are differences in how parameters are named, for example. Where Python uses `snake_case`, JS uses `camelCase`. \n",
    "\n",
    "Also things like how expressions to determine `get_color` are specified look pretty strange. We are essentially passing a piece JS code as a string to the `Layer` object constructor, so that it can be parsed into proper JS when it makes the output. "
   ]
  },
  {
   "cell_type": "code",
   "execution_count": null,
   "id": "8f4086af",
   "metadata": {},
   "outputs": [],
   "source": [
    "DATA_URL = \"tnames.json\"\n",
    "\n",
    "INITIAL_VIEW_STATE = pydeck.ViewState(\n",
    "    latitude = -41,\n",
    "    longitude = 174,\n",
    "    zoom = 5,\n",
    "    max_zoom = 20,\n",
    "    pitch = 0,\n",
    "    bearing = 0\n",
    ")\n",
    "\n",
    "names = pydeck.Layer(\n",
    "    'TextLayer',\n",
    "    DATA_URL,\n",
    "    opacity = 0.65,\n",
    "    get_text = \"name\",\n",
    "    size_units = \"meter\",\n",
    "    get_size = 1000,\n",
    "    size_max_pixels = 32,\n",
    "    get_position = [\"lng\", \"lat\"],\n",
    "    get_color = 'reo > 0 ? [153, 0, 0] : [0, 0, 153]',\n",
    "    billboard = True,\n",
    "    character_set = pydeck.types.String(\n",
    "        \"abcdefghijklmnopqrstuvwxyzABCDEFGHIJKLMNOPQRSTUVWXYZāēīōūĀĒŌĪŪ1234567890/ \"),\n",
    "    font_family = pydeck.types.String(\"Times, serif\"),\n",
    "    pickable = True\n",
    ")"
   ]
  },
  {
   "cell_type": "markdown",
   "id": "605830b1",
   "metadata": {},
   "source": [
    "And now we can make the deck app, by passing all this information into the `pydeck.Deck` constructor. The additional information here specifies the preferred basemap style, per the [options listed here](https://pydeck.gl/deck.html).\n",
    "\n",
    "When you run the code below it will open an interactive output cell, and you can zoom and navigate around in it within this notebook"
   ]
  },
  {
   "cell_type": "code",
   "execution_count": null,
   "id": "fb0a8ce6",
   "metadata": {},
   "outputs": [],
   "source": [
    "app = pydeck.Deck(\n",
    "    initial_view_state = INITIAL_VIEW_STATE,\n",
    "    map_style = \"light_no_labels\",\n",
    "    layers = [names],\n",
    ")\n",
    "app.to_html(\"tereo-names.html\", iframe_height = 800)"
   ]
  },
  {
   "cell_type": "markdown",
   "id": "ae442cda",
   "metadata": {},
   "source": [
    "Because we are running this in a notebook we just get a locally viewable web page. If we run the code as a script we can also save to a web page.\n",
    "\n",
    "I suggest experimenting with other options in the `pydeck.Layer()` constructor function. Also make sure to take a look at the generated HTML code (it's surprisingly simple, but it won't open in a browser again, because we generated it in a notebook).\n",
    "\n",
    "Try visualising a different dataset, using a different deck layer format. For example, you can take a look at something simple like the California counties data from weeks ago, using the [GeoJsonLayer](https://deck.gl/docs/api-reference/layers/geojson-layer). You'll need to convert those files to GeoJSON format and also latitude-longitude format (EPSG code 4326)."
   ]
  },
  {
   "cell_type": "markdown",
   "id": "a92e04a5",
   "metadata": {},
   "source": [
    "### Some more examples\n",
    "And [here's one I prepared earlier](https://dosull.github.io/commute-viewer/commute-viewer-app/). This includes hand-coded JS to implement a custom interface.\n",
    "\n",
    "And [here's another](https://dosull.github.io/what3chords/what3chords-app/) (**turn down your sound** is all I'm saying)."
   ]
  },
  {
   "cell_type": "markdown",
   "id": "6c66d580",
   "metadata": {},
   "source": [
    "## If you found this fun..."
   ]
  },
  {
   "cell_type": "markdown",
   "id": "61379fec",
   "metadata": {},
   "source": [
    "This is pretty cool stuff.\n",
    "\n",
    "You can use [`kepler.gl`](https://kepler.gl/) to [make simple similar apps](https://southosullivan.com/misc/loi.html) without any code at all.\n",
    "\n",
    "If you have to make a custom user interface, then there's no realy way to avoid... web development... and there aren't enough hours in the month to cover that in the context of this course. \n",
    "\n",
    "Suffice to say, web development is a field worth investing some time and energy in, especially if your interests lie in the direction of high interaction graphical applications."
   ]
  }
 ],
 "metadata": {
  "kernelspec": {
   "display_name": "Python 3 (ipykernel)",
   "language": "python",
   "name": "python3"
  },
  "language_info": {
   "codemirror_mode": {
    "name": "ipython",
    "version": 3
   },
   "file_extension": ".py",
   "mimetype": "text/x-python",
   "name": "python",
   "nbconvert_exporter": "python",
   "pygments_lexer": "ipython3",
   "version": "3.10.2"
  }
 },
 "nbformat": 4,
 "nbformat_minor": 5
}
