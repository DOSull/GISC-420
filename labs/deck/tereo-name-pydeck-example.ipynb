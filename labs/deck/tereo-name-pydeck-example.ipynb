{
 "cells": [
  {
   "cell_type": "markdown",
   "id": "b0dc4f32",
   "metadata": {},
   "source": [
    "#### GISC 420 T1 2022\n",
    "# A simple example getting Python to drive JavaScript\n",
    "A lot of the nicest new frameworks (for mapping or anything else) happen first these days, or develop most quickly in the web-space. This has a great deal to do with the enormous resources poured into the web as a platform, which have seen previously unimaginable development of the JavaScript (JS) prgramming language and of the associated virtual machines (which are everywhere now... every phone, every computer, and so on...).\n",
    "\n",
    "As a result anyone writing code today should at least be web-aware. And that means being somewhat acquainted with the JS world.\n",
    "\n",
    "We'll look at an example of web-programming (non-map related) in class, but to also give you a sense of why this is an exciting space below we use [`pydeck`](https://pydeck.gl/index.html) to drive the [`deck.gl`](https://deck.gl/) framework for interactive 3D visualisation."
   ]
  },
  {
   "cell_type": "markdown",
   "id": "45d40296",
   "metadata": {},
   "source": [
    "## Getting set up\n",
    "To run this notebook, you'll need to first download [the zip file for this material](https://github.com/DOSull/GISC-420/blob/master/labs/deck/deck.zip?raw=true), which includes this notebook and also the data. \n",
    "\n",
    "Then you'll need to make a new environment. These instructions are from [here](https://pydeck.gl/installation.html). \n",
    "\n",
    "+ Open the **Anaconda console** and make a new environment as follows:\n",
    "    \n",
    "    `conda create -n deck -c conda-forge pydeck jupyter`\n",
    "\n",
    "+ Next start the environment:\n",
    "\n",
    "    `conda activate deck`\n",
    "\n",
    "+ Then issue these two commands:\n",
    "\n",
    "    `jupyter nbextension install --sys-prefix --symlink --overwrite --py pydeck`\n",
    "    \n",
    "    `jupyter nbextension enable --sys-prefix --py pydeck`\n",
    "\n",
    "That's it. You should be able to start a notebook as usual, this time in the `deck` environment, and the code below should work. Note that the example may not work in VSCode---I think due to security settings of the HTML viewer (it's not insecure... all the data are local, it's some setting associated with 'cross-origin' resources)."
   ]
  },
  {
   "cell_type": "markdown",
   "id": "d55c9e11",
   "metadata": {},
   "source": [
    "## Making a `pydeck` 'app'\n",
    "These data are briefly described on [this page](https://github.com/DOSull/Geog315/tree/master/labs/mini-project/anz-placenames) where I note the use of the [nga kupu](https://github.com/TeHikuMedia/nga-kupu) tools to classify a collection of Aotearoa New Zealand placenames as consisting of parts (i.e. words) that are either clearly te reo, clearly not, or maybe te reo. Each placename has a count of how many of its constituent words falls into each of these categories.\n",
    "\n",
    "For `deck.gl` as for many JS applications, the preferred file format is [JSON](https://en.wikipedia.org/wiki/JSON) (JavaScript Object Notation), so I made a version of the data in that format. (I used the `jsonlite` package in *R* for this, but there are Python libraries for working with JSON also available, such as the standard library [`json`](https://docs.python.org/3.9/library/json.html)).\n",
    "\n",
    "Anyway, to start we need to import `pydeck`:"
   ]
  },
  {
   "cell_type": "code",
   "execution_count": 1,
   "id": "d18b442f",
   "metadata": {},
   "outputs": [],
   "source": [
    "import pydeck\n",
    "import string"
   ]
  },
  {
   "cell_type": "markdown",
   "id": "056473dd",
   "metadata": {},
   "source": [
    "Then we need to specify some setups. \n",
    "\n",
    "+ `DATA_URL` is where we have the data (this should be in the folder downloaded with in the zip file).\n",
    "+ `INITIAL_VIEW_STATE` builds a `ViewState` object specifying the initial view location, direction, angle and so on for the deck application.\n",
    "+ `names` is a `Layer` object, which specifies, a data source (we pass `DATA_URL` as a parameter, and a series of settings pertaining to how this layer will be displayed.\n",
    "\n",
    "THe details of a the [**TextLayer**] type are available in the documentation for the JS API [here](https://deck.gl/docs/api-reference/layers/text-layer). Partial details of the `pydeck` 'wrapper' for this are available [here](https://pydeck.gl/gallery/text_layer.html). You should be able to see similarities between the Python code and the JS code, but there are differences in how parameters are named, for example. Where Python uses `snake_case`, JS uses `camelCase`. \n",
    "\n",
    "Also things like how expressions to determine `get_color` are specified look pretty strange. We are essentially passing a piece JS code as a string to the `Layer` object constructor, so that it can be parsed into proper JS when it makes the output. "
   ]
  },
  {
   "cell_type": "code",
   "execution_count": 2,
   "id": "8f4086af",
   "metadata": {},
   "outputs": [],
   "source": [
    "DATA_URL = \"tnames.json\"\n",
    "chars = string.ascii_letters + \"āēīōūĀĒŌĪŪ1234567890/ \"\n",
    "\n",
    "INITIAL_VIEW_STATE = pydeck.ViewState(\n",
    "    latitude = -41,\n",
    "    longitude = 174,\n",
    "    zoom = 5,\n",
    "    max_zoom = 20,\n",
    "    pitch = 0,\n",
    "    bearing = 0\n",
    ")\n",
    "\n",
    "names = pydeck.Layer(\n",
    "    'TextLayer',\n",
    "    DATA_URL,\n",
    "    opacity = 0.65,\n",
    "    get_text = \"name\",\n",
    "    size_units = \"meters\",\n",
    "    get_size = 1000,\n",
    "    size_max_pixels = 32,\n",
    "    get_position = [\"lng\", \"lat\"],\n",
    "    get_color = 'reo > 0 ? [204, 0, 0] : [0, 0, 204]',\n",
    "    billboard = True,\n",
    "    character_set = pydeck.types.String(chars),\n",
    "    font_family = pydeck.types.String(\"Times, serif\"),\n",
    "    pickable = True\n",
    ")"
   ]
  },
  {
   "cell_type": "markdown",
   "id": "605830b1",
   "metadata": {},
   "source": [
    "And now we can make the deck app, by passing all this information into the `pydeck.Deck` constructor. The additional information here specifies the preferred basemap style, per the [options listed here](https://pydeck.gl/deck.html).\n",
    "\n",
    "When you run the code below it will open an interactive output cell, and you can zoom and navigate around in it within this notebook"
   ]
  },
  {
   "cell_type": "code",
   "execution_count": 3,
   "id": "fb0a8ce6",
   "metadata": {},
   "outputs": [
    {
     "data": {
      "text/html": [
       "\n",
       "        <iframe\n",
       "            width=\"100%\"\n",
       "            height=800\n",
       "            frameborder=\"0\"\n",
       "            srcdoc=\"&lt;!DOCTYPE html&gt;\n",
       "&lt;html&gt;\n",
       "  &lt;head&gt;\n",
       "    &lt;meta http-equiv=&quot;content-type&quot; content=&quot;text/html; charset=UTF-8&quot; /&gt;\n",
       "    &lt;title&gt;pydeck&lt;/title&gt;\n",
       "        &lt;script src=&quot;https://api.tiles.mapbox.com/mapbox-gl-js/v1.13.0/mapbox-gl.js&quot;&gt;&lt;/script&gt;\n",
       "        &lt;link rel=&quot;stylesheet&quot; href=&quot;https://maxcdn.bootstrapcdn.com/bootstrap/3.2.0/css/bootstrap-theme.min.css&quot; /&gt;\n",
       "    &lt;link rel=&quot;stylesheet&quot; href=&quot;https://maxcdn.bootstrapcdn.com/font-awesome/4.6.3/css/font-awesome.min.css&quot; /&gt;\n",
       "    &lt;script src=&#x27;https://cdn.jsdelivr.net/npm/@deck.gl/jupyter-widget@~8.5.*/dist/index.js&#x27;&gt;&lt;/script&gt;\n",
       "    &lt;style&gt;\n",
       "    body {\n",
       "  margin: 0;\n",
       "  padding: 0;\n",
       "  overflow: hidden;\n",
       "}\n",
       "\n",
       "#deck-map-container {\n",
       "  width: 100%;\n",
       "  height: 100%;\n",
       "  background-color: black;\n",
       "}\n",
       "\n",
       "#map {\n",
       "  pointer-events: none;\n",
       "  height: 100%;\n",
       "  width: 100%;\n",
       "  position: absolute;\n",
       "  z-index: 1;\n",
       "}\n",
       "\n",
       "#deckgl-overlay {\n",
       "  z-index: 2;\n",
       "  background: none;\n",
       "}\n",
       "\n",
       "#deck-map-wrapper {\n",
       "  width: 100%;\n",
       "  height: 100%;\n",
       "}\n",
       "\n",
       "#deck-container {\n",
       "  width: 100vw;\n",
       "  height: 100vh;\n",
       "}\n",
       "    &lt;/style&gt;\n",
       "  &lt;/head&gt;\n",
       "  &lt;body&gt;\n",
       "    &lt;div id=&quot;deck-container&quot;&gt;\n",
       "    &lt;/div&gt;\n",
       "  &lt;/body&gt;\n",
       "  &lt;script&gt;\n",
       "    const jsonInput = {&quot;initialViewState&quot;: {&quot;bearing&quot;: 0, &quot;latitude&quot;: -41, &quot;longitude&quot;: 174, &quot;maxZoom&quot;: 20, &quot;pitch&quot;: 0, &quot;zoom&quot;: 5}, &quot;layers&quot;: [{&quot;@@type&quot;: &quot;TextLayer&quot;, &quot;billboard&quot;: true, &quot;characterSet&quot;: &quot;abcdefghijklmnopqrstuvwxyzABCDEFGHIJKLMNOPQRSTUVWXYZ\\u0101\\u0113\\u012b\\u014d\\u016b\\u0100\\u0112\\u014c\\u012a\\u016a1234567890/ &quot;, &quot;data&quot;: &quot;tnames.json&quot;, &quot;fontFamily&quot;: &quot;Times, serif&quot;, &quot;getColor&quot;: &quot;@@=reo &gt; 0 ? [204, 0, 0] : [0, 0, 204]&quot;, &quot;getPosition&quot;: &quot;@@=[lng, lat]&quot;, &quot;getSize&quot;: 1000, &quot;getText&quot;: &quot;@@=name&quot;, &quot;id&quot;: &quot;c4c7591e-9f82-4e08-9395-77b3ba2c3d3e&quot;, &quot;opacity&quot;: 0.65, &quot;pickable&quot;: true, &quot;sizeMaxPixels&quot;: 32, &quot;sizeUnits&quot;: &quot;@@=meters&quot;}], &quot;mapProvider&quot;: &quot;carto&quot;, &quot;mapStyle&quot;: &quot;https://basemaps.cartocdn.com/gl/positron-nolabels-gl-style/style.json&quot;, &quot;views&quot;: [{&quot;@@type&quot;: &quot;MapView&quot;, &quot;controller&quot;: true}]};\n",
       "    const tooltip = true;\n",
       "    const customLibraries = null;\n",
       "\n",
       "    const deckInstance = createDeck({\n",
       "                  container: document.getElementById(&#x27;deck-container&#x27;),\n",
       "      jsonInput,\n",
       "      tooltip,\n",
       "      customLibraries\n",
       "    });\n",
       "\n",
       "  &lt;/script&gt;\n",
       "&lt;/html&gt;\"\n",
       "        ></iframe>\n",
       "    "
      ],
      "text/plain": [
       "<IPython.core.display.HTML object>"
      ]
     },
     "execution_count": 3,
     "metadata": {},
     "output_type": "execute_result"
    }
   ],
   "source": [
    "app = pydeck.Deck(\n",
    "    initial_view_state = INITIAL_VIEW_STATE,\n",
    "    map_style = \"light_no_labels\",\n",
    "    layers = [names],\n",
    ")\n",
    "app.to_html(\"tereo-names.html\", iframe_height = 800)"
   ]
  },
  {
   "cell_type": "markdown",
   "id": "ae442cda",
   "metadata": {},
   "source": [
    "Because we are running this in a notebook we just get a locally viewable web page. If we run the code as a script we can also save to a web page.\n",
    "\n",
    "I suggest experimenting with other options in the `pydeck.Layer()` constructor function. Also make sure to take a look at the generated HTML code (it's surprisingly simple, but it won't open in a browser, because we generated it in a notebook).\n",
    "\n",
    "Try visualising a different dataset, using a different deck layer format. For example, you can take a look at something simple like the California counties data from weeks ago, using the [GeoJsonLayer](https://deck.gl/docs/api-reference/layers/geojson-layer). You'll need to convert those files to GeoJSON format and also latitude-longitude format (EPSG code 4326)."
   ]
  },
  {
   "cell_type": "markdown",
   "id": "a92e04a5",
   "metadata": {},
   "source": [
    "### Some more examples\n",
    "And [here's one I prepared earlier](https://dosull.github.io/commute-viewer/commute-viewer-app/). This includes hand-coded JS to implement a custom interface.\n",
    "\n",
    "And [here's another](https://dosull.github.io/what3chords/what3chords-app/) (**turn down your sound** is all I'm saying)."
   ]
  },
  {
   "cell_type": "markdown",
   "id": "6c66d580",
   "metadata": {},
   "source": [
    "## If you found this fun..."
   ]
  },
  {
   "cell_type": "markdown",
   "id": "61379fec",
   "metadata": {},
   "source": [
    "This is pretty cool stuff.\n",
    "\n",
    "You can use [`kepler.gl`](https://kepler.gl/) to [make simple similar apps](https://southosullivan.com/misc/loi.html) without any code at all.\n",
    "\n",
    "If you have to make a custom user interface, then there's no real way to avoid... web development... and there aren't enough hours in the month to cover that in the context of this course. \n",
    "\n",
    "Suffice to say, web development is a field worth investing some time and energy in, especially if your interests lie in the direction of high interaction graphical applications."
   ]
  }
 ],
 "metadata": {
  "interpreter": {
   "hash": "ebc44b48f8bab08f577aeb2e1dce152bdc30f81c7b302646e686ad24258b8930"
  },
  "kernelspec": {
   "display_name": "Python 3 (ipykernel)",
   "language": "python",
   "name": "python3"
  },
  "language_info": {
   "codemirror_mode": {
    "name": "ipython",
    "version": 3
   },
   "file_extension": ".py",
   "mimetype": "text/x-python",
   "name": "python",
   "nbconvert_exporter": "python",
   "pygments_lexer": "ipython3",
   "version": "3.10.2"
  }
 },
 "nbformat": 4,
 "nbformat_minor": 5
}
