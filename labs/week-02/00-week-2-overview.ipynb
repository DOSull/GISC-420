{
 "cells": [
  {
   "cell_type": "markdown",
   "metadata": {},
   "source": [
    "# Week 2 overview\n",
    "There are two notebooks accompanying reading from _Think Python_:\n",
    "+ [Chapter 3 on functions](functions.ipynb)\n",
    "+ [Chapter 5 on conditionals](conditionals.ipynb)\n",
    "\n",
    "There are a further three notebooks exploring spatial data:\n",
    "+ [Introducing `geopandas`](introducing-geopandas.ipynb)\n",
    "+ [Handling map projections](handling-map-projections.ipynb)\n",
    "+ [The lab assignment on hexbins and map projections](lab-assignment-1-hexbins-and-projections.ipynb)"
   ]
  },
  {
   "cell_type": "code",
   "execution_count": null,
   "metadata": {},
   "outputs": [],
   "source": []
  }
 ],
 "metadata": {
  "kernelspec": {
   "display_name": "Python 3",
   "language": "python",
   "name": "python3"
  },
  "language_info": {
   "codemirror_mode": {
    "name": "ipython",
    "version": 3
   },
   "file_extension": ".py",
   "mimetype": "text/x-python",
   "name": "python",
   "nbconvert_exporter": "python",
   "pygments_lexer": "ipython3",
   "version": "3.7.1"
  }
 },
 "nbformat": 4,
 "nbformat_minor": 2
}
