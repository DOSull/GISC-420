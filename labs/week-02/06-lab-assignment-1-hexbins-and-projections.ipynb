{
 "cells": [
  {
   "cell_type": "code",
   "execution_count": null,
   "metadata": {},
   "outputs": [],
   "source": [
    "%matplotlib inline\n",
    "\n",
    "import matplotlib\n",
    "import matplotlib.pyplot as pyplot\n",
    "import geopandas"
   ]
  },
  {
   "cell_type": "markdown",
   "metadata": {},
   "source": [
    "# **LAB ASSIGNMENT 1**\n",
    "There's quite a lot to think about here, *but not actually very much code to write*. For submission instructions see the last cells of the notebook. But before getting to that, there is a fair bit to work through and chew on."
   ]
  },
  {
   "cell_type": "markdown",
   "metadata": {},
   "source": [
    "# Hexbins and map projection\n",
    "This assignment takes a look at the implications of map projection for a popular visualization technique *hexbinning* when applied to geographical data over large geographical extents.\n",
    "\n",
    "The exercise is inspired by this recent paper, which deserves an award for its great title, if nothing else\n",
    "\n",
    "Battersby, S. E., D. “daan” Strebe, and M. P. Finn. 2016. [Shapes on a plane: evaluating the impact of projection distortion on spatial binning](http://www.tandfonline.com/doi/full/10.1080/15230406.2016.1180263). Cartography and Geographic Information Science :1–12.\n",
    "\n",
    "The essential point of the paper is that the assumption that hexbinning is a good way to visualize density depends on how much area distortion is induced by the map projections in use.\n",
    "\n",
    "To explore this we work with a global dataset of earthquake incidents, and also develop some code (I've done this part) to make hexbin maps using `geopandas`."
   ]
  },
  {
   "cell_type": "markdown",
   "metadata": {},
   "source": [
    "## World earthquakes\n",
    "Before getting started, let's load the dataset we will work with."
   ]
  },
  {
   "cell_type": "code",
   "execution_count": null,
   "metadata": {},
   "outputs": [],
   "source": [
    "quakes = geopandas.read_file('earthquakes-webmerc.geojson')\n",
    "quakes.plot(markersize=0.25)"
   ]
  },
  {
   "cell_type": "markdown",
   "metadata": {},
   "source": [
    "These data were obtained from [National Centers for Environmental Information at NOAA](https://www.ngdc.noaa.gov/nndc/struts/form?t=101650&s=1&d=1), and include all earthquakes of intensity 6.8 or greater since 1900.  I cleaned up the raw data a little to remove columns we aren't much interested in, and also passed them through [QGIS](http://www.qgis.org/en/site/) to produce the GeoJSON format file from the raw CSV provided.\n",
    "\n",
    "We can put these on a base map of the world, just so we are sure where we are. `geopandas` provides a built in world map dataset. We don't need Antarctica, and we need it in the same projection as the earthquakes."
   ]
  },
  {
   "cell_type": "code",
   "execution_count": null,
   "metadata": {},
   "outputs": [],
   "source": [
    "world = geopandas.read_file(geopandas.datasets.get_path('naturalearth_lowres'))\n",
    "# get rid of Antarctica\n",
    "world = world[world.continent != 'Antarctica']\n",
    "# reproject to match the quakes data\n",
    "world = world.to_crs(quakes.crs)"
   ]
  },
  {
   "cell_type": "markdown",
   "metadata": {},
   "source": [
    "Now map them."
   ]
  },
  {
   "cell_type": "code",
   "execution_count": null,
   "metadata": {},
   "outputs": [],
   "source": [
    "fig = pyplot.figure(figsize=(10,6))\n",
    "base = fig.add_subplot(111)\n",
    "world.plot(ax=base, facecolor='w', edgecolor='k', linewidth=0.2)\n",
    "quakes.plot(ax=base, markersize=0.25)"
   ]
  },
  {
   "cell_type": "markdown",
   "metadata": {},
   "source": [
    "At this point, you may already smell a rat (hint: what projection are these data in?)"
   ]
  },
  {
   "cell_type": "markdown",
   "metadata": {},
   "source": [
    "### Narrowing the focus\n",
    "Anyhow...\n",
    "\n",
    "We will look only at quakes in the 'ring of fire' around the Pacific. This is more or less between 60N and 60S and between 110E and 70W. That turns out to be easy to write, but a bit trickier to handle in a map. Here's how the selection works: "
   ]
  },
  {
   "cell_type": "code",
   "execution_count": null,
   "metadata": {},
   "outputs": [],
   "source": [
    "# first do the latitude limits\n",
    "q = quakes[(quakes.LATITUDE > -60) & (quakes.LATITUDE < 60)]\n",
    "# next the longitude limits -- note that here we use an or condition |\n",
    "q = q[(q.LONGITUDE > 110) | (q.LONGITUDE < -70)]"
   ]
  },
  {
   "cell_type": "markdown",
   "metadata": {},
   "source": [
    "The `quakes.LONGITUDE` and `quakes.LATITUDE` comparison tests are combined using and `&` and or `|` symbols to pick out the quakes that are in the region of interest. these are a bit different than the `and` and `or` boolean operations we have seen in Python more generally because of how `geopandas` works."
   ]
  },
  {
   "cell_type": "markdown",
   "metadata": {},
   "source": [
    "### Dealing with the dateline\n",
    "Mapping the remaining data in the `q` dataset we get:"
   ]
  },
  {
   "cell_type": "code",
   "execution_count": null,
   "metadata": {},
   "outputs": [],
   "source": [
    "fig = pyplot.figure(figsize=(10,6))\n",
    "base = fig.add_subplot(111)\n",
    "world.plot(ax=base, facecolor='w', edgecolor='k', linewidth=0.2)\n",
    "q.plot(ax=base, color='r', markersize=0.25, figsize=(12,6))"
   ]
  },
  {
   "cell_type": "markdown",
   "metadata": {},
   "source": [
    "The problem is that as far as our projection is concerned, the world ends at the dateline (this happens a lot with data in the Pacific). Looking on [projectionwizard.org](https://projectionwizard.org) I found this proj4 string, which might help at least a bit\n",
    "\n",
    "    +proj=laea +lat_0=0 +lon_0=-167.5\n",
    "    \n",
    "Let's see what happens if we project our datasets and make a new map."
   ]
  },
  {
   "cell_type": "code",
   "execution_count": null,
   "metadata": {},
   "outputs": [],
   "source": [
    "## Do the projections\n",
    "worldp = world.to_crs('+proj=laea +lat_0=0 +lon_0=-167.5')\n",
    "qp = q.to_crs('+proj=laea +lat_0=7.5 +lon_0=-167.5')\n",
    "\n",
    "fig = pyplot.figure(figsize=(10,6))\n",
    "base = fig.add_subplot(111)\n",
    "worldp.plot(ax=base, facecolor='w', edgecolor='k', linewidth=0.2)\n",
    "qp.plot(ax=base, color='r', markersize=0.25)"
   ]
  },
  {
   "cell_type": "markdown",
   "metadata": {},
   "source": [
    "### Plan B"
   ]
  },
  {
   "cell_type": "markdown",
   "metadata": {},
   "source": [
    "Hmmm. Not too bad, but you know what... this is going to be too difficult. \\[It's still useful to take something away from the failure of plan A... the world being a sphere and maps being flat has more than one effect on how we deal with spatial data\\]\n",
    "\n",
    "Anyway, plan B is that we'll only look at the western half of the ring of fire, that is on the New Zealand side of the dateline, or in other words, places where the longitude is a positive number:"
   ]
  },
  {
   "cell_type": "code",
   "execution_count": null,
   "metadata": {},
   "outputs": [],
   "source": [
    "q = q[q.LONGITUDE > 0]\n",
    "q.plot()"
   ]
  },
  {
   "cell_type": "markdown",
   "metadata": {},
   "source": [
    "Now we need to clip the world to the extent of the quakes, we can do this by making a new `GeoDataFrame` from the extent of the quakes we are now working with."
   ]
  },
  {
   "cell_type": "code",
   "execution_count": null,
   "metadata": {},
   "outputs": [],
   "source": [
    "# Make a polygon by constructing an envelope \n",
    "# of all the geometries in the q dataset\n",
    "q_extent = q.geometry.unary_union.envelope\n",
    "\n",
    "# Make a new GeoDataFrame with this envelope as\n",
    "# as the only geometry\n",
    "bounds = geopandas.GeoDataFrame(geometry=geopandas.GeoSeries(q_extent))\n",
    "# Make sure the layer has projection information\n",
    "bounds.crs = q.crs\n",
    "\n",
    "# take a look\n",
    "base = bounds.plot(facecolor='lightblue')\n",
    "q.plot(ax=base)"
   ]
  },
  {
   "cell_type": "markdown",
   "metadata": {},
   "source": [
    "We can get a prettier result if we clip the world map data using the `bounds` dataset."
   ]
  },
  {
   "cell_type": "code",
   "execution_count": null,
   "metadata": {},
   "outputs": [],
   "source": [
    "w = geopandas.overlay(world, bounds, \"intersection\")\n",
    "\n",
    "base = bounds.plot(facecolor='lightblue', figsize=(4,8))\n",
    "w.plot(ax=base, facecolor='w')\n",
    "q.plot(ax=base, color='r', markersize=.35)"
   ]
  },
  {
   "cell_type": "markdown",
   "metadata": {},
   "source": [
    "At last! While I don't expect you to have been able to write the code above, it is worth spending some time with it (now and later) to make sure you at least have some idea what is happening."
   ]
  },
  {
   "cell_type": "markdown",
   "metadata": {},
   "source": [
    "## Hexbin maps\n",
    "The best way to appreciate what hexbins are is to try them. `pyplot` has a built in hexbin function. Give it a try by running the cell below."
   ]
  },
  {
   "cell_type": "code",
   "execution_count": null,
   "metadata": {},
   "outputs": [],
   "source": [
    "import random\n",
    "# make 500 random x,y coordinates\n",
    "x = [random.random() for __ in range(1000)]\n",
    "y = [random.random() for __ in range(1000)]\n",
    "# plot hexbins\n",
    "pyplot.hexbin(x, y, gridsize=15, cmap='Greys')\n",
    "# put the points on top for reference, note r. specifies points, not lines!\n",
    "pyplot.plot(x, y, 'r.', markersize=2)"
   ]
  },
  {
   "cell_type": "markdown",
   "metadata": {},
   "source": [
    "The idea is that the colored in plot makes it easier to identify 'hotspots' or concentrations in the data.  It is particularly useful with large number of points (try changing the number of points in the cell above).\n",
    "\n",
    "Now, this is fine as far as it goes, but is not ideal if our $(x,y)$ coordinates are actually geographical coordinates, because lest we forget *the Earth is not flat*. \n",
    "\n",
    "The built in hexbin plot doesn't treat the two coordinates as equal (we could use `ax.set_aspect('equal')` to partly fix this [try it, if you like].  But a more insidious difficulty is that geographic coordinates affect the *area* of the hexagons, so that the supposedly unbiased picture of the variations in density of points across the 'map' may not be unbiased at all."
   ]
  },
  {
   "cell_type": "markdown",
   "metadata": {},
   "source": [
    "### A geographic hexbin map\n",
    "So... I've written a small 'wrapper' function for the hexbin function (below) which we can use instead.\n",
    "\n",
    "Take a look in the cell below, before running it. \n",
    "\n",
    "You **absolutely don't need to understand what is happening here**, because you are just going to use the `get_hexbin_data()` function. I've split things into three functions:\n",
    "\n",
    "+ `get_hexgrid_size_and_extent()` determines the number of hexes in the x and y directions and also the x and y coordinate range of the plot\n",
    "+ ``get_x_and_y()` gets simple lists of x and y coordinates from the provided points `GeoDataFrame`\n",
    "+ `get_hexbin_data()` does the work and returns the hexbins as a `GeoDataFrame`"
   ]
  },
  {
   "cell_type": "code",
   "execution_count": null,
   "metadata": {},
   "outputs": [],
   "source": [
    "import shapely # needed for geometry manipulations to make the hexes GeoSeries\n",
    "\n",
    "# Returns a suitable grid dimension and extent for hexbinning\n",
    "# based on an input points GeoDataframe. nx specifies the\n",
    "# desired number of hexagons in the x direction. A one hex\n",
    "# wide 'buffer' is included.\n",
    "def get_hexgridsize_and_extent(pts, nx=15):\n",
    "    # we need this later\n",
    "    sqrt3 = 3 ** 0.5\n",
    "    \n",
    "    # see http://geopandas.org/reference.html#geopandas.GeoSeries.total_bounds\n",
    "    x_min, y_min, x_max, y_max = pts.total_bounds\n",
    "    x_range = x_max - x_min\n",
    "    y_range = y_max - y_min\n",
    "\n",
    "    # use this information to give us a little more room - a buffer\n",
    "    x_extra = x_range / (nx * 2)\n",
    "    y_extra = x_extra * sqrt3 # y needs more because hexes are taller than they are wide\n",
    "    x_min = x_min - x_extra\n",
    "    x_max = x_max + x_extra\n",
    "    y_min = y_min - y_extra\n",
    "    y_max = y_max + y_extra\n",
    "    \n",
    "    # the hexbin function needs a grid and extent\n",
    "    grid_dimensions = (nx, int(nx * y_range / x_range / sqrt3))\n",
    "    pt_extent = (x_min, x_max, y_min, y_max)\n",
    "    \n",
    "    return grid_dimensions, pt_extent\n",
    "    \n",
    "\n",
    "# Returns simple lists of the x and y coordinates\n",
    "# of a supplied points GeoDataframe\n",
    "def get_x_and_y(pts):\n",
    "    # GeoSeries bounds gives us a table of minx miny maxx maxy\n",
    "    g = pts.bounds\n",
    "    # Make the columns we need into simple lists\n",
    "    x = []\n",
    "    for xcoord in g.minx:\n",
    "        x.append(xcoord)\n",
    "    y = []\n",
    "    for ycoord in g.miny:\n",
    "        y.append(ycoord)\n",
    "    return x, y\n",
    "\n",
    "    \n",
    "# makes a hexbin GeoDataFrame and also an 'all hexbins' GeoDataFrame\n",
    "# from supplied pt layer with the specified nx number of hexes across\n",
    "# the tricky part here is extracting hexagons from the PathCollection\n",
    "# returned by pyplot.hexbin()\n",
    "def get_hexbin_data(pt_layer, nx=15, show=True):\n",
    "    grid_dim, pt_extent = get_hexgridsize_and_extent(pt_layer, nx)\n",
    "    x, y = get_x_and_y(pt_layer)\n",
    "\n",
    "    # use pyplot.hexbin to perform the analysis\n",
    "    # retaining the output, details of which are available at\n",
    "    # http://matplotlib.org/api/pyplot_api.html#matplotlib.pyplot.hexbin\n",
    "    hb = pyplot.hexbin(x, y, extent=pt_extent, gridsize=grid_dim, visible=show)\n",
    "    \n",
    "    # retrieve the base hexagon as a shapely Polygon from the hexbin results\n",
    "    base_hex = shapely.geometry.polygon.Polygon([xy[0] for xy in hb.get_paths()[0].iter_segments()])\n",
    "    # make the array of hexbins by iterating over the 'offsets'\n",
    "    hex_shapes = [shapely.affinity.translate(base_hex, xoff=dx, yoff=dy) for (dx, dy) in hb.get_offsets()]\n",
    "    # now make a geopandas GeoDataFrame with these as its geometry column\n",
    "    hexes = geopandas.GeoDataFrame(geometry=geopandas.GeoSeries(hex_shapes))\n",
    "    # also add the counts from the hexbin results\n",
    "    hexes['n'] = list(hb.get_array())\n",
    "    # set the CRS\n",
    "    hexes.crs = pt_layer.crs\n",
    "    \n",
    "    # return the GeoDataFrame\n",
    "    return hexes"
   ]
  },
  {
   "cell_type": "markdown",
   "metadata": {},
   "source": [
    "### Using `get_hexbin_data()`\n",
    "So now let's use this function.\n",
    "\n",
    "Here, you need to pay close attention, because you will be asked to do something similar yourself.\n",
    "\n",
    "First, run the function to make hexbins, retaining both the result as `hexbins`."
   ]
  },
  {
   "cell_type": "code",
   "execution_count": null,
   "metadata": {},
   "outputs": [],
   "source": [
    "hexbins = get_hexbin_data(q)"
   ]
  },
  {
   "cell_type": "markdown",
   "metadata": {},
   "source": [
    "Don't worry for now about the goofy shape of the output, which is the raw result from the `pyplot.hexbin()` plot.\n",
    "\n",
    "Next we use a `geopandas` overlay operation to make a basemap we can use in a final map."
   ]
  },
  {
   "cell_type": "code",
   "execution_count": null,
   "metadata": {},
   "outputs": [],
   "source": [
    "# overlay the world data with the hexbins \n",
    "w = geopandas.overlay(world, hexbins, 'intersection')"
   ]
  },
  {
   "cell_type": "markdown",
   "metadata": {},
   "source": [
    "And now we can build our map."
   ]
  },
  {
   "cell_type": "code",
   "execution_count": null,
   "metadata": {},
   "outputs": [],
   "source": [
    "fig = pyplot.figure(figsize=(5,8))\n",
    "base = fig.add_subplot(111)\n",
    "\n",
    "# plot the world data\n",
    "w.plot(ax=base, facecolor='grey')\n",
    "# plot the hexbins\n",
    "hexbins.plot(ax=base, column='n', cmap='Reds', alpha=0.5)"
   ]
  },
  {
   "cell_type": "markdown",
   "metadata": {},
   "source": [
    "Now, we are ready to put everything together and complete the assignment.  "
   ]
  },
  {
   "cell_type": "markdown",
   "metadata": {},
   "source": [
    "# Assignment instructions\n",
    "So... here's what you are required to do.\n",
    "\n",
    "First, **save a new copy of this notebook to work in**. Include your name in the file name, so it will be easy to keep track of whose work it is.\n",
    "\n",
    "Then using an **appropriate equal area projection** (recall that you can use [this website](http://projectionwizard.org/) to discover the PROJ4 code for suitable projections) make a second hexbin map to go alongside the base one in the code cell below. \n",
    "\n",
    "To do this, you'll want to use the `to_crs()` function on the quakes `q` dataset. You will also need to apply the same projection to the `world` dataset to get the basemap right. Make sure you make a new variable when you do these transformation, or things will probably get confused (call them something like `q_p` and `world_p`.\n",
    "\n",
    "When you have successfully made these maps, compare them. Have the apparent hotspots moved? To what do you attribute the movement (if any)? Comment on these or any other aspects (particularly the coding challenges) in the plain text cell below the code cell.\n",
    "\n",
    "You should complete the code cell below, and also the cell that follows with any commentary.\n",
    "\n",
    "**When you are finished, save the completed notebook for upload to the dropbox provided on blackboard.**"
   ]
  },
  {
   "cell_type": "markdown",
   "metadata": {},
   "source": [
    "### Below is the code cell you should work in\n",
    "You may find it useful to make a duplicate of it before you start."
   ]
  },
  {
   "cell_type": "code",
   "execution_count": null,
   "metadata": {},
   "outputs": [],
   "source": [
    "## Make a two panel plot for the two hexbin maps\n",
    "fig = pyplot.figure(figsize=(9,9)) # you might want to change the size\n",
    "fig.suptitle(\"A comparison of hexbin maps across two projections\", fontsize=16)\n",
    "\n",
    "ax = fig.add_subplot(121)\n",
    "ax.set_title('CRS: ' + str(q.crs))\n",
    "\n",
    "hexbins = get_hexbin_data(q, show=False)\n",
    "w = geopandas.overlay(world, hexbins, 'intersection')\n",
    "\n",
    "w.plot(ax=ax, facecolor='gray')\n",
    "hexbins.plot(ax=ax, column='n', cmap=\"Reds\", alpha=0.75)\n",
    "\n",
    "## Equal-area hexbins in panel 2\n",
    "## Find an appropriate equal area projection and\n",
    "## include it in the code outlined below\n",
    "ax = fig.add_subplot(122)\n",
    "# proj = \n",
    "# ax.set_title()\n",
    "# reproject the quakes and world datasets\n",
    "# and redo the hexbin mapping\n"
   ]
  },
  {
   "cell_type": "markdown",
   "metadata": {},
   "source": [
    "### Below you can provide commentary on your answer\n",
    "Double-click to edit"
   ]
  },
  {
   "cell_type": "markdown",
   "metadata": {},
   "source": []
  }
 ],
 "metadata": {
  "kernelspec": {
   "display_name": "Python 3",
   "language": "python",
   "name": "python3"
  },
  "language_info": {
   "codemirror_mode": {
    "name": "ipython",
    "version": 3
   },
   "file_extension": ".py",
   "mimetype": "text/x-python",
   "name": "python",
   "nbconvert_exporter": "python",
   "pygments_lexer": "ipython3",
   "version": "3.7.1"
  }
 },
 "nbformat": 4,
 "nbformat_minor": 2
}
