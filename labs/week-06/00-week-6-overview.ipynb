{
 "cells": [
  {
   "cell_type": "markdown",
   "metadata": {},
   "source": [
    "#### GISC 425 T1 2020\n",
    "# Week 6 overview"
   ]
  },
  {
   "cell_type": "markdown",
   "metadata": {},
   "source": [
    "Thenre is one notebook covering most of the capabilities of `geopandas`:\n",
    "+ [Using `geopandas` as a GIS](01-using-geopandas-as-a-gis.ipynb)"
   ]
  },
  {
   "cell_type": "markdown",
   "metadata": {},
   "source": [
    "There is a further asking you to use what you learn from the first notebook, to solve a standard GIS data manipulation problem:\n",
    "+ [Doing GIS with `geopandas`](02-lab-assignment-4-geopandas-gis.ipynb)"
   ]
  }
 ],
 "metadata": {
  "kernelspec": {
   "display_name": "Python 3",
   "language": "python",
   "name": "python3"
  },
  "language_info": {
   "codemirror_mode": {
    "name": "ipython",
    "version": 3
   },
   "file_extension": ".py",
   "mimetype": "text/x-python",
   "name": "python",
   "nbconvert_exporter": "python",
   "pygments_lexer": "ipython3",
   "version": "3.7.6"
  }
 },
 "nbformat": 4,
 "nbformat_minor": 2
}
