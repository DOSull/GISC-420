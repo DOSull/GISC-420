{
 "cells": [
  {
   "cell_type": "code",
   "execution_count": null,
   "metadata": {},
   "outputs": [],
   "source": [
    "# You need to run this cell to get things setup\n",
    "%matplotlib inline\n",
    "\n",
    "import matplotlib\n",
    "import matplotlib.pyplot as pyplot\n",
    "\n",
    "import geopandas\n",
    "\n",
    "import copy"
   ]
  },
  {
   "cell_type": "markdown",
   "metadata": {},
   "source": [
     "#### GISC 425 T1 2019\n",
    "# Lab assignment 4: Doing GIS with `geopandas`"
   ]
  },
  {
   "cell_type": "markdown",
   "metadata": {},
   "source": [
    "## Grab the data\n",
    "Three datasets are provided:\n",
    "\n",
    "+ census population counts for Wellington City from the 2013 Census. These were obtained from [koordinates.com](https://koordinates.com) and from [stats.govt.nz](https://stats.govt.nz)\n",
    "+ New Zealand road centrelines assembled by [LINZ](https://linz.govt.nz) and served by [koordinates.com](https://koordinates.com)\n",
    "+ traffic accident data from [NZ Transport Agency](https://nzta.govt.nz/safety/safety-resources/road-safety-information-and-tools/disaggregated-crash-data/)\n",
    "\n",
    "It is worth pointing out that I did the necessary tidying of raw datasets entirely in `geopandas` to reduce these down to the Wellington City area only, and in the case of the accidents data to focus on 2017 only!\n",
    "\n",
    "Anyway, here they all are:"
   ]
  },
  {
   "cell_type": "code",
   "execution_count": null,
   "metadata": {},
   "outputs": [],
   "source": [
    "pop = geopandas.read_file('data/wgtn-2013-pop.geojson')\n",
    "rds = geopandas.read_file('data/wgtn-roads.shp')\n",
    "crashes = geopandas.read_file('data/crashes-2017.geojson')"
   ]
  },
  {
   "cell_type": "markdown",
   "metadata": {},
   "source": [
    "## Take a look at the data\n",
    "### First a map\n",
    "Once again, a reminder of making maps in `geopandas`."
   ]
  },
  {
   "cell_type": "code",
   "execution_count": null,
   "metadata": {},
   "outputs": [],
   "source": [
    "# Make the figure\n",
    "fig = pyplot.figure(figsize=(10,10))\n",
    "ax = fig.add_subplot(111)\n",
    "# Set background colour to grey\n",
    "ax.set_facecolor('lightgrey')\n",
    "ax.set_title(\"General map of assignment materials\")\n",
    "\n",
    "# Plot meshblock populations\n",
    "pop.plot(ax=ax, column='pop2013', cmap='Blues', alpha=0.8, legend=True)\n",
    "# Add the roads\n",
    "rds.plot(ax=ax, linewidth=0.35, color='r')\n",
    "# Add the crashes\n",
    "crashes.plot(ax=ax, color='k', markersize=1)"
   ]
  },
  {
   "cell_type": "markdown",
   "metadata": {},
   "source": [
    "### Then tables\n",
    "Also important to examine the data tables, so that you know variable names and so on."
   ]
  },
  {
   "cell_type": "code",
   "execution_count": null,
   "metadata": {},
   "outputs": [],
   "source": [
    "pop.head()"
   ]
  },
  {
   "cell_type": "code",
   "execution_count": null,
   "metadata": {},
   "outputs": [],
   "source": [
    "rds.head()"
   ]
  },
  {
   "cell_type": "code",
   "execution_count": null,
   "metadata": {},
   "outputs": [],
   "source": [
    "crashes.head()"
   ]
  },
  {
   "cell_type": "markdown",
   "metadata": {},
   "source": [
    "## The assignment\n",
    "This assignment challenges you to perform fairly simple GIS data manipulation using `geopandas`.\n",
    "\n",
    "The output requested a map of traffic accidents per km of road at Census Area Unit level"
   ]
  }
 ],
 "metadata": {
  "kernelspec": {
   "display_name": "Python 3",
   "language": "python",
   "name": "python3"
  },
  "language_info": {
   "codemirror_mode": {
    "name": "ipython",
    "version": 3
   },
   "file_extension": ".py",
   "mimetype": "text/x-python",
   "name": "python",
   "nbconvert_exporter": "python",
   "pygments_lexer": "ipython3",
   "version": "3.7.1"
  }
 },
 "nbformat": 4,
 "nbformat_minor": 2
}
