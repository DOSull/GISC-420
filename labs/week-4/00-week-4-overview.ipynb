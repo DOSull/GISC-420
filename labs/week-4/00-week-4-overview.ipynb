{
 "cells": [
  {
   "cell_type": "markdown",
   "metadata": {},
   "source": [
    "# Week 4 overview\n",
    "There isone notebook accompanying reading from [Think Python](https://greenteapress.com/wp/think-python-2e/):\n",
    "+ [Chapter 11 on dictionaries](01-dictionaries.ipynb)\n",
    "\n",
    "There is another notebooks with a related assignment:\n",
    "+ [Decoding LRI](02-lab-assignment-3-decode-LUC.ipynb)"
   ]
  },
  {
   "cell_type": "code",
   "execution_count": null,
   "metadata": {},
   "outputs": [],
   "source": []
  }
 ],
 "metadata": {
  "kernelspec": {
   "display_name": "Python 3.6",
   "language": "python",
   "name": "python36"
  },
  "language_info": {
   "codemirror_mode": {
    "name": "ipython",
    "version": 3
   },
   "file_extension": ".py",
   "mimetype": "text/x-python",
   "name": "python",
   "nbconvert_exporter": "python",
   "pygments_lexer": "ipython3",
   "version": "3.8.1"
  }
 },
 "nbformat": 4,
 "nbformat_minor": 4
}
