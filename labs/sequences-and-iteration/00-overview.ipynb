{
 "cells": [
  {
   "cell_type": "markdown",
   "metadata": {},
   "source": [
    "#### GISC 420 T1 2020\n",
    "# Week 3 overview"
   ]
  },
  {
   "cell_type": "markdown",
   "metadata": {},
   "source": [
    "Thenre are three notebooks accompanying reading from _Think Python_:\n",
    "+ [Chapter 7 on iteration](01-iteration.ipynb)\n",
    "+ [Chapter 8 on strings](02-strings.ipynb)\n",
    "+ [Chapter 10 on lists](03-lists.ipynb)"
   ]
  },
  {
   "cell_type": "markdown",
   "metadata": {},
   "source": [
    "There is a further notebook exploring these concepts in a spatial context, which also includes a new assignment:\n",
    "+ [ASSIGNMENT 2: Tissot's indicatrix](04-lab-assignment-2-tissot.ipynb)"
   ]
  }
 ],
 "metadata": {
  "kernelspec": {
   "display_name": "Python 3",
   "language": "python",
   "name": "python3"
  },
  "language_info": {
   "codemirror_mode": {
    "name": "ipython",
    "version": 3
   },
   "file_extension": ".py",
   "mimetype": "text/x-python",
   "name": "python",
   "nbconvert_exporter": "python",
   "pygments_lexer": "ipython3",
   "version": "3.8.6"
  }
 },
 "nbformat": 4,
 "nbformat_minor": 2
}
