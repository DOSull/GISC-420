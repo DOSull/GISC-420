{
 "cells": [
  {
   "cell_type": "markdown",
   "metadata": {},
   "source": [
    "#### GISC 420 T1 2021\n",
    "# The `list` type\n",
    "This notebook reviews material covered in Chapter 10 of [Think Python](https://greenteapress.com/wp/think-python-2e/).\n",
    "\n",
    "Lists are a fundamental data type used in Python. They are absolutely central to the power of the language for dealing with large amounts of data.'\n",
    "\n",
    "Like strings, lists are sequences, but they can contain not just letters, but any kind of data. Lists are denoted by square brackets `[]`"
   ]
  },
  {
   "cell_type": "code",
   "execution_count": null,
   "metadata": {},
   "outputs": [],
   "source": [
    "small_primes = [2, 3, 5, 7, 11, 13, 17, 19]\n",
    "len(small_primes), small_primes[0], 4 in small_primes, max(small_primes)"
   ]
  },
  {
   "cell_type": "markdown",
   "metadata": {},
   "source": [
    "We also see here some things you can do with a list. Like strings, `len()` tells us the length of the list. `[i]` retrieves the element at the i-th index position. The `in` operator tells us if the specified value is a member of the list. And `max` returns the largest value in the list.\n",
    "\n",
    "We can make a list from a string."
   ]
  },
  {
   "cell_type": "code",
   "execution_count": null,
   "metadata": {},
   "outputs": [],
   "source": [
    "letters = list('abcdefghijklmnopqrstuvwxyz')\n",
    "letters"
   ]
  },
  {
   "cell_type": "markdown",
   "metadata": {},
   "source": [
    "It is important to realise that a list does not have to contain elements that are all the same type."
   ]
  },
  {
   "cell_type": "code",
   "execution_count": null,
   "metadata": {},
   "outputs": [],
   "source": [
    "lst = ['a', 1, '23.5', [3, 4, 5]]\n",
    "lst"
   ]
  },
  {
   "cell_type": "markdown",
   "metadata": {},
   "source": [
    "Notice that one of the members of this list is **nested** list, i.e., a list inside a list. We can do this to arbitrary depth (if it makes sense to!)"
   ]
  },
  {
   "cell_type": "markdown",
   "metadata": {},
   "source": [
    "## Slices\n",
    "Lists can be sliced just like strings."
   ]
  },
  {
   "cell_type": "code",
   "execution_count": null,
   "metadata": {},
   "outputs": [],
   "source": [
    "letters[:5]"
   ]
  },
  {
   "cell_type": "markdown",
   "metadata": {},
   "source": [
    "## List functions\n",
    "Like strings, there are a number of list functions available. "
   ]
  },
  {
   "cell_type": "code",
   "execution_count": null,
   "metadata": {},
   "outputs": [],
   "source": [
    "five_letters = letters[:5]\n",
    "five_letters.append(\"f comes next\")\n",
    "five_letters"
   ]
  },
  {
   "cell_type": "code",
   "execution_count": null,
   "metadata": {},
   "outputs": [],
   "source": [
    "five_letters.reverse()\n",
    "five_letters"
   ]
  },
  {
   "cell_type": "code",
   "execution_count": null,
   "metadata": {},
   "outputs": [],
   "source": [
    "five_letters.sort()\n",
    "five_letters"
   ]
  },
  {
   "cell_type": "markdown",
   "metadata": {},
   "source": [
    "You can make a string from a list of strings, with the join function."
   ]
  },
  {
   "cell_type": "code",
   "execution_count": null,
   "metadata": {},
   "outputs": [],
   "source": [
    "''.join(letters)"
   ]
  },
  {
   "cell_type": "markdown",
   "metadata": {},
   "source": [
    "The important thing to realise with most list methods is they return a `None` value, but do change the value of the list. This is different from string methods, which return a new string, but don't change the value of the original string."
   ]
  },
  {
   "cell_type": "code",
   "execution_count": null,
   "metadata": {},
   "outputs": [],
   "source": [
    "letters2 = letters.sort()\n",
    "print(letters2)"
   ]
  },
  {
   "cell_type": "markdown",
   "metadata": {},
   "source": [
    "## Gotchas\n",
    "There are a number of gotchas with lists, which are discussed in Chapter 10. It's worth spending time in an interactive environment understanding these. The one just mentioned above about the methods returning `None` values is an important one that often causes confusion."
   ]
  }
 ],
 "metadata": {
  "kernelspec": {
   "display_name": "Python 3",
   "language": "python",
   "name": "python3"
  },
  "language_info": {
   "codemirror_mode": {
    "name": "ipython",
    "version": 3
   },
   "file_extension": ".py",
   "mimetype": "text/x-python",
   "name": "python",
   "nbconvert_exporter": "python",
   "pygments_lexer": "ipython3",
   "version": "3.8.6"
  }
 },
 "nbformat": 4,
 "nbformat_minor": 2
}
