{
 "cells": [
  {
   "cell_type": "markdown",
   "metadata": {},
   "source": [
    "#### GISC 420 T1 2022\n",
    "# Smart function signatures\n",
    "Python allows for great flexibility in the the 'signature' of your functions, so that you have flexibility as an end user in calling functions with default values, and including or not including various arguments at run-time. But it can all be a lot to get your head around. This notebook tries to explain a few of the possibilities."
   ]
  },
  {
   "cell_type": "markdown",
   "metadata": {},
   "source": [
    "## Default argument values\n",
    "The simplest possibility is to provide default values for some of the arguments. For example "
   ]
  },
  {
   "cell_type": "code",
   "execution_count": null,
   "metadata": {},
   "outputs": [],
   "source": [
    "def sentence(x, y = \"world!\"):\n",
    "    return \" \".join([x, y])"
   ]
  },
  {
   "cell_type": "markdown",
   "metadata": {},
   "source": [
    "This function definition expects 2 *positional* arguments when the function is called, but one of them will be assigned default values if you don't provide a value when you call the function. Hence"
   ]
  },
  {
   "cell_type": "code",
   "execution_count": null,
   "metadata": {},
   "outputs": [],
   "source": [
    "sentence(\"Hello\")"
   ]
  },
  {
   "cell_type": "markdown",
   "metadata": {},
   "source": [
    "but you can override the default value simply by providing it when you call the function:"
   ]
  },
  {
   "cell_type": "code",
   "execution_count": null,
   "metadata": {},
   "outputs": [],
   "source": [
    "sentence(\"Hello\", \"computer!\")"
   ]
  },
  {
   "cell_type": "markdown",
   "metadata": {},
   "source": [
    "## Arbitrary numbers of arguments\n",
    "You can specify a function definition such that an indeterminate number of arguments will be provided when the function is called, by prefixing an argument name with `*`. This will bundle any additional arguments passed to the function into a `tuple`."
   ]
  },
  {
   "cell_type": "code",
   "execution_count": null,
   "metadata": {},
   "outputs": [],
   "source": [
    "def sentence(greeting, *words):\n",
    "    if len(words) > 0:\n",
    "        return greeting + \" \" + \" \".join(words)\n",
    "    return greeting"
   ]
  },
  {
   "cell_type": "markdown",
   "metadata": {},
   "source": [
    "This function signature means that python expects one value, which will be assigned to the variable `greeting` followed by any number of other argument, which it will bundle into a `tuple` object with variable name (in this case) `words`. You can supply 0, 1, 2 or any number of additional arguments this way. "
   ]
  },
  {
   "cell_type": "code",
   "execution_count": null,
   "metadata": {},
   "outputs": [],
   "source": [
    "sentence(\"Hello\", \"to\", \"everyone\")"
   ]
  },
  {
   "cell_type": "code",
   "execution_count": null,
   "metadata": {},
   "outputs": [],
   "source": [
    "sentence(\"Hello\")"
   ]
  },
  {
   "cell_type": "markdown",
   "metadata": {},
   "source": [
    "By convention, the tuple of arguments is called `*args` in function definitions, but it doesn't have to be (as I've shown above). You'll see `*args` a lot in posts on stackoverflow and wherever, but there is nothing magical about that name, the important part about it is that is is prefixed with a `*`. \n",
    "\n",
    "You can even pass the tuple of additional arguments on to another function if you like, but you need to think carefully about how to do this. The `*` operator effectively unpacks the tuple into a series of values. Have a look at the example below."
   ]
  },
  {
   "cell_type": "code",
   "execution_count": null,
   "metadata": {},
   "outputs": [],
   "source": [
    "def sentence(greeting, *args):\n",
    "    if len(args) > 0:\n",
    "        args_as_tuple(args)\n",
    "        args_as_values(*args)\n",
    "        return greeting + \" \" + \" \".join(args)\n",
    "    else:\n",
    "        return \"You can't ask me to greet nobody!\"\n",
    "\n",
    "# this function expects a tuple\n",
    "def args_as_tuple(args):\n",
    "    print(args)\n",
    "    return None\n",
    "\n",
    "# this one expects at least two values, maybe more\n",
    "def args_as_values(a, b, *args):\n",
    "    print(f\"I got '{a}', '{b}', and {len(args)} more\")    \n",
    "\n",
    "sentence(\"Hello\", \"to\", \"one\", \"and\", \"all\")"
   ]
  },
  {
   "cell_type": "markdown",
   "metadata": {},
   "source": [
    "## Arbitrary named (keyword) arguments\n",
    "You can also allow for any number of additional named arguments to be passed to a function with a keyword arguments parameter prefixed by a double asterisk `**`. This will be received by the function as a dictionary."
   ]
  },
  {
   "cell_type": "code",
   "execution_count": null,
   "metadata": {},
   "outputs": [],
   "source": [
    "def format_record(**kwargs):\n",
    "    print(\"\\t\".join(kwargs.keys()))\n",
    "    print(\"\\t\".join(kwargs.values()))\n",
    "    return\n",
    "\n",
    "format_record(name = \"David\", familyname = \"O'Sullivan\", \n",
    "              job = \"Professor\")"
   ]
  },
  {
   "cell_type": "markdown",
   "metadata": {},
   "source": [
    "So this allows arbitrarily named argument to be passed into a function! However, inside the function they are only accessible as dictionary entries. The following won't work"
   ]
  },
  {
   "cell_type": "code",
   "execution_count": null,
   "metadata": {},
   "outputs": [],
   "source": [
    "def get_name(**kwargs):\n",
    "    print(f\"name is {name}\")\n",
    "    return\n",
    "\n",
    "get_name(name = \"David\", familyname = \"O'Sullivan\", \n",
    "              job = \"Professor\")"
   ]
  },
  {
   "cell_type": "markdown",
   "metadata": {},
   "source": [
    "But this is OK:"
   ]
  },
  {
   "cell_type": "code",
   "execution_count": null,
   "metadata": {},
   "outputs": [],
   "source": [
    "def get_name(**kwargs):\n",
    "    print(f\"name is {kwargs['name']}\")\n",
    "    return\n",
    "\n",
    "get_name(name = \"David\", familyname = \"O'Sullivan\", \n",
    "              job = \"Professor\")"
   ]
  },
  {
   "cell_type": "markdown",
   "metadata": {},
   "source": [
    "This approach can be powerful for building functions that can accept a lot of options. You can see it a lot in modules like `matplotlib` where endless lists of options can be passed to plotting functions."
   ]
  },
  {
   "cell_type": "markdown",
   "metadata": {},
   "source": [
    "## Putting it all together\n",
    "You can combine positional arguments (the standard ones), lists of arguments and keyword or named arguments but they must come in that order. Anything else will cause an error."
   ]
  },
  {
   "cell_type": "code",
   "execution_count": null,
   "metadata": {},
   "outputs": [],
   "source": [
    "def my_wild_function(a, power = 2, *args, **kwargs):\n",
    "    print(f\"a = {a}, power = {power}, there are {len(args)} additional arguments and the keyword arguments are {kwargs}\")\n",
    "\n",
    "my_wild_function(0, 2, 3, 4, name = \"David\")"
   ]
  },
  {
   "cell_type": "markdown",
   "metadata": {},
   "source": [
    "Notice here that python assigns values to all the positional arguments before starting to pull them from the `*args` tuple.\n",
    "\n",
    "But it's possible to call this all out of order and have odd things (many of them errors!) happen:"
   ]
  },
  {
   "cell_type": "code",
   "execution_count": null,
   "metadata": {},
   "outputs": [],
   "source": [
    "my_wild_function(0, 1, name = \"David\", 2)"
   ]
  },
  {
   "cell_type": "markdown",
   "metadata": {},
   "source": [
    "As indicated by this error, you can't  include an unnamed (positional argument) after a named argument. Nor can you name an argument out of the sequence that the function signature would cause to be its expected position:"
   ]
  },
  {
   "cell_type": "code",
   "execution_count": null,
   "metadata": {},
   "outputs": [],
   "source": [
    "my_wild_function(0, 1, power = 2)"
   ]
  },
  {
   "cell_type": "markdown",
   "metadata": {},
   "source": [
    "If you'd like only keyword arguments, that are named and have associated defaults, then you can have a 'dummy' `*` argument, and everything else will be a keyword argument."
   ]
  },
  {
   "cell_type": "code",
   "execution_count": null,
   "metadata": {},
   "outputs": [],
   "source": [
    "def my_wilder_function(*, v1, v2, v3 = \"stuff\"):\n",
    "    print(f\"I got {v1} {v2} {v3}\")\n",
    "    return None\n",
    "\n",
    "my_wilder_function(v1 = \"any\", v2 = \"old\")"
   ]
  },
  {
   "cell_type": "markdown",
   "metadata": {},
   "source": [
    "## Wrapping up\n",
    "The TL;DR; on all this is that all kinds of clever things are possible with function signatures to allow them to flexibly handle all kinds of alternative ways of being called. \n",
    "\n",
    "Experience suggests that it is best to start simple, and only worry later about tidying this stuff up when you have a good idea of the conditions in which your function will get called. By far the most useful generic function signature (I think) is one that looks something like\n",
    "\n",
    "    def fname(a, b, c = ..., d = ...):\n",
    "        # a and b will have to be provided when function is called\n",
    "        # c and d are optional and will have default values\n",
    "\n",
    "This gives you a lot of flexibility as you develop your code. Later, as you refine what you are doing, you can use some of the approaches above to refine your function signatures to provide the best options for users of your code."
   ]
  },
  {
   "cell_type": "markdown",
   "metadata": {},
   "source": []
  }
 ],
 "metadata": {
  "interpreter": {
   "hash": "b9476ba453617cf67dc901a6664618619892412b6f80972fafe3f677f6bd1d4c"
  },
  "kernelspec": {
   "display_name": "Python 3.9.7 ('g420')",
   "language": "python",
   "name": "python3"
  },
  "language_info": {
   "codemirror_mode": {
    "name": "ipython",
    "version": 3
   },
   "file_extension": ".py",
   "mimetype": "text/x-python",
   "name": "python",
   "nbconvert_exporter": "python",
   "pygments_lexer": "ipython3",
   "version": "3.9.7"
  },
  "orig_nbformat": 4
 },
 "nbformat": 4,
 "nbformat_minor": 2
}
