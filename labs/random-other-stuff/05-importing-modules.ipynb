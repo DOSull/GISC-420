{
 "cells": [
  {
   "cell_type": "markdown",
   "metadata": {},
   "source": [
    "#### GISC 420 T1 2022\n",
    "# Importing modules\n",
    "I've left this to the end to avoid messing with the 'namespace', because I am going to load the shapely `Point` class three different ways. This is something you should avoid doing, but it is important to know what is happening when you import a module or classes and functions from a module in various different ways.\n",
    "\n",
    "It's hard to write about this in a notebook, because reloading modules once they are loaded is confusing and more complicated than you would think. That's because to load a module, python has to run all the code to create all the associated functions and classes of the module, and so it doesn't needlessly reload something that has already been loaded.\n",
    "\n",
    "Anyway, imagine we want to use geometry classes from the `shapely` module. You will often see this kind of thing: "
   ]
  },
  {
   "cell_type": "code",
   "execution_count": null,
   "metadata": {},
   "outputs": [],
   "source": [
    "from shapely.geometry import Point\n",
    "\n",
    "p = Point((0, 0))\n",
    "print(p)"
   ]
  },
  {
   "cell_type": "markdown",
   "metadata": {},
   "source": [
    "Importing the `Point` class in this way makes it useable under the alias `Point`. A different way to import it would be"
   ]
  },
  {
   "cell_type": "code",
   "execution_count": null,
   "metadata": {},
   "outputs": [],
   "source": [
    "import shapely.geometry"
   ]
  },
  {
   "cell_type": "markdown",
   "metadata": {},
   "source": [
    "Now to use it we have to do"
   ]
  },
  {
   "cell_type": "code",
   "execution_count": null,
   "metadata": {},
   "outputs": [],
   "source": [
    "q = shapely.geometry.Point((0, 0))\n",
    "print(q)"
   ]
  },
  {
   "cell_type": "markdown",
   "metadata": {},
   "source": [
    "That seems like much more of a nuisance to type. _But_ it is self-documenting in a way that aliasing the class by `from shapely.geometry import Point` is not. Which should you use? Hard to say. A compromise might be"
   ]
  },
  {
   "cell_type": "code",
   "execution_count": null,
   "metadata": {},
   "outputs": [],
   "source": [
    "import shapely.geometry as geom\n",
    "\n",
    "r = geom.Point((0, 0))\n",
    "print(r) "
   ]
  },
  {
   "cell_type": "markdown",
   "metadata": {},
   "source": [
    "This combines the self-documenting aspect and the relatively concise (less typing!) notation. It's why you will often see popular libraries imported with widely used abbreviations, for example"
   ]
  },
  {
   "cell_type": "code",
   "execution_count": null,
   "metadata": {},
   "outputs": [],
   "source": [
    "import numpy as np\n",
    "import geopandas as gpd\n",
    "import pandas as pd\n",
    "import networkx as nx\n",
    "from matplotlib import pyplot"
   ]
  },
  {
   "cell_type": "markdown",
   "metadata": {},
   "source": [
    "It is sometimes wrongly assumed that if you import only the classes or functions from a module that you actually use that it will be quicker to run. This is _not_ the case. Python has to run the whole module either way (often a single class or function will depend on other other classes and functions in the module, so it has to load those into memory anyway). The one way in which performance might be affected is if you are repeatedly accessing a class or function in a loop. For example, this code using the 'fully-aliased' `Point` class reference"
   ]
  },
  {
   "cell_type": "code",
   "execution_count": null,
   "metadata": {},
   "outputs": [],
   "source": [
    "pts1 = []\n",
    "for i in range(10000):\n",
    "    pts1.append(Point())"
   ]
  },
  {
   "cell_type": "markdown",
   "metadata": {},
   "source": [
    "will probably run more quickly than this code"
   ]
  },
  {
   "cell_type": "code",
   "execution_count": null,
   "metadata": {},
   "outputs": [],
   "source": [
    "pts2 = []\n",
    "for i in range(10000):\n",
    "    pts2.append(shapely.geometry.Point())"
   ]
  },
  {
   "cell_type": "markdown",
   "metadata": {},
   "source": [
    "That's because each time you call the constructor method, the python interpreter has to find the class inside the module in the latter case. But you can fix this with"
   ]
  },
  {
   "cell_type": "code",
   "execution_count": null,
   "metadata": {},
   "outputs": [],
   "source": [
    "Pt = shapely.geometry.Point  # make a local reference to the Point class\n",
    "pts3 = []\n",
    "for i in range(10000):\n",
    "    pts3.append(Pt())"
   ]
  },
  {
   "cell_type": "markdown",
   "metadata": {},
   "source": [
    "Overall, I think it's best to do imports in a way that makes it easy for a reader to know what they are looking at without having to scroll back up to the top of the code to know what is being referenced. It also avoids problems with 'polluting the namespace', where two different modules might share some class or function names in common."
   ]
  }
 ],
 "metadata": {
  "interpreter": {
   "hash": "b9476ba453617cf67dc901a6664618619892412b6f80972fafe3f677f6bd1d4c"
  },
  "kernelspec": {
   "display_name": "Python 3.9.7 ('g420')",
   "language": "python",
   "name": "python3"
  },
  "language_info": {
   "codemirror_mode": {
    "name": "ipython",
    "version": 3
   },
   "file_extension": ".py",
   "mimetype": "text/x-python",
   "name": "python",
   "nbconvert_exporter": "python",
   "pygments_lexer": "ipython3",
   "version": "3.9.7"
  },
  "orig_nbformat": 4
 },
 "nbformat": 4,
 "nbformat_minor": 2
}
