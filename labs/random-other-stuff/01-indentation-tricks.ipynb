{
 "cells": [
  {
   "cell_type": "markdown",
   "metadata": {},
   "source": [
    "#### GISC 420 T1 2022\n",
    "# Indentation tricks (and why you should care)\n",
    "Python cares about indentation and that can make it scary to try to run long lines of code over multiple lines. There are a few things to know here that can help.\n",
    "\n",
    "## You can have line-breaks inside parantheses\n",
    "Any time you are inside parentheses (any kind, i.e., `(...)`, `[...]` and `{...}` all qualify!). \n",
    "\n",
    "So this may be OK:"
   ]
  },
  {
   "cell_type": "code",
   "execution_count": null,
   "metadata": {},
   "outputs": [],
   "source": [
    "a, b, x, y = 2, 3, 5, 7\n",
    "\n",
    "result = a * b * x ** 3 + 3 * a * b * x ** 2 * y + 3 * a * b * x * y ** 2 + a * b * y ** 3\n",
    "\n",
    "result"
   ]
  },
  {
   "cell_type": "markdown",
   "metadata": {},
   "source": [
    "But nicer is"
   ]
  },
  {
   "cell_type": "code",
   "execution_count": null,
   "metadata": {},
   "outputs": [],
   "source": [
    "result = (    a * b * x ** 3 + \n",
    "          3 * a * b * x ** 2 * y + \n",
    "          3 * a * b * x      * y ** 2 + \n",
    "              a * b          * y ** 3)\n",
    "\n",
    "result"
   ]
  },
  {
   "cell_type": "markdown",
   "metadata": {},
   "source": [
    "where generally your environment can use the parenthesis to produce more consistent and readable indentation, and you can even add extra spaces to make things line up nicely, hence also improving readability.\n",
    "\n",
    "It can be a little difficult to write about this because what works or doesn't work depends a lot on the tool you are using whether a notebook, a text editor or an IDE. The key is to know that generally you can have line breaks inside parentheses, or you can use `\\`\n",
    "\n",
    "So this will work too:"
   ]
  },
  {
   "cell_type": "code",
   "execution_count": null,
   "metadata": {},
   "outputs": [],
   "source": [
    "result =     a * b * x ** 3 + \\\n",
    "         3 * a * b * x ** 2 * y + \\\n",
    "         3 * a * b * x      * y ** 2 + \\\n",
    "             a * b          * y ** 3\n"
   ]
  },
  {
   "cell_type": "markdown",
   "metadata": {},
   "source": [
    "Sometimes you'll need the `\\` option because there just isn't a sensible place to include parentheses.\n",
    "\n",
    "## Why you should care\n",
    "Readability. Simple really. \n",
    "\n",
    "People don't hand long lines well. \n",
    "\n",
    "The computer couldn't care less if your line of code is 200 characters long. And if you are using a wide screen, maybe you don't care very much either. \n",
    "\n",
    "But you should. Books are generally repesented in 'portrait' orientation for a reason. Newspaper text is written in columns for similar reasons. And modern websites generally use narrow columns for the same reason. Other humans are the most important audience for your code and finding ways to keep it to no more than about 80 characters wide is well worth the effort involved.\n",
    "\n",
    "This can come into conflict with ideals like `long_expressive_variable_and_function_names` and fully qualified class names (like `geopandas.GeoDataFrame` but some discretion and application of good sense is required here. Usually, _in context_ you don't need a `function_name_that_explains_the_function_out_of_context()`. You just need names that make sense in the context where the function will be used, which will usually be shorter! "
   ]
  }
 ],
 "metadata": {
  "interpreter": {
   "hash": "b9476ba453617cf67dc901a6664618619892412b6f80972fafe3f677f6bd1d4c"
  },
  "kernelspec": {
   "display_name": "Python 3.9.7 ('g420')",
   "language": "python",
   "name": "python3"
  },
  "language_info": {
   "codemirror_mode": {
    "name": "ipython",
    "version": 3
   },
   "file_extension": ".py",
   "mimetype": "text/x-python",
   "name": "python",
   "nbconvert_exporter": "python",
   "pygments_lexer": "ipython3",
   "version": "3.9.7"
  },
  "orig_nbformat": 4
 },
 "nbformat": 4,
 "nbformat_minor": 2
}
