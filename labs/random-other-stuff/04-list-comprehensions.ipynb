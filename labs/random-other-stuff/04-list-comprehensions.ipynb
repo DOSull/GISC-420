{
 "cells": [
  {
   "cell_type": "code",
   "execution_count": null,
   "metadata": {},
   "outputs": [],
   "source": [
    "import random\n",
    "import math"
   ]
  },
  {
   "cell_type": "markdown",
   "metadata": {},
   "source": [
    "# List comprehensions and the `map` function\n",
    "## Comprehensions\n",
    "You must have run into code on stackoverflow (or wherever) that does things like this:"
   ]
  },
  {
   "cell_type": "code",
   "execution_count": null,
   "metadata": {},
   "outputs": [],
   "source": [
    "die_rolls = [random.randint(1, 6) for i in range(20)]\n",
    "die_rolls"
   ]
  },
  {
   "cell_type": "markdown",
   "metadata": {},
   "source": [
    "This style of iteration is called a _list comprehension_ and is a very widely used alternative to the more 'traditional'"
   ]
  },
  {
   "cell_type": "code",
   "execution_count": null,
   "metadata": {},
   "outputs": [],
   "source": [
    "die_rolls = []\n",
    "for i in range(20):\n",
    "    die_rolls.append(random.randint(1, 6))\n",
    "die_rolls"
   ]
  },
  {
   "cell_type": "markdown",
   "metadata": {},
   "source": [
    "Once you get used to the form of list comprehensions, they are kind of addictive. You can also apply the approach to dictionaries, for example"
   ]
  },
  {
   "cell_type": "code",
   "execution_count": null,
   "metadata": {},
   "outputs": [],
   "source": [
    "word = \"waitwut\"\n",
    "letters = {pos: letter for pos, letter in enumerate(word)}\n",
    "letters"
   ]
  },
  {
   "cell_type": "markdown",
   "metadata": {},
   "source": [
    "You can also use comprehensions to filter a list"
   ]
  },
  {
   "cell_type": "code",
   "execution_count": null,
   "metadata": {},
   "outputs": [],
   "source": [
    "[i for i in range(100) if i % 11 == 0]"
   ]
  },
  {
   "cell_type": "markdown",
   "metadata": {},
   "source": [
    "What are the attractions of comprehensions? Well... I would say there are at least three...\n",
    "\n",
    "### 1. The joy of cracking the code\n",
    "This is dumb, but I think undeniable. If you even remotely enjoy programming, then you enjoy solving puzzles, and there is pleasure to be had in solving puzzles in a clever way. List comprehensions fall under this category. They're smart, and you are smart if you can figure out how to use them, and it's fun to feel smart.\n",
    "\n",
    "### 2. Less typing\n",
    "This is also dumb, but also undeniable. Check out the simple examples above. The possible downside here is that more compact code can be harder to understand. Where this can get particularly hairy is nested comprehensions. For example\n",
    " "
   ]
  },
  {
   "cell_type": "code",
   "execution_count": null,
   "metadata": {},
   "outputs": [],
   "source": [
    "grid = [(x, y) for x in range(3) for y in range(3)]\n",
    "grid"
   ]
  },
  {
   "cell_type": "markdown",
   "metadata": {},
   "source": [
    "is equivalent to"
   ]
  },
  {
   "cell_type": "code",
   "execution_count": null,
   "metadata": {},
   "outputs": [],
   "source": [
    "grid = []\n",
    "for x in range(3):\n",
    "    for y in range(3):\n",
    "        grid.append((x, y))\n",
    "grid"
   ]
  },
  {
   "cell_type": "markdown",
   "metadata": {},
   "source": [
    "Just be careful with this kind of thing. It can quickly become (ironically) _incomprehensible_, if you try to do too much.\n",
    "\n",
    "### 3. Performance\n",
    "Comprehensions are quicker. We can show this with the `perf_counter` function in the `time` module."
   ]
  },
  {
   "cell_type": "code",
   "execution_count": null,
   "metadata": {},
   "outputs": [],
   "source": [
    "from time import perf_counter\n",
    "\n",
    "def list_trad(iterations):\n",
    "    t = perf_counter()\n",
    "    x = []\n",
    "    for i in range(iterations):\n",
    "        x.append(i * i)\n",
    "    return f\"list_trad did {iterations} items in {perf_counter() - t} sec\"\n",
    "    \n",
    "def list_comp(iterations):\n",
    "    t = perf_counter()\n",
    "    [i * i for i in range(iterations)]\n",
    "    return f\"list_comp did {iterations} items in {perf_counter() - t} sec\"\n",
    "\n",
    "n = 1_000_000\n",
    "list_trad(n), list_comp(n)"
   ]
  },
  {
   "cell_type": "markdown",
   "metadata": {},
   "source": [
    "You'll find that comprehensions are quicker&mdash;and not by a negligible amount. \n",
    "\n",
    "So... well worth getting to know list comprehensions and how to use them. But, if you are dealing in small lists, it probably doesn't matter a whole lot, and the greater readability of the traditional approach may be worth preserving.\n",
    "\n",
    "## The `map` function\n",
    "An alternative for iterating over lists is the builtin `map` function. `map` applies a function to the items in a list (or other iterable sequence) and returns a new iterable with the results of that function applied to each item."
   ]
  },
  {
   "cell_type": "code",
   "execution_count": null,
   "metadata": {},
   "outputs": [],
   "source": [
    "numbers = [i for i in range(1, 10)]\n",
    "result = map(math.sqrt, numbers)\n",
    "result"
   ]
  },
  {
   "cell_type": "markdown",
   "metadata": {},
   "source": [
    "The output from `map` is not an actual list, but an iterable object that you can unpack to a list with a list comprehension, or even with the `list()` constructor, so the list is only created if you actually want it as a list:"
   ]
  },
  {
   "cell_type": "code",
   "execution_count": null,
   "metadata": {},
   "outputs": [],
   "source": [
    "list(result)"
   ]
  },
  {
   "cell_type": "markdown",
   "metadata": {},
   "source": [
    "\n",
    "You can provide `map` with a builtin function like above, or with one of your own functions, or even with an inline _anonymous_ or so-called `lambda` function."
   ]
  },
  {
   "cell_type": "code",
   "execution_count": null,
   "metadata": {},
   "outputs": [],
   "source": [
    "result = map(lambda x: math.sqrt(x), numbers)\n",
    "[r for r in result]"
   ]
  },
  {
   "cell_type": "markdown",
   "metadata": {},
   "source": [
    "### Comparing the performance of `map` and comprehensions\n",
    "This is complicated. If you are defining an inline `lambda` function `map` is slower. If you are using an already existing function, it *might* be quicker. Note that in both these examples I use a comprehension to unpack the result into an actual list so that the comparison is fair.\n",
    "\n",
    "#### With an inline `lambda`\n",
    "Comprehension wins."
   ]
  },
  {
   "cell_type": "code",
   "execution_count": null,
   "metadata": {},
   "outputs": [],
   "source": [
    "def list_map(iterations):\n",
    "    t = perf_counter()\n",
    "    [r for r in map(lambda x: x * x, range(iterations))]\n",
    "    return f\"list_map did {iterations} items in {perf_counter() - t} sec\"\n",
    "\n",
    "n = 1_000_000\n",
    "list_comp(n), list_map(n)"
   ]
  },
  {
   "cell_type": "markdown",
   "metadata": {},
   "source": [
    "#### With an existing function\n",
    "In this case, `map` wins"
   ]
  },
  {
   "cell_type": "code",
   "execution_count": null,
   "metadata": {},
   "outputs": [],
   "source": [
    "def comp_sqrt(iterations):\n",
    "    t = perf_counter()\n",
    "    [math.sqrt(x) for x in range(iterations)]\n",
    "    return f\"comp_sqrt did {iterations} in {perf_counter() - t} sec\"\n",
    "\n",
    "def map_sqrt(iterations):\n",
    "    t = perf_counter()\n",
    "    [r for r in map(math.sqrt, range(iterations))]\n",
    "    return f\"map_sqrt did {iterations} in {perf_counter() - t} sec\"\n",
    "\n",
    "n = 1_000_000\n",
    "comp_sqrt(n), map_sqrt(n)"
   ]
  },
  {
   "cell_type": "markdown",
   "metadata": {},
   "source": [
    "I honestly don't really know why this is, and there's a lot of conflicting information out there about it on various websites. You can be clever about it and get python to show you the bytecode generated by different functions, but the more important thing is to know you have options, in terms of readability, performance and convenience. \n",
    "\n",
    "If you desperately need to squeeze out every ounce of performance like this, you probably shouldn't be programming in python in the first place. Or at the very least you should look for a module that already does what you are doing that has implemented the key features in C or Fortran and provides a pythonic API. `numpy` and `pandas` are good examples of this. (Don't ever write python code to handle matrices, use `numpy`. And if you are handling large data tables, use `pandas`.) `geopandas` is also improving quickly in this regard after a slow start.n \n",
    "\n",
    "It's a good idea in general to be careful when you find yourself iterating in pure python over large collections, especially if the iteration is nested. If a library provides a way of avoiding the dreaded `for` operator, then it is probably quicker, a good example being `pandas` `apply` function.\n",
    "\n",
    "But if just having the code run a bit quicker is desirable, it is definitely worth getting used to using comprehensions, and sometimes it may even be worth looking into using `map()`."
   ]
  },
  {
   "cell_type": "code",
   "execution_count": null,
   "metadata": {},
   "outputs": [],
   "source": []
  }
 ],
 "metadata": {
  "interpreter": {
   "hash": "b9476ba453617cf67dc901a6664618619892412b6f80972fafe3f677f6bd1d4c"
  },
  "kernelspec": {
   "display_name": "Python 3.9.7 ('g420')",
   "language": "python",
   "name": "python3"
  },
  "language_info": {
   "codemirror_mode": {
    "name": "ipython",
    "version": 3
   },
   "file_extension": ".py",
   "mimetype": "text/x-python",
   "name": "python",
   "nbconvert_exporter": "python",
   "pygments_lexer": "ipython3",
   "version": "3.9.7"
  },
  "orig_nbformat": 4
 },
 "nbformat": 4,
 "nbformat_minor": 2
}
