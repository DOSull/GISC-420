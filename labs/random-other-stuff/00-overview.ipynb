{
 "cells": [
  {
   "cell_type": "markdown",
   "metadata": {},
   "source": [
    "#### GISC 420 T1 2022\n",
    "# A bunch of random other stuff\n",
    "In these notebooks I look at a few other things you will inevitably run into in python, which we haven't covered so far.\n",
    "\n",
    "+ [Indentation tricks](01-indentations-tricks.ipynb)\n",
    "+ [Tuple unpacking](02-tuple-unpacking.ipynb)\n",
    "+ [Smart function signatures](03-smart-function-signatures.ipynb) \\[still under development\\]\n",
    "+ [List comprehensions and the `map` function](04-list-comprehensions.ipynb)\n",
    "+ [Importing modules](05-importing-modules.ipynb)"
   ]
  }
 ],
 "metadata": {
  "interpreter": {
   "hash": "b9476ba453617cf67dc901a6664618619892412b6f80972fafe3f677f6bd1d4c"
  },
  "kernelspec": {
   "display_name": "Python 3.9.7 ('g420')",
   "language": "python",
   "name": "python3"
  },
  "language_info": {
   "codemirror_mode": {
    "name": "ipython",
    "version": 3
   },
   "file_extension": ".py",
   "mimetype": "text/x-python",
   "name": "python",
   "nbconvert_exporter": "python",
   "pygments_lexer": "ipython3",
   "version": "3.8.10"
  },
  "orig_nbformat": 4
 },
 "nbformat": 4,
 "nbformat_minor": 2
}
