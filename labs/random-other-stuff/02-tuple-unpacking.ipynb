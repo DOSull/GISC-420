{
 "cells": [
  {
   "cell_type": "markdown",
   "metadata": {},
   "source": [
    "#### GISC 420 T1 2022\n",
    "# Tuple unpacking\n",
    "This is almost nothing.\n",
    "\n",
    "If you haven't realised it already, you can make tuples and unpack them 'inline'.\n",
    "\n",
    "So for example, you can do"
   ]
  },
  {
   "cell_type": "code",
   "execution_count": null,
   "metadata": {},
   "outputs": [],
   "source": [
    "x, y = 3, 4\n",
    "\n",
    "print(f\"x = {x}, y = {y}\")"
   ]
  },
  {
   "cell_type": "markdown",
   "metadata": {},
   "source": [
    "The most fun way to use this is if you need to swap two values for some reason."
   ]
  },
  {
   "cell_type": "code",
   "execution_count": null,
   "metadata": {},
   "outputs": [],
   "source": [
    "x, y = y, x\n",
    "\n",
    "print(f\"x = {x}, y = {y}\")"
   ]
  },
  {
   "cell_type": "markdown",
   "metadata": {},
   "source": [
    "The right hand side makes a tuple `(4, 3)` 'on the fly' and the left-hand side makes another one on the fly so the overall effect is to assign the value of `x` to `y` and vice-versa. \n",
    "\n",
    "In other languages you would need a temporary variable like this"
   ]
  },
  {
   "cell_type": "code",
   "execution_count": null,
   "metadata": {},
   "outputs": [],
   "source": [
    "temp = y   # store the value of y so it isn't lost\n",
    "y = x      # when you do this\n",
    "x = temp   # then assign x the stored value of y\n",
    "\n",
    "print(f\"x = {x}, y = {y}\")"
   ]
  },
  {
   "cell_type": "markdown",
   "metadata": {},
   "source": [
    "And if you don't use tuple unpacking or a temporary variable you can see the problem"
   ]
  },
  {
   "cell_type": "code",
   "execution_count": null,
   "metadata": {},
   "outputs": [],
   "source": [
    "x = y   # x gets y's value\n",
    "y = x   # y gets x's value (which is y's original value)\n",
    "\n",
    "print(f\"x = {x}, y = {y}\")"
   ]
  },
  {
   "cell_type": "markdown",
   "metadata": {},
   "source": [
    "Tuple unpacking is one of those fun little python tricks that feels a bit like cheating every time you use it... I like it!"
   ]
  }
 ],
 "metadata": {
  "interpreter": {
   "hash": "b9476ba453617cf67dc901a6664618619892412b6f80972fafe3f677f6bd1d4c"
  },
  "kernelspec": {
   "display_name": "Python 3.9.7 ('g420')",
   "language": "python",
   "name": "python3"
  },
  "language_info": {
   "codemirror_mode": {
    "name": "ipython",
    "version": 3
   },
   "file_extension": ".py",
   "mimetype": "text/x-python",
   "name": "python",
   "nbconvert_exporter": "python",
   "pygments_lexer": "ipython3",
   "version": "3.9.7"
  },
  "orig_nbformat": 4
 },
 "nbformat": 4,
 "nbformat_minor": 2
}
